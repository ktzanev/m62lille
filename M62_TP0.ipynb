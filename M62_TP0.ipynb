{
 "cells": [
  {
   "cell_type": "markdown",
   "metadata": {},
   "source": [
    "![Département de Mathématiques](https://ktzanev.github.io/logolabopp/math-ulille/math-ulille_100.gif)\n",
    "\n",
    "# TP 0 - Conseilles et astuces (i)Python\n",
    "\n",
    "Dans ce TP on va essayer de (re)voir quelques points particuliers dans la programmation Python et plus particulièrement d'iPython avec Jupyter Notebook.\n",
    "\n",
    "**Pour passer d'une cellule à la suivante en l'exécutant il suffit de faire <kbd>Maj.+Entrée</kbd> (<kbd>Shift+Enter</kbd>).**\n",
    "\n",
    "*Et pour voir les autre touches de raccourci, il faut faire <kbd>H</kbd> (si vous êtes en train d'éditer une cellule il faut d'abord sortir du mode « édition » avec <kbd>Esc</kbd>).*"
   ]
  },
  {
   "cell_type": "markdown",
   "metadata": {},
   "source": [
    "## Attribution de plusieurs valeurs\n",
    "\n",
    "En Python on peut attribuer plusieurs valeurs en même temps de la façon suivante :"
   ]
  },
  {
   "cell_type": "code",
   "execution_count": null,
   "metadata": {},
   "outputs": [],
   "source": [
    "a, b, c = 0, 1, 2\n",
    "print(\"la valeur de b est\",b)\n",
    "print(\"la valeur de a est\",a)"
   ]
  },
  {
   "cell_type": "markdown",
   "metadata": {},
   "source": [
    "## Résultats textuels\n",
    "\n",
    "Très souvent on souhaite imprimer les résultats numériques accompagnés d'un texte. Pour cela, on peut utiliser \n",
    "```python\n",
    "print(\"la valeur de b est\" , b, \"la valeur de a est\", a )\n",
    "```\n",
    "La méthode la plus récente (introduite dans Python 3.6) est d'utiliser les `f-string` :\n",
    "```python\n",
    "print(f'Le résultat de la somme de {b} et {c} est {b + c}.')\n",
    "```"
   ]
  },
  {
   "cell_type": "code",
   "execution_count": null,
   "metadata": {},
   "outputs": [],
   "source": [
    "a, b, c = 0, 1, 2\n",
    "print(\"La valeur de b est\" , b, \", la valeur de c est\", c , \"leur somme est\", b + c)\n",
    " \n",
    "print(f'Le résultat de la somme de {b} et {c} est {b + c}.')"
   ]
  },
  {
   "cell_type": "markdown",
   "metadata": {},
   "source": [
    "Pour en savoir plus sur les formatages possibles des paramètres vous pouvez consulter\n",
    "- [Python String Formatting Best Practices](https://realpython.com/python-string-formatting/)"
   ]
  },
  {
   "cell_type": "markdown",
   "metadata": {},
   "source": [
    "On peut concaténer deux chaînes de caractères en utilisant simplement l'opération `+`."
   ]
  },
  {
   "cell_type": "code",
   "execution_count": null,
   "metadata": {},
   "outputs": [],
   "source": [
    "sb = f\"la valeur de b est {b}\"\n",
    "sc = f\", la valeur de c est {c}\"\n",
    "s = sb + sc\n",
    "print(s)"
   ]
  },
  {
   "cell_type": "markdown",
   "metadata": {},
   "source": [
    "## Les fonctions\n",
    "\n",
    "Pour définir une fonction $f:\\mathbb{R}\\to\\mathbb{R}$ il existe deux méthodes simples :\n",
    "- la méthode « classique » qui utilise `def` : bien adaptée à tout type de fonctions (y compris non mathématiques) ;\n",
    "- la méthode « lambda » qui utilise `lambda` : particulièrement adaptée aux fonctions « en une ligne » mathématiques de la forme $x\\mapsto\\dots$."
   ]
  },
  {
   "cell_type": "code",
   "execution_count": null,
   "metadata": {},
   "outputs": [],
   "source": [
    "# la méthode par fonction « classique »\n",
    "def f(x):\n",
    "    return x**2 + 1\n",
    "\n",
    "# test\n",
    "x = 1\n",
    "print(f\"f({x}) = {f(x)}\")\n",
    "\n",
    "# la méthode « lambda »\n",
    "f = lambda x: x**2 + 1\n",
    "\n",
    "# test\n",
    "x = 2\n",
    "print(f\"f({x}) = {f(x)}\")"
   ]
  },
  {
   "cell_type": "markdown",
   "metadata": {},
   "source": [
    "### Les tuples"
   ]
  },
  {
   "cell_type": "markdown",
   "metadata": {},
   "source": [
    "Un **tuple** est une suite d'objets entre parenthèses '('objet1,objet2,...')'. Les tuples ne sont pas « mutables », c'est-à-dire qu'on ne peut pas modifier les valeurs des objets du tuple. (Lors de la déclaration, on peut omettre les parenthèses, elles sont ajoutées par défaut)."
   ]
  },
  {
   "cell_type": "code",
   "execution_count": null,
   "metadata": {},
   "outputs": [],
   "source": [
    "# un tuple\n",
    "suite_tuple = 1, 2, 3, [1, 2, 3], \"je suis le 5e objet de ce tuple, d'indice 4\"\n",
    "print(suite_tuple)\n",
    "print(suite_tuple[4])"
   ]
  },
  {
   "cell_type": "markdown",
   "metadata": {},
   "source": [
    "- On accède au différents d'objets du tuple en faisant suive le nom de la variable par le numéro de l'objet souhaité. Attention, le premier objet porte le numéro 0, le second le numéro 1, ... \n",
    "- On obtient la longueur du tuple pr la fonction `len()`.\n",
    "- On peut aussi accéder aux objets en partant de la fin : le numéro -1 correspond au dernier objet, le -2 au pénultième, le -3 à l'antépénultième... \n",
    "- On peut les concaténer avec l'opérateur `+`."
   ]
  },
  {
   "cell_type": "code",
   "execution_count": null,
   "metadata": {},
   "outputs": [],
   "source": [
    "suite_tuple = 1, 2, 3, [1, 2, 3], \"je suis le 5e objet de ce tuple, d'indice 4, et d'indice -1\"\n",
    "\n",
    "print('numéro 0 :', suite_tuple[0])\n",
    "print('numéro 1 :', suite_tuple[1])\n",
    "print('numéro 3 :', suite_tuple[3])\n",
    "\n",
    "print()\n",
    "print(\"longeur de ce tuple : \", len(suite_tuple))\n",
    "\n",
    "print()\n",
    "print('numéro -1 :', suite_tuple[-1])\n",
    "print('numéro -3 :', suite_tuple[-3])\n",
    "\n",
    "# Concaténation de deux tuples\n",
    "somme_tuple = suite_tuple + (\"j'ajoute ça\", \"ça\", \"et ça\")\n",
    "print()\n",
    "print(\"Le tuple résultant de la concaténation :\")\n",
    "print(somme_tuple)\n",
    "print('numéro -3 :', somme_tuple[-2])\n",
    "print(\"longueur de ce nouveau tuple : \", len(somme_tuple))"
   ]
  },
  {
   "cell_type": "markdown",
   "metadata": {},
   "source": [
    "Remarquez qu'on avait déjà utilisé des tuples dans la premières case de ce TP. \n",
    "`a,b,c = 1,2,3` peut s'écrire aussi `(a,b,c) = (1,2,3)`.\n",
    "\n",
    "Python crée provisoirement un tuple (disons *tmp*) auquel il attribue les valeurs (1,2,3). \n",
    "Il crée aussi trois variables a,b,c auxquelles il attribue les valeurs a=*tmp*[0], b=*tmp*[1], c=*tmp*[2]."
   ]
  },
  {
   "cell_type": "markdown",
   "metadata": {},
   "source": [
    "Finalement notons que les chaînes de caractères sont en fait des tuples."
   ]
  },
  {
   "cell_type": "code",
   "execution_count": null,
   "metadata": {},
   "outputs": [],
   "source": [
    "suite_tuple = 1,2,3,[1,2,3],\"je suis le 5e objet de ce tuple\"\n",
    "somme_tuple = suite_tuple + (\"j'ajoute ça\", \"ça\", \"et ça\")\n",
    "\n",
    "chaine = somme_tuple[-3]\n",
    "print(chaine)\n",
    "print()\n",
    "print(chaine[0], chaine[1], chaine[4:6], chaine[-4], chaine[-2], chaine[-1])"
   ]
  },
  {
   "cell_type": "markdown",
   "metadata": {},
   "source": [
    "## Les Listes"
   ]
  },
  {
   "cell_type": "markdown",
   "metadata": {},
   "source": [
    "Les **listes** sont des suites d'objets entre crochets `['objet1,objet2,...']` qui contrairement aux tuples sont modifiables."
   ]
  },
  {
   "cell_type": "code",
   "execution_count": null,
   "metadata": {},
   "outputs": [],
   "source": [
    "# une liste\n",
    "suite_liste = [1, 2, 3, [1, 2, 3], \"je suis le 5e objet de cette liste\"]\n",
    "print(suite_liste)\n",
    "print('numéro 0 :', suite_liste[0])\n",
    "print('numéro 1 :', suite_liste[1])\n",
    "print('numéro 3 :', suite_liste[3])\n",
    "\n",
    "print()\n",
    "print(\"longeur de cette liste : \", len(suite_liste))\n",
    "\n",
    "print()\n",
    "print('numéro -1 :', suite_liste[-1])\n",
    "print('numéro -3 :', suite_liste[-3])\n",
    "\n",
    "# Concaténation de deux listes\n",
    "somme_liste = suite_liste + [\"j'ajoute ça\", \"ça\", \"et ça\"]\n",
    "print()\n",
    "print(\"Le liste résultant de la concaténation :\")\n",
    "print(somme_liste)\n",
    "print('numéro -3 :', somme_liste[-2])\n",
    "print(\"longeur de la nouvelle liste : \", len(somme_liste))"
   ]
  },
  {
   "cell_type": "markdown",
   "metadata": {},
   "source": [
    "La différence principale est qu'on peut modifier les objets de la liste."
   ]
  },
  {
   "cell_type": "code",
   "execution_count": null,
   "metadata": {},
   "outputs": [],
   "source": [
    "suite_liste = [1, 2, 3, [1, 2, 3], \"je suis le 5e objet de cette liste\"]\n",
    "print(suite_liste)\n",
    "\n",
    "suite_liste[0] = 12\n",
    "print(suite_liste)\n",
    "\n",
    "suite_liste[3][1] = 1000\n",
    "print(suite_liste)"
   ]
  },
  {
   "cell_type": "markdown",
   "metadata": {},
   "source": [
    "On peut aussi renverser l'ordre d'une liste avec la méthode `.reverse()` et ajouter des éléments à la liste avec la méthode `.append()`."
   ]
  },
  {
   "cell_type": "code",
   "execution_count": null,
   "metadata": {},
   "outputs": [],
   "source": [
    "suite_liste = [1,2,3,[1,2,3],\"je suis le 5ieme objet de cette liste\"]\n",
    "print(suite_liste)\n",
    "\n",
    "suite_liste.reverse()\n",
    "print(suite_liste)\n",
    "\n",
    "suite_liste.reverse()\n",
    "print(suite_liste)\n",
    "\n",
    "suite_liste.append(1024)\n",
    "print(suite_liste)\n",
    "\n",
    "suite_liste[3].append(4)\n",
    "print(suite_liste)\n",
    "\n",
    "suite_liste[3].reverse()\n",
    "print(suite_liste)\n",
    "\n",
    "print()\n",
    "\n",
    "suite_liste.append(suite_liste[3])\n",
    "print(suite_liste)"
   ]
  },
  {
   "cell_type": "markdown",
   "metadata": {},
   "source": [
    "**Attention**, quand on définit une liste avec un objet `a`, si on modifie `a` en dehors, il est aussi modifié dans la liste : c'est le même objet !"
   ]
  },
  {
   "cell_type": "code",
   "execution_count": null,
   "metadata": {},
   "outputs": [],
   "source": [
    "suite_liste[3][0] = 5\n",
    "print(suite_liste)\n",
    "print()\n",
    "print(suite_liste[3])\n",
    "print(suite_liste[-1])"
   ]
  },
  {
   "cell_type": "markdown",
   "metadata": {},
   "source": [
    "Le phénomène précédent est source d'erreur. Il faut bien y faire attention, d'autant qu'il n'a pas toujours lieu :"
   ]
  },
  {
   "cell_type": "code",
   "execution_count": null,
   "metadata": {},
   "outputs": [],
   "source": [
    "# EXEMPLE 1\n",
    "lst = [1, 2, 3]\n",
    "liste = [lst]\n",
    "print(\"lst =\", lst, \", la liste contenant pour seul élément lst : liste=\", liste)\n",
    "print(\"On modifie l'élément de liste.\")\n",
    "liste[0] = [1, 2, 4]\n",
    "print(\"La liste modifiée : liste=\", liste)\n",
    "print(\"La valeur de lst n'a pas été modifiée : lst=\", lst)\n",
    "print()\n",
    "\n",
    "# EXEMPLE 2\n",
    "print(\"Par contre :\")\n",
    "lst = [1, 2, 3]\n",
    "liste = [lst]\n",
    "print(\"lst =\", lst, \", la liste contenant pour seul élément lst : liste=\", liste)\n",
    "print(\"On modifie un élément de l'élément de liste.\")\n",
    "liste[0][-1] = 5\n",
    "print(\"La liste modifiée : liste=\", liste)\n",
    "print(\"Cette fois lst a été modifiée : lst=\", lst)\n",
    "print()"
   ]
  },
  {
   "cell_type": "markdown",
   "metadata": {},
   "source": [
    "Comment comprendre le code précédent ? Les noms de variables pointent vers des objets. Plusieurs noms peuvent pointer vers le même objet. C'est le cas de `lst` est `liste[0]` plus haut.\n",
    "\n",
    "Dans les deux exemples ci-dessus, `lst` et `liste[0]` pointent d'abord vers le même objet qu'on va appeler *obj* et qui est la liste `[1,2,3]`.\n",
    "\n",
    "Dans l'exemple 1. L'effet de l'instruction `liste[0]=[1,2,4]` est de faire pointer `liste[0]` vers l'objet nouvellement créé `[1,2,4]` et `lst` n'est pas affecté, il pointe toujours vers l'objet *obj*=`[1,2,3]`.\n",
    "\n",
    "Dans l'exemple 2, l'instruction `liste[0][-1]=5` modifie le dernier élément de *obj*. Après cette instruction *obj* est la liste `[1,2,5]`. Aucun nouvel objet n'a été créé et `lst` et `liste[0]` pointent toujours tous les deux vers *obj*."
   ]
  },
  {
   "cell_type": "markdown",
   "metadata": {},
   "source": [
    "**Slices :** on peut extraire des « tranches » de listes. Pour les quatre premiers éléments de la liste `liste`, on fait\n",
    "```python\n",
    "liste[0:4]\n",
    "```\n",
    "Pour trois derniers éléments, on fait\n",
    "```python\n",
    "liste[-3:]\n",
    "```\n",
    "Pour extraire toute la liste sauf les deux derniers éléments,\n",
    "```python\n",
    "liste[:-2]\n",
    "```\n",
    "Pour extraire toute la liste sauf les deux premiers et le dernier éléments,\n",
    "```python\n",
    "liste[2:-1]\n",
    "```"
   ]
  },
  {
   "cell_type": "code",
   "execution_count": null,
   "metadata": {},
   "outputs": [],
   "source": [
    "liste = [1, 2, 3, 4, 5, 6, 7, 8, 9, 10]\n",
    "print(\"la liste :\", liste)\n",
    "debut = liste[0:4]\n",
    "print('debut=', debut)\n",
    "fin = liste[-3:]\n",
    "print('fin=', fin)\n",
    "sauf_la_fin = liste[:-2]\n",
    "print('la liste sauf la fin=', sauf_la_fin)\n",
    "coeur = liste[2:-1]\n",
    "print('le coeur de la liste=', coeur)"
   ]
  },
  {
   "cell_type": "markdown",
   "metadata": {},
   "source": [
    "## Les boucles `for` "
   ]
  },
  {
   "cell_type": "markdown",
   "metadata": {},
   "source": [
    "**Boucles `for`** :\n",
    "Pour répéter une suite d'instructions un nombre prédéterminé ($N$) de fois, on utilise une boucle `for`. Autre exemple : le code suivant effectue la somme des nombres de 1 à N-1."
   ]
  },
  {
   "cell_type": "code",
   "execution_count": null,
   "metadata": {},
   "outputs": [],
   "source": [
    "N = 6\n",
    "i, somme, chaine, liste = 1, 0, \"\", []\n",
    "print(f\"Au départ, somme={somme}, liste = {liste}\")\n",
    "print()\n",
    "\n",
    "for i in range(1, N):\n",
    "    liste.append(i)\n",
    "    somme = somme + i\n",
    "    chaine = f\"{chaine} + {i}\" if i > 1 else f\"{i}\"\n",
    "    print(f\"On est à l'étape {i} de la boucle, liste={liste}\")\n",
    "    print(f\"La somme {chaine} vaut {somme}.\\n\")\n",
    "\n",
    "print(f\"Au final, somme={somme}, liste={liste}\")"
   ]
  },
  {
   "cell_type": "markdown",
   "metadata": {},
   "source": [
    "Ci-dessous, un script dans « l'esprit de python » qui effectue les mêmes opérations."
   ]
  },
  {
   "cell_type": "code",
   "execution_count": null,
   "metadata": {},
   "outputs": [],
   "source": [
    "chaine= \"+\".join([str(l) for l in liste])"
   ]
  },
  {
   "cell_type": "code",
   "execution_count": null,
   "metadata": {},
   "outputs": [],
   "source": [
    "N = 5\n",
    "for (liste, ordre) in [(range(1, N + 1), \"croissant\"), (range(N, 0, -1), \"décoissant\")]:\n",
    "    somme = sum(liste)\n",
    "    chaine = \"+\".join([str(l) for l in liste])\n",
    "    print(f\"En sommant dans l'ordre {ordre} : la somme {chaine} vaut {somme}.\\n\")"
   ]
  },
  {
   "cell_type": "markdown",
   "metadata": {},
   "source": [
    "On va voir par la suite que grâce à la bibliothèque `numpy` on pourra éviter en grande partie les boules `for` en opérant sur toutes les coordonnées « en même temps »."
   ]
  },
  {
   "cell_type": "markdown",
   "metadata": {},
   "source": [
    "## Conditions"
   ]
  },
  {
   "cell_type": "markdown",
   "metadata": {},
   "source": [
    "Pour les tests et les conditions d'arrêt des boucles `while` nous aurons besoin de variables booléennes qui prennent la valeur `True` ou `False`."
   ]
  },
  {
   "cell_type": "code",
   "execution_count": null,
   "metadata": {},
   "outputs": [],
   "source": [
    "a, b = 3, 2\n",
    "verite1 = a > b  # test d'inégalité stricte\n",
    "print(f\"verite1={verite1}\")\n",
    "\n",
    "verite2 = a > b + 1  # test d'inégalité stricte\n",
    "print(f\"verite2={verite2}\")\n",
    "\n",
    "verite3 = a == b  # test d'égalité\n",
    "print(f\"verite3={verite3}\")\n",
    "\n",
    "verite4 = a == b + 1  # test d'égalité\n",
    "print(f\"verite4={verite4}\")\n",
    "\n",
    "verite5 = a != b  # test de différence\n",
    "print(f\"verite5={verite5}\")"
   ]
  },
  {
   "cell_type": "markdown",
   "metadata": {},
   "source": [
    "La commande `if:` (/`elif:`/`else:`) permet d'effectuer des instructions selon la valeur de vérité d'un test."
   ]
  },
  {
   "cell_type": "code",
   "execution_count": null,
   "metadata": {},
   "outputs": [],
   "source": [
    "a = True\n",
    "if a:\n",
    "    print(f\"a est {a}\")"
   ]
  },
  {
   "cell_type": "markdown",
   "metadata": {},
   "source": [
    "Étudier le script suivant :"
   ]
  },
  {
   "cell_type": "code",
   "execution_count": null,
   "metadata": {},
   "outputs": [],
   "source": [
    "for a in (True, False):\n",
    "    for b in (True, False):\n",
    "        print(f\"a est {a}, b est {b}.\")\n",
    "        if a and b:\n",
    "            print(\"Les des éléments a et b sont Vrais.\")\n",
    "        else:\n",
    "            print(\"L'un au moins des éléments a et b est Faux.\")\n",
    "            if not (a or b):\n",
    "                print(\"Ils sont Faux tous les deux.\")\n",
    "            elif a:\n",
    "                print(\"a est Vrai, b est Faux.\")\n",
    "            else:\n",
    "                print(\"a est Faux, b est Vrai.\")\n",
    "        print()"
   ]
  },
  {
   "cell_type": "markdown",
   "metadata": {},
   "source": [
    "De manière assez pratique, python attribue une valeur de vérité à beaucoup d'objets quand ils sont testés avec une instruction `if:` (/`elif:`/`else:`).\n",
    "\n",
    "La valeur de vérité attribuée aux chaînes de caractères, les entiers, les flottants, les tuples et les listes, est « vrai » sauf :\n",
    "```\n",
    "\"\", 0, 0.0, (), [], None\n",
    "```\n",
    "qui prennent la valeur « faux »."
   ]
  },
  {
   "cell_type": "code",
   "execution_count": null,
   "metadata": {},
   "outputs": [],
   "source": [
    "for a in (None, True, False, 1, -12, 3.2, 0, 0.0, \"coucou\", \"\", [1, 2, 3], [0], [], (1, 2, 3), ()):\n",
    "    if a:\n",
    "        print(f\"{a} est évalué comme « vrai »\")\n",
    "    else:\n",
    "        print(f\"{a} est évalué comme « faux »\")"
   ]
  },
  {
   "cell_type": "markdown",
   "metadata": {},
   "source": [
    "## Boucles `while`\n",
    "\n",
    "Pour répéter une suite d'instructions un nombre indéterminé de fois, on utilise une boucle `while`. Le processus s'arrête quand la condition d'arrêt est vérifiée. On peut aussi utiliser la commande `break` pour interrompre une boucle.\n",
    "Dans tous les cas, il faut prévoir un test d'arrêt. L'exemple suivant fait la même chose que l'exemple présenté pour la boucle `for` mais avec une boucle `while` et en effectuant la somme des nombres de 1 à $N$ par ordre décroissant."
   ]
  },
  {
   "cell_type": "code",
   "execution_count": null,
   "metadata": {},
   "outputs": [],
   "source": [
    "N = 5\n",
    "i, somme, chaine, liste = 1, 0, \"\", []\n",
    "print(f\"Au départ, somme={somme}, liste = {liste}\")\n",
    "print()\n",
    "\n",
    "while N:  # ou bien while N>0:\n",
    "    liste.append(N)\n",
    "    somme = somme + N\n",
    "    chaine = f\"{chaine} + {N}\" if N < 5 else f\"{N}\"\n",
    "    print(f\"liste={liste}\")\n",
    "    print(f\"La somme {chaine} vaut {somme}.\\n\")\n",
    "    N = N - 1\n",
    "\n",
    "print(f\"Au final, somme={somme}, liste ={liste}.\")"
   ]
  },
  {
   "cell_type": "markdown",
   "metadata": {},
   "source": [
    "Le code suivant calcule le pgcd de deux nombres positifs $a$ et $b$ par l'algorithme d'Euclide (les fonction `divmod(a,b)` renvoie `(q,r)` où $a=qb+r$ est la division Euclidienne de $a$ par $b$."
   ]
  },
  {
   "cell_type": "code",
   "execution_count": null,
   "metadata": {},
   "outputs": [],
   "source": [
    "a, b = 153, 63\n",
    "\n",
    "A, B = b, a\n",
    "while B:\n",
    "    (q, B), A = divmod(A, B), B\n",
    "\n",
    "print(f\"Le pgcd de {a} et {b} est {A}\")"
   ]
  },
  {
   "cell_type": "markdown",
   "metadata": {},
   "source": [
    "On reprend le calcul du pgd de deux nombres $a$ et $b$ et on détermine en plus un couple d'entiers $(m,n)$ satisfaisant l'identité de Bezout :\n",
    "$$\n",
    "  \\operatorname{pgcd}(a,b) =m a + nb.\n",
    "$$"
   ]
  },
  {
   "cell_type": "code",
   "execution_count": null,
   "metadata": {},
   "outputs": [],
   "source": [
    "a, b = 63, 153\n",
    "\n",
    "A, B = a, b\n",
    "m, n, M, N = 1, 0, 0, 1\n",
    "while B:\n",
    "    (q, B), A = divmod(A, B), B\n",
    "    m, n, M, N = M, N, m - q * M, n - q * N\n",
    "\n",
    "print(f\"Le pgcd de {a} et {b} est {A}.\")\n",
    "print(f\"On a l'identité de Bezout : {m}*{a} + ({n})*{b} = {A}.\")"
   ]
  },
  {
   "cell_type": "markdown",
   "metadata": {},
   "source": [
    "On peut faire une fonction avec le script précédent."
   ]
  },
  {
   "cell_type": "code",
   "execution_count": null,
   "metadata": {},
   "outputs": [],
   "source": [
    "def Bezout(a, b):\n",
    "    Test = type(a) == int and type(b) == int and (a > 0) and (b > 0)\n",
    "\n",
    "    if Test:\n",
    "        A, B = a, b\n",
    "        m, n, M, N = 1, 0, 0, 1  # A= m*a + n*b, B= M*a + N*b, ça reste vrai au cours des itérations\n",
    "\n",
    "        while B:\n",
    "            (q, B), A = divmod(A, B), B\n",
    "            m, n, M, N = M, N, m - q * M, n - q * N\n",
    "        return (A, m, n)\n",
    "    else:\n",
    "        print(\"Données incompatibles avec la fonction Bezout.\")\n",
    "        return \"erreur\", \"erreur\", \"erreur\""
   ]
  },
  {
   "cell_type": "markdown",
   "metadata": {},
   "source": [
    "On la teste avec diverses valeurs de $(a,b)$."
   ]
  },
  {
   "cell_type": "code",
   "execution_count": null,
   "metadata": {},
   "outputs": [],
   "source": [
    "Tuple = (15, 355), (355, 15), (-3, 123), ([\"pourquoi pas\"], 2)\n",
    "for (a, b) in Tuple:\n",
    "    d, m, n = Bezout(a, b)\n",
    "    print(f\"Le pgcd de {a} et {b} est {d}\")\n",
    "    print(f\"On a l'identité de Bezout : ({m})*{a} + ({n})*{b} = {d}\")\n",
    "    print()"
   ]
  },
  {
   "cell_type": "markdown",
   "metadata": {},
   "source": [
    "Remarquez que dans le script ci-dessus, on a omis les parenthèses en manipulant des tuples (à la première et troisième lignes).\n",
    "\n",
    "Remarquez aussi l'ordre des tests de valeur de vérité dans la fonctions Bezout.\n",
    "```python\n",
    "Test = type(a)==int and (a>0)\n",
    "```\n",
    "n'est pas la même chose que \n",
    "```python\n",
    "Test = (a>0) and type(a)==int\n",
    "```\n",
    "Il s'agit d'un test du type `Test1 and Test2`. Python détermine d'abord la valeur de vérité de `Test1`. Si `Test1` est `False`, la valeur de vérité de `Test` sera `False` quelle que soit la valeur de `Test2`. Dans ce cas, la valeur de vérité de `Test2` n'est pas évaluée et `Test=False`.\n",
    "\n",
    "Supposons `a=\"coucou\"`. Dans le premier cas, si `a=\"coucou\"`, `a` est de type `str` qui n'est pas `int` et donc `Test=False`.\n",
    "Dans le second cas on teste d'abord si `\"coucou\">0` et cela conduit à une erreur."
   ]
  },
  {
   "cell_type": "code",
   "execution_count": null,
   "metadata": {},
   "outputs": [],
   "source": [
    "a = \"coucou\"\n",
    "print(type(a))\n",
    "Test = type(a) == int and (a > 0)\n",
    "print(f\"Cas 1 : Test ={Test}\")\n",
    "Test = (a > 0) and type(a) == int\n",
    "print(f\"Cas 2 : Test ={Test}\")"
   ]
  },
  {
   "cell_type": "markdown",
   "metadata": {},
   "source": [
    "Dans un dernier exemple, on applique l'algorithme des babyloniens pour calculer une valeur approchée de $\\sqrt{x\\,}$. On utilise la commande `break` pour sortir de la boucle."
   ]
  },
  {
   "cell_type": "code",
   "execution_count": null,
   "metadata": {},
   "outputs": [],
   "source": [
    "from math import sqrt\n",
    "x, s = 27, 4\n",
    "tol = 1e-13\n",
    "\n",
    "i = 1\n",
    "while True:\n",
    "    s = s / 2 + (x / 2) / s\n",
    "    if abs(s**2 - x) < tol: break\n",
    "    i += 1\n",
    "\n",
    "print(f\"Valeur approchée pour la racine carrée de {x} = {s}.\")\n",
    "print(f\"Nombre d'itérations : {i}.\")\n",
    "print(f\"Différence avec la valeur calculée par la librairie math : {s-sqrt(x)}.\")"
   ]
  },
  {
   "cell_type": "markdown",
   "metadata": {},
   "source": [
    "# Les bibliothèques Numpy et Matplotib"
   ]
  },
  {
   "cell_type": "code",
   "execution_count": null,
   "metadata": {},
   "outputs": [],
   "source": [
    "import numpy as np\n",
    "import matplotlib.pyplot as plt"
   ]
  },
  {
   "cell_type": "markdown",
   "metadata": {},
   "source": [
    "## Les vecteurs de $\\mathbb{R}^n$\n",
    "\n",
    "Comme un vecteur de $\\mathbb{R}^n$ est un n-uplet de nombres, le plus « simple » est de le représenter par une liste\n",
    "```python\n",
    "[1 2 3]\n",
    "```\n",
    "Mais le problème est que les opérations sur les vecteurs ne sont pas directement disponibles sur les listes. Pour cette raison il est préférable d'utiliser les tableaux de `numpy` pour représenter les vecteurs\n",
    "```python\n",
    "np.array([1 2 3]).\n",
    "```\n",
    "Les tableaux de `numpy` comparés aux listes standard :\n",
    "- occupent moins de place ;\n",
    "- sont plus rapides ;\n",
    "- peuvent être initialisés par plusieurs méthodes ;\n",
    "- facilitent toutes les opérations habituelles sur les vecteurs.\n",
    "\n",
    "Un des grands avantages des tableaux `numpy` est qu'on peut facilement exécuter des opérations sur toutes les coordonnées."
   ]
  },
  {
   "cell_type": "code",
   "execution_count": null,
   "metadata": {},
   "outputs": [],
   "source": [
    "v = np.array([1, 2, 3])\n",
    "print(\"v + 1 = \", v + 1)\n",
    "print(\"v² = \", v**2)\n",
    "print(\"sin(v) = \", np.sin(v))"
   ]
  },
  {
   "cell_type": "markdown",
   "metadata": {},
   "source": [
    "De plus, si nécessaire, on peut exécuter une opération seulement sur une partie du vecteur."
   ]
  },
  {
   "cell_type": "code",
   "execution_count": null,
   "metadata": {},
   "outputs": [],
   "source": [
    "v[v > 1] = 0  # on annule les coordonnées supérieures à 1\n",
    "print(v)"
   ]
  },
  {
   "cell_type": "markdown",
   "metadata": {},
   "source": [
    "Dans les exemples qui suivent on prend la valeur maximum d'un tableau numpy `x`, son minimum, la somme de ses éléments et sa norme euclidienne."
   ]
  },
  {
   "cell_type": "code",
   "execution_count": null,
   "metadata": {},
   "outputs": [],
   "source": [
    "N = 5\n",
    "x = np.random.rand(N)  # On prend un vecteur au hasard (coefs dans [0,1])\n",
    "print(f\"Le tableau x : {x}\\n\")\n",
    "print(f\"Valeur du coefficient le plus petit {np.min(x)}.\")\n",
    "print(f\"Valeur du coefficient le plus grand {np.max(x)}.\\n\")\n",
    "print(f\"Somme des coefficients de x {np.sum(x)}.\\n\")\n",
    "\n",
    "# Calcul de la norme Euclidienne de x\n",
    "norme1 = np.sqrt(np.sum(x**2))\n",
    "\n",
    "# Méthode avec la librairie numpy.linalg :\n",
    "norme2 = np.linalg.norm(x)\n",
    "print(f\"Premier calcul de la norme Euclidienne de x : {norme1}.\")\n",
    "print(f\"Second calcul de la norme Euclidienne de x : {norme2}.\")\n",
    "print(f\"Différence : {norme2 - norme1}.\")"
   ]
  },
  {
   "cell_type": "markdown",
   "metadata": {},
   "source": [
    "Comme on l'a dit numpy permet d'appliquer une fonction simultanément une fonction à tous les éléments d'un tableau. On prend par exemple, ci-dessous la valeur absolue de tous ses éléments.\n",
    "\n",
    "Finalement, on prend deux vecteurs de même longueur `x`, `y` et on utilise `np.maximum()` pour construire le vecteur `z` dont le ième coefficient contient le maximum de `x[i]` et `y[i]`."
   ]
  },
  {
   "cell_type": "code",
   "execution_count": null,
   "metadata": {},
   "outputs": [],
   "source": [
    "N = 6\n",
    "x = 2 * np.random.rand(N) - 1\n",
    "print(f\"le vecteur x : {x}\\n\")\n",
    "\n",
    "\n",
    "print(f\"la valeur absolue des coefficients de x :{np.abs(x)}\\n\")\n",
    "\n",
    "y = 2 * np.random.rand(N) - 1\n",
    "print(f\"le vecteurs y : {y}\\n\")\n",
    "print(f\"le produit terme à terme de x et y : {x * y}\\n\")\n",
    "\n",
    "print(f\"le maximum terme à terme de x et y : {np.maximum(x, y)}\\n\")\n",
    "\n",
    "print(fr\"On peut décomposer x en partie positive et négative   (x = xplus - xmoins) comme suit :\")\n",
    "xplus = np.maximum(x, 0)\n",
    "print(f\"la partie positive de x : {xplus}\\n\")\n",
    "xmoins = np.maximum(-x, 0)\n",
    "print(f\"sa partie négative : {xmoins}\")"
   ]
  },
  {
   "cell_type": "markdown",
   "metadata": {},
   "source": [
    "## Initialisation, indices, tableaux, "
   ]
  },
  {
   "cell_type": "markdown",
   "metadata": {},
   "source": [
    "La bibliothèque `numpy` permet de travailler avec des tableaux de toute taille, pas seulement des vecteurs.\n",
    "Pour initialiser à zéro un vecteur `numpy` de longueur $N$, on fait\n",
    "```python\n",
    "x = np.zeros(N)\n",
    "```\n",
    "Pour un tableau de taille $M\\times N$, on fait\n",
    "```\n",
    "Tab = np.zeros([M,N])\n",
    "```\n",
    "Les objets sont créés avec la taille demandée et tous les coefficients nuls."
   ]
  },
  {
   "cell_type": "code",
   "execution_count": null,
   "metadata": {},
   "outputs": [],
   "source": [
    "N = 13\n",
    "x = np.zeros(N)\n",
    "print(f\"le vecteur x : {x}\")\n",
    "print(f\"la longueur de 'x' est {len(x)}.\\n\")\n",
    "\n",
    "M, N = 4, 3\n",
    "Tab = np.zeros([M, N])\n",
    "print(f\"le tableau Tab : {Tab}.\")\n",
    "print(f\"la « taille » de Tab est {np.size(Tab)}.\")\n",
    "print(f\"Sa « forme »  est {np.shape(Tab)}. C'est un tuple.\")\n",
    "print(f\"Attention la longueur de Tab est {len(Tab)} ! (c'est son nombre de lignes)\")\n",
    "print(f\"La longueur d'une ligne est le nombre de colonnes : {len(Tab[0])}\")"
   ]
  },
  {
   "cell_type": "markdown",
   "metadata": {},
   "source": [
    "Pour accéder aux éléments d'un tableau `numpy`, on utilise des crochets comme pour les listes et pour les tuples et on peut aussi utiliser les slices pour extraire une partie d'un vecteur ou d'un tableau."
   ]
  },
  {
   "cell_type": "code",
   "execution_count": null,
   "metadata": {},
   "outputs": [],
   "source": [
    "N = 5\n",
    "x = np.zeros(N)\n",
    "print(x[0])\n",
    "x[0] = 1\n",
    "print(x)\n",
    "x[-1] = 2\n",
    "print(x)\n",
    "\n",
    "M = 4\n",
    "Tab = np.zeros([M, N])\n",
    "print(Tab[0, 0])\n",
    "Tab[0, 0] = 1\n",
    "Tab[1, 0] = 3\n",
    "print(f\"Après les modifications Tab={Tab}\\n\")\n",
    "\n",
    "print(\"On peut remplir directement une ligne d'un tableau par Tab[2]=y. Ça donne :\")\n",
    "y = np.random.rand(N)\n",
    "Tab[2] = y\n",
    "print(Tab)\n",
    "print()\n",
    "\n",
    "print(\"On peut remplir directement une colonne d'un tableau par Tab[:,2]=z. Ça donne :\")\n",
    "z = np.random.rand(M)\n",
    "Tab[:, 2] = z\n",
    "print(Tab)"
   ]
  },
  {
   "cell_type": "markdown",
   "metadata": {},
   "source": [
    "Un exemple d'utilisation des slices."
   ]
  },
  {
   "cell_type": "code",
   "execution_count": null,
   "metadata": {},
   "outputs": [],
   "source": [
    "M, N = 5, 4\n",
    "m, n = 3, 2\n",
    "Grand = np.zeros([M, N])\n",
    "print(f\"Grand=\\n{Grand}\\n\")\n",
    "\n",
    "Petit = np.random.rand(m, n)  # Attention, syntaxe différente\n",
    "print(f\"Petit=\\n{Petit}\\n\")\n",
    "\n",
    "Grand[1:m + 1, 1:n + 1] = Petit\n",
    "print(f\"Grand après modification=\\n{Grand}\\n\")"
   ]
  },
  {
   "cell_type": "markdown",
   "metadata": {},
   "source": [
    "En plus de la fonction `np.zeros()` qui permet de créer un tableau de zéros, vous avez la fonction `np.ones()` avec la même syntaxe qui crée un tableau avec de 1.\n",
    "\n",
    "La commande `np.linspace(a,b,N+1)` permet de construire un vecteur de longueur $N+1$ contenant les valeurs de $a$ à $b$ régulièrement espacées :\n",
    "$$\n",
    "  a, a+h, a+2h,\\dots,b-h,b\\qquad\\text{avec }h=\\dfrac{b-a}N. \n",
    "$$"
   ]
  },
  {
   "cell_type": "code",
   "execution_count": null,
   "metadata": {},
   "outputs": [],
   "source": [
    "print(np.ones(12))\n",
    "print()\n",
    "\n",
    "a, b = 1, 4\n",
    "N = 15\n",
    "t = np.linspace(a, b, N + 1)\n",
    "print(t)\n",
    "print()\n",
    "print(f\"C'est un vecteur de longueur {len(t)}.\")"
   ]
  },
  {
   "cell_type": "markdown",
   "metadata": {},
   "source": [
    "### Le vecteur de tous les « couples »\n",
    "\n",
    "Si nous avons deux vecteurs $x = (x_1,x_2,\\dots,x_n)$ et $y = (y_1,y_2,\\dots,y_m)$ pour former le vecteur de tous les couples $(x_i,y_j)$ nous pouvons utiliser la commande `np.meshgrid`. Cette commande est utilisée par exemple lors de l'affichage d'un champ de vecteurs car dans ce cas on évalue $F$ en tous les points $(x_i,y_j)$."
   ]
  },
  {
   "cell_type": "code",
   "execution_count": null,
   "metadata": {},
   "outputs": [],
   "source": [
    "# la fonction qui calcule la somme des deux coordonnées\n",
    "F = lambda V: V[0] + V[1]\n",
    "V = np.meshgrid([1, 2], [1, 2, 3])\n",
    "print(\"V[0] :\")\n",
    "print(V[0])\n",
    "print(\"\\n V[1] :\")\n",
    "print(V[1])\n",
    "FV=F(V)\n",
    "print(\"\\n F(V):\")\n",
    "print(FV)"
   ]
  },
  {
   "cell_type": "markdown",
   "metadata": {},
   "source": [
    "Pour les besoins des simulations numériques souvent nous avons besoin de calculer une fonction en plusieurs valeurs du paramètre.\n",
    "Ainsi on aimerait pouvoir calculer simplement $(t_1,t_2,\\ldots,t_n)\\mapsto (f(t_1),f(t_2),\\ldots,f(t_n))$ par exemple en évoquant simplement `f([1,2,3])`, au lieu de faire une boucle.<br> \n",
    "Si on essaye `f([1,2,3])` avec la définition précédente de `f`, on va voir une erreur s'afficher, car python ne sait pas élever au carré une liste (`[1,2,3]**2` n'est pas défini). Pour écrire une fonction qui permet d'être évoqué aussi bien avec un nombre, qu'avec une liste, un tableau `numpy` ou une matrice, il faut commencer par transformer son paramètre en tableaux `numpy` si nécessaire."
   ]
  },
  {
   "cell_type": "code",
   "execution_count": null,
   "metadata": {},
   "outputs": [],
   "source": [
    "# une fonction qui peut prendre différents types de x en entré : nombres, vecteurs, matrices\n",
    "def f(x):\n",
    "    x = np.atleast_1d(x).astype(float)\n",
    "    return x**2 + 1  # les opérations sont exécutées coordonnée par coordonnée\n",
    "\n",
    "# vérifions\n",
    "for x in (1, [1, 2, 3], np.array([1, 2, 3]), np.matrix('1 2; 3 4')):\n",
    "    print(f(x))"
   ]
  },
  {
   "cell_type": "markdown",
   "metadata": {},
   "source": [
    "### Les fonctions avec paramètres\n",
    "\n",
    "Pour définir une fonction dont la définition contient des paramètres, comme\n",
    "$$\n",
    "    h_{p,q} : x \\mapsto \\sin(px+q)\n",
    "$$\n",
    "Nous pouvons d'abord définir une fonction qui prends les paramètres en arguments\n",
    "$$\n",
    "    H(p,q,x) : x \\mapsto \\sin(px+q)\n",
    "$$\n",
    "puis spécifier les paramètre $p$ et $q$ pour obtenir la fonction recherchée."
   ]
  },
  {
   "cell_type": "code",
   "execution_count": null,
   "metadata": {},
   "outputs": [],
   "source": [
    "H = lambda p, q, x: np.sin(p * x + q)\n",
    "\n",
    "h = lambda x: H(2, np.pi, x)\n",
    "\n",
    "# vérifions\n",
    "h(1), H(2, np.pi, 1)"
   ]
  },
  {
   "cell_type": "markdown",
   "metadata": {},
   "source": [
    "Mais nous pouvons aussi, de façon plus « pythonesque », définir une fonction « génératrice » qui prend les paramètres comme arguments et retourne la fonction voulue. Autrement dit on construit\n",
    "$$\n",
    "    H : (p,q) \\mapsto h_{p,q}.    \n",
    "$$"
   ]
  },
  {
   "cell_type": "code",
   "execution_count": null,
   "metadata": {},
   "outputs": [],
   "source": [
    "H = lambda p, q: lambda x: np.sin(p * x + q)\n",
    "\n",
    "h = H(2, np.pi)\n",
    "\n",
    "# vérifions\n",
    "h(1), H(2, np.pi)(1)"
   ]
  },
  {
   "cell_type": "markdown",
   "metadata": {},
   "source": [
    "### Les fonctions définies par morceaux\n",
    "\n",
    "Si on veut définir par exemple la fonction\n",
    "$$\n",
    "    h(x) =\n",
    "    \\begin{cases}\n",
    "        x/\\sin(x) & \\text{ si } x\\neq 0\\\\\n",
    "        1 & \\text{ sinon }\n",
    "    \\end{cases}\n",
    "$$\n",
    "on peut utiliser `np.piecewise` qui permet de faire ça.\n",
    "\n",
    "*Remarquez l'utilisation de `np.sin` qui permet de calculer le sinus « coordonnée par coordonnée ».* "
   ]
  },
  {
   "cell_type": "code",
   "execution_count": null,
   "metadata": {},
   "outputs": [],
   "source": [
    "def h(x):\n",
    "    x = np.atleast_1d(x).astype(float)  # on transforme x en np.array si nécessaire\n",
    "    return np.piecewise(x, [x != 0], [lambda s: s / np.sin(s), 1])\n",
    "\n",
    "# vérifions\n",
    "print(h(0), h([0, 1, 2]))"
   ]
  },
  {
   "cell_type": "markdown",
   "metadata": {},
   "source": [
    "## Création des figures\n",
    "\n",
    "Matplotlib permet de construire les figures de deux façons : à la Matlab, ou orienté objet. Il est préférable de ne pas mélanger ces deux méthodes. La méthode orientée objet est préférable, mais pour des raisons historiques nous allons utiliser souvent la méthode « fonctionnelle »."
   ]
  },
  {
   "cell_type": "code",
   "execution_count": null,
   "metadata": {},
   "outputs": [],
   "source": [
    "x = np.linspace(-10, 10, 100)\n",
    "\n",
    "# La version orientée objet\n",
    "\n",
    "fig, ax = plt.subplots()  # création de la figure et du canevas (ang. axes) sur lequel on va dessiner\n",
    "ax.plot(x, np.sinc(x), \"r--\")  # on dessine sur le canevas\n",
    "ax.set(\n",
    "    title=\"version OO (orienté objet)\",  # titre\n",
    "    xlabel=\"x\")  # étiquette de l'abscisse\n",
    "plt.show()  # et on affiche le tout\n",
    "\n",
    "# La version fonctionnelle\n",
    "\n",
    "plt.plot(x, np.sinc(x), \"r--\")  # on dessine sur le canevas courant (créé à l'occasion)\n",
    "plt.title(\"version fonctionnelle (à la Matlab)\")  # le titre (transmis au canevas par défaut)\n",
    "plt.xlabel(\"x\")  # étiquette de l'abscisse (transmis au canevas par défaut)\n",
    "plt.show()  # et on affiche le tout"
   ]
  },
  {
   "cell_type": "markdown",
   "metadata": {},
   "source": [
    "Les commandes successives de `plt.plot` avant `plt.show` permettent d'afficher plusieurs graphiques sur la même figure."
   ]
  },
  {
   "cell_type": "code",
   "execution_count": null,
   "metadata": {},
   "outputs": [],
   "source": [
    "# Deux graphes sur la même figure\n",
    "m, N = 3, 100\n",
    "x = np.pi * np.linspace(-m, m, N + 1)\n",
    "plt.plot(x, np.sin(x), \"r--\", label=\"sin\")  #\"r\" pour \"red\", \"--\" pour les pointillés\n",
    "plt.plot(x, np.cos(x), \"b-\", label=\"cos\")  #\"b\" pour \"blue\", \"-\" pour les lignes continues\n",
    "plt.legend()  # pour placer les légendes (précisés par les paramètres « labels »)\n",
    "plt.xlabel(\"x\")\n",
    "plt.ylabel(\"y\")\n",
    "plt.title(f\"fonctions trigonométriques entre -{m}π et {m}π\")\n",
    "plt.show()  # Affichage de la figure"
   ]
  },
  {
   "cell_type": "markdown",
   "metadata": {},
   "source": [
    "## Interactivité dans les Notebook Jupyter (iPython)\n",
    "\n",
    "Pour pouvoir observer le résultat de la variation d'un paramètre il y a deux principales méthodes :\n",
    "- La méthode « statique » qui consiste à afficher les résultats pour différente valeur d'un paramètre. Elle convient très bien pour la production de document destiner à l'impression.\n",
    "- La méthode « dynamique » qui consiste à afficher le résultat pour une valeur donnée du paramètre, tout en ayant la possibilité de faire varier se paramètre grâce à une interface utilisateur. Elle convient très bien pour l'expérimentation ou l'enseignement par ordinateur.\n",
    "\n",
    "Considérons par exemple le cas très simple où on souhaite afficher le résultat $x^2$ en fonction de $x\\in [-2,2]$.\n",
    "- Avec la méthode « statique » on peut créer une boucle et afficher des diverses valeurs :"
   ]
  },
  {
   "cell_type": "code",
   "execution_count": null,
   "metadata": {},
   "outputs": [],
   "source": [
    "for x in np.arange(-2, 2, .2):\n",
    "    print(f\"Le carré de {x:4.1f} est {x*x:.1f}\")"
   ]
  },
  {
   "cell_type": "markdown",
   "metadata": {},
   "source": [
    "Pour utiliser la méthode « dynamique » nous avons besoin d'abord de charger les bibliothèques nécessaires :"
   ]
  },
  {
   "cell_type": "code",
   "execution_count": null,
   "metadata": {},
   "outputs": [],
   "source": [
    "from ipywidgets import interact, widgets"
   ]
  },
  {
   "cell_type": "markdown",
   "metadata": {},
   "source": [
    "Puis on peut procéder ainsi :"
   ]
  },
  {
   "cell_type": "code",
   "execution_count": null,
   "metadata": {},
   "outputs": [],
   "source": [
    "@interact(x=(-2, 2, .2))  # on « décore » la fonction suivante pour la rendre interactive\n",
    "def impression_carre(x=1):\n",
    "    print(f\"Le carré de {x:4.1f} est {x**2:.2f}\")"
   ]
  },
  {
   "cell_type": "markdown",
   "metadata": {},
   "source": [
    "On peut utiliser `@interact` pour observer l'influence des paramètres sur un graphique par exemple."
   ]
  },
  {
   "cell_type": "code",
   "execution_count": null,
   "metadata": {},
   "outputs": [],
   "source": [
    "def plot_trig(p, q):\n",
    "    # création d'un vecteur de 300 points équirépartis entre -5 et 5\n",
    "    x = np.linspace(-5, 5, 300)\n",
    "    # on retourne le résultat du plot : on pourra le modifier avant l'affichage\n",
    "    return plt.plot(x, np.sin(p * x) + np.cos(q * x / 2))[0]\n",
    "\n",
    "@interact(p=(0, 10, .2), q=(0, 10, .2))\n",
    "def generate_plot(p=5, q=3):\n",
    "    plot_trig(p, q)\n",
    "    plt.title(fr\"$\\sin({p}x)+\\cos({q}x)/2$\")  # une chaîne formatée (f-string) avec du LaTeX.\n",
    "    plt.ylabel(\"somme de deux sinus\")  # l'étiquette de l'ordonnée\n",
    "    plt.ylim(-2, 2)  #\n",
    "    plt.show()  # et on affiche le graphique (non obligatoire ici)"
   ]
  },
  {
   "cell_type": "markdown",
   "metadata": {},
   "source": [
    "Quelques commentaires sur le code ci-dessus :\n",
    "- les valeurs par défaut `p=5,q=3` dans `generate_plot` servent de valeur initiale des curseurs.\n",
    "- le titre est créé avec un `f-string` (voir les explications plus bas) qui utilise des formules LaTeX, et pour ne pas avoir des problèmes avec les `\\` on utilise une chaîne brute (*raw* string, indiqué par le `r` devant).\n",
    "- On aurait pu utiliser une seule fonction, mais la séparation de `plot_sin` du reste nous permet de réutiliser ce code dans d'autres graphiques, par exemple si on souhaite créer une image **statique** superposant des graphes pour des diverses valeurs de `p` et `q` il suffit d'évoquer `plot_sin` plusieurs fois avant de conclure par `plt.show()`."
   ]
  },
  {
   "cell_type": "code",
   "execution_count": null,
   "metadata": {},
   "outputs": [],
   "source": [
    "for p, q in [[1, 0], [1, 3], [3, 1]]:\n",
    "    graph = plot_trig(p, q)  # plot retourne le graphe\n",
    "    graph.set_label(f\"p={p}, q={q}\")  # oups, on utilise l'interface OO\n",
    "plt.title(f\"diverts valeurs de $\\\\sin(px)+\\\\sin(qx)/2$\")\n",
    "plt.ylabel(\"somme de deux sinus\")\n",
    "plt.ylim(-2, 3)  # on limite l'ordonnée\n",
    "plt.legend()\n",
    "plt.show()"
   ]
  }
 ],
 "metadata": {
  "kernelspec": {
   "display_name": "Python 3",
   "language": "python",
   "name": "python3"
  },
  "language_info": {
   "codemirror_mode": {
    "name": "ipython",
    "version": 3
   },
   "file_extension": ".py",
   "mimetype": "text/x-python",
   "name": "python",
   "nbconvert_exporter": "python",
   "pygments_lexer": "ipython3",
   "version": "3.7.10"
  }
 },
 "nbformat": 4,
 "nbformat_minor": 2
}