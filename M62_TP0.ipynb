{
 "cells": [
  {
   "cell_type": "markdown",
   "metadata": {},
   "source": [
    "![Département de Mathématiques](https://ktzanev.github.io/logolabopp/ul-fst-math/ul-fst-math_100.gif)\n",
    "\n",
    "# TP 0 - Conseilles et astuces (i)Python\n",
    "\n",
    "Dans ce TP on va essayer de (re)voir quelques points particuliers dans la programmation Python et plus particulièrement d'iPython avec Jupyter Notebook.\n",
    "\n",
    "**Pour passer d'une cellule à la suivante en l'exécutant il suffit de faire <kbd>Maj.+Entrée</kbd> (<kbd>Shift+Enter</kbd>).**\n",
    "\n",
    "*Et pour voir les autre touches de raccourci, il faut faire <kbd>H</kbd> (si vous êtes en train d'éditer une cellule il faut d'abord sortir du mode « édition » avec <kbd>Esc</kbd>).*"
   ]
  },
  {
   "cell_type": "code",
   "execution_count": null,
   "metadata": {},
   "outputs": [],
   "source": [
    "import numpy as np\n",
    "import matplotlib.pyplot as plt"
   ]
  },
  {
   "cell_type": "markdown",
   "metadata": {},
   "source": [
    "## Les vecteurs de $\\mathbb{R}^n$\n",
    "\n",
    "Comme un vecteur de $\\mathbb{R}^n$ est un n-uplet de nombres, le plus « simple » est de le représenter par une liste\n",
    "```python\n",
    "[1 2 3]\n",
    "```\n",
    "Mais le problème est que les opérations sur les vecteurs ne sont pas directement disponibles sur les listes. Pour cette raison il est préférable d'utiliser les tableaux de `numpy` pour représenter les vecteurs\n",
    "```python\n",
    "np.array([1 2 3]).\n",
    "```\n",
    "Les tableaux de `numpy` comparés aux listes standard :\n",
    "- occupent moins de place ;\n",
    "- sont plus rapides ;\n",
    "- peuvent être initialisés par plusieurs méthodes ;\n",
    "- facilitent toutes les opérations habituelles sur les vecteurs.\n",
    "\n",
    "Un des grands avantages des tableaux `numpy` est qu'on peut facilement executer des opérations sur toutes les coordonnées."
   ]
  },
  {
   "cell_type": "code",
   "execution_count": null,
   "metadata": {},
   "outputs": [],
   "source": [
    "v = np.array([1, 2, 3])\n",
    "print(\"v + 1 = \", v + 1)\n",
    "print(\"v² = \", v**2)\n",
    "print(\"sin(v) = \", np.sin(v))"
   ]
  },
  {
   "cell_type": "markdown",
   "metadata": {},
   "source": [
    "De plus, si nécessaire, on peut exécuter une opération seulement sur une partie du vecteur."
   ]
  },
  {
   "cell_type": "code",
   "execution_count": null,
   "metadata": {},
   "outputs": [],
   "source": [
    "v[v > 1] = 0  # on annule les coordonnées supérieures à 1\n",
    "print(v)"
   ]
  },
  {
   "cell_type": "markdown",
   "metadata": {},
   "source": [
    "### Le vecteur des tous les « couples »\n",
    "\n",
    "Si nous avons deux vecteurs $x = (x_1,x_2,\\dots,x_n)$ et $y = (y_1,y_2,\\dots,y_m)$ pour former le vecteur de tous les couples $(x_i,y_j)$ nous pouvons utiliser la commande `np.meshgrid`. Cette commande est utilisée par exemple lors de l'affichage d'un champ de vecteurs car dans ce cas on évalue $F$ en tous les points $(x_i,y_j)$."
   ]
  },
  {
   "cell_type": "code",
   "execution_count": null,
   "metadata": {},
   "outputs": [],
   "source": [
    "# la fonction qui calcule la somme des deux coordonnées\n",
    "F = lambda V: V[0] + V[1]\n",
    "\n",
    "F(np.meshgrid([1, 2], [1, 2, 3]))"
   ]
  },
  {
   "cell_type": "markdown",
   "metadata": {},
   "source": [
    "## Les fonctions\n",
    "\n",
    "Pour définir une fonction $f:\\mathbb{R}\\to\\mathbb{R}$ il existe deux méthodes simples :\n",
    "- la méthode « classique » qui utilise `def` : bien adapté à tout type de fonctions (y compris non mathématiques) ;\n",
    "- la méthode « lambda » qui utilise `lambda` : particulièrement adapté aux fonctions « en une ligne » mathématiques de la forme $x\\mapsto\\dots$."
   ]
  },
  {
   "cell_type": "code",
   "execution_count": null,
   "metadata": {},
   "outputs": [],
   "source": [
    "# la méthode par foncion « classique »\n",
    "def f(x):\n",
    "    return x**2 + 1\n",
    "\n",
    "# la méthode « lambda »\n",
    "f = lambda x: x**2 + 1"
   ]
  },
  {
   "cell_type": "markdown",
   "metadata": {},
   "source": [
    "Pour les besoins des simulations numériques souvent nous avons besoin de calculer une fonction en plusieurs valeurs du paramètre.\n",
    "Ainsi on aimerait pouvoir calculer simplement $(t_1,t_2,\\ldots,t_n)\\mapsto (f(t_1),f(t_2),\\ldots,f(t_n))$ par exemple en évoquant simplement `f([1,2,3])`, au lieu de faire une boucle.<br> \n",
    "Si on assaye `f([1,2,3])` avec la définition précédente de `f`, on va voir une erreur s'afficher, car python ne sait pas elever au carré une liste (`[1,2,3]**2` n'est pas défini). Pour écrire une fonction qui permet d'être évoqué aussi bien avec un nombre, qu'avec une liste, un tableau `numpy` ou une matrice, il faut commencer par transformer son paramètre en tableaux `numpy` si nécéssaire."
   ]
  },
  {
   "cell_type": "code",
   "execution_count": null,
   "metadata": {},
   "outputs": [],
   "source": [
    "# une fonction qui peut prendre en entré différente type de x : nombres, vecteurs, matrices\n",
    "def f(x):\n",
    "    x = np.atleast_1d(x).astype(float)\n",
    "    return x**2 + 1  # les opérations sont executées coordonnée par coordonnée\n",
    "\n",
    "# vérifion\n",
    "for x in [1, [1, 2, 3], np.array([1, 2, 3]), np.matrix('1 2; 3 4')]:\n",
    "    print(f(x))"
   ]
  },
  {
   "cell_type": "markdown",
   "metadata": {},
   "source": [
    "### Les fonctions avec paramètres\n",
    "\n",
    "Pour définir une fonction dont la définition contient des paramètres, comme\n",
    "$$\n",
    "    h_{p,q} : x \\mapsto \\sin(px+q)\n",
    "$$\n",
    "Nous pouvons d'abord définir une fonction qui prends les paramètres en arguments\n",
    "$$\n",
    "    H(p,q,x) : x \\mapsto \\sin(px+q)\n",
    "$$\n",
    "puis spécifier les paramètre $p$ et $q$ pour obtenir la fonction recherchée."
   ]
  },
  {
   "cell_type": "code",
   "execution_count": null,
   "metadata": {},
   "outputs": [],
   "source": [
    "H = lambda p, q, x: np.sin(p * x + q)\n",
    "\n",
    "h = lambda x: H(2, np.pi, x)\n",
    "\n",
    "# vérifions\n",
    "h(0), H(2, np.pi, 0)"
   ]
  },
  {
   "cell_type": "markdown",
   "metadata": {},
   "source": [
    "Mais nous pouvons aussi, de façon plus « pythonesque », définir une fonction « génératrice » qui prend les paramètres comme arguments et retourne la fonction voulue. Autrement dit on construit\n",
    "$$\n",
    "    H : (p,q) \\mapsto h_{p,q}.    \n",
    "$$"
   ]
  },
  {
   "cell_type": "code",
   "execution_count": null,
   "metadata": {},
   "outputs": [],
   "source": [
    "H = lambda p, q: lambda x: np.sin(p * x + q)\n",
    "\n",
    "h = H(2, np.pi)\n",
    "\n",
    "# vérifions\n",
    "h(0), H(2, np.pi)(0)"
   ]
  },
  {
   "cell_type": "markdown",
   "metadata": {},
   "source": [
    "### Les fonctions définies par morceaux\n",
    "\n",
    "Si on veut définir par exemple la fonction\n",
    "$$\n",
    "    h(x) =\n",
    "    \\begin{cases}\n",
    "        x/\\sin(x) & \\text{ si } x\\neq 0\\\\\n",
    "        1 & \\text{ sinon }\n",
    "    \\end{cases}\n",
    "$$\n",
    "on peut utiliser `np.piecewise` qui permet de faire ça.\n",
    "\n",
    "*Remarquez l'utilisation de `np.sin` qui permet de calculer le sinus « coordonnée par coordonnée ».* "
   ]
  },
  {
   "cell_type": "code",
   "execution_count": null,
   "metadata": {},
   "outputs": [],
   "source": [
    "def h(x):\n",
    "    x = np.atleast_1d(x).astype(float)  # on transforme x en np.array si nécéssaire\n",
    "    return np.piecewise(x, [x != 0], [lambda s: s / np.sin(s), 1])\n",
    "\n",
    "# vérifions\n",
    "print(h(0), h([0, 1, 2]))"
   ]
  },
  {
   "cell_type": "markdown",
   "metadata": {},
   "source": [
    "## Résultats textuels\n",
    "\n",
    "Très souvent on souhaite imprimer les résultats numériques accompagnés d'un texte. Pour cela la méthode la plus récente (introduite dans Python 3.6) est d'utiliser les `f-string` :"
   ]
  },
  {
   "cell_type": "code",
   "execution_count": null,
   "metadata": {},
   "outputs": [],
   "source": [
    "a = 1\n",
    "s = f'Le résultat de la somme de {a} et {2} est {a+2}.'\n",
    "print(s)"
   ]
  },
  {
   "cell_type": "markdown",
   "metadata": {},
   "source": [
    "Pour savoir plus sur les formatages possibles des paramètres vous pouvez consulter\n",
    "- [Python String Formatting Best Practices](https://realpython.com/python-string-formatting/)"
   ]
  },
  {
   "cell_type": "markdown",
   "metadata": {},
   "source": [
    "## Création des figures\n",
    "\n",
    "Matplotlib permet de construire les figures de deux façons : à la Matlab, ou orienté objet. Il est préférable de ne pas mélanger ces deux méthodes. La méthode orientée objet est préférable, mais pour des raisons historiques nous allons utiliser souvent la méthode « fonctionnelle » (pour des raisons historiques)."
   ]
  },
  {
   "cell_type": "code",
   "execution_count": null,
   "metadata": {},
   "outputs": [],
   "source": [
    "x = np.linspace(-10, 10, 100)\n",
    "\n",
    "# La version orientée objet\n",
    "\n",
    "fig, ax = plt.subplots()  # création de la figure et du canevas (ang. axes) sur lequel on va dessiner\n",
    "ax.plot(x, np.sinc(x), \"r--\")  # on dessine sur le canevas\n",
    "ax.set(\n",
    "    title=\"version OO (orienté objet)\",  # titre\n",
    "    xlabel=\"x\")  # étiquette de l'abscisse\n",
    "plt.show()  # et on affiche le tout\n",
    "\n",
    "# La version fonctionnelle\n",
    "\n",
    "plt.plot(x, np.sinc(x), \"r--\")  # on dessine sur le canevas courant (créé à l'occasion)\n",
    "plt.title(\"version fonctionnelle (à la Matlab)\")  # le titre (transmis au canevas par défaut)\n",
    "plt.xlabel(\"x\")  # étiquette de l'abscisse (transmis au canevas par défaut)\n",
    "plt.show()  # et on affiche le tout"
   ]
  },
  {
   "cell_type": "markdown",
   "metadata": {},
   "source": [
    "## Interactivité dans les Notebook Jupyter (iPython)\n",
    "\n",
    "Pour pouvoir observer le résultat de la variation d'un paramètre il y a deux principales méthodes :\n",
    "- La méthode « statique » qui consiste à afficher les résultats pour différente valeur d'un paramètre. Elle convient très bien pour la production de document destiner à l'impression.\n",
    "- La méthode « dynamique » qui consiste à afficher le résultat pour une valeur donnée du paramètre, tout en ayant la possibilité de faire varier se paramètre grâce à une interface utilisateur. Elle convient très bien pour l'expérimentation ou l'enseignement par ordinateur.\n",
    "\n",
    "Considérons par exemple le cas très simple où on souhaite afficher le résultat $x^2$ en fonction de $x\\in [-2,2]$.\n",
    "- Avec la méthode « statique » on peut créer une boucle et afficher des diverses valeurs :"
   ]
  },
  {
   "cell_type": "code",
   "execution_count": null,
   "metadata": {},
   "outputs": [],
   "source": [
    "for x in np.arange(-2, 2, .2):\n",
    "    print(f\"Le carré de {x:4.1f} est {x*x:.1f}\")"
   ]
  },
  {
   "cell_type": "markdown",
   "metadata": {},
   "source": [
    "Pour utiliser la méthode « dynamique » nous avons besoin d'abord de charger les bibliothèques nécessaires :"
   ]
  },
  {
   "cell_type": "code",
   "execution_count": null,
   "metadata": {},
   "outputs": [],
   "source": [
    "from ipywidgets import interact, widgets"
   ]
  },
  {
   "cell_type": "markdown",
   "metadata": {},
   "source": [
    "Puis on peut procéder ainsi :"
   ]
  },
  {
   "cell_type": "code",
   "execution_count": null,
   "metadata": {},
   "outputs": [],
   "source": [
    "@interact(x=(-2, 2, .2))  # on « décore » la fonction suivante pour la rendre interactive\n",
    "def impression_carre(x=1):\n",
    "    print(f\"Le carré de {x:4.1f} est {x*x:.2f}\")"
   ]
  },
  {
   "cell_type": "markdown",
   "metadata": {},
   "source": [
    "On peut utiliser `@interact` pour observer l'influence des paramètres sur un graphique par exemple."
   ]
  },
  {
   "cell_type": "code",
   "execution_count": null,
   "metadata": {},
   "outputs": [],
   "source": [
    "def plot_trig(p, q):\n",
    "    x = np.linspace(-5, 5, 300)  # création d'un vecteur de 300 points équirépartis entre -5 et 5\n",
    "    return plt.plot(x, np.sin(p * x) + np.cos(q * x / 2))[0]  # on retourne le résultat du plot au cas où on veut y intervenir avant l'affichage\n",
    "\n",
    "@interact(p=(0, 10, .2), q=(0, 10, .2))\n",
    "def generate_plot(p=5, q=3):\n",
    "    plot_trig(p, q)\n",
    "    plt.title(fr\"$\\sin({p}x)+\\cos({q}x)/2$\")  # une chaîne formatée (f-string) avec du LaTeX.\n",
    "    plt.ylabel(\"somme de deux sinus\")  # l'étiquette de l'ordonnée\n",
    "    plt.ylim(-2, 2)  #\n",
    "    plt.show()  # et on affiche le graphique (non obligatoire ici)"
   ]
  },
  {
   "cell_type": "markdown",
   "metadata": {},
   "source": [
    "Quelques commentaires sur le code ci-dessus :\n",
    "- les valeurs par défaut `p=5,q=3` dans `generate_plot` servent de valeur initiale des curseurs.\n",
    "- le titre est créé avec un `f-string` (voir les explications plus bas) qui utilise des formules LaTeX, et pour ne pas avoir des problèmes avec les `\\` on utilise une chaîne brute (*raw* string, indiqué par le `r` devant).\n",
    "- On aurait pu utiliser une seule fonction, mais la séparation de `plot_sin` du reste nous permet de réutiliser ce code dans d'autres graphiques, par exemple si on souhaite créer une image **statique** superposant des graphes pour des diverses valeurs de `p` et `q` il suffit d'évoquer `plot_sin` plusieurs fois avant de conclure par `plt.show()`."
   ]
  },
  {
   "cell_type": "code",
   "execution_count": null,
   "metadata": {},
   "outputs": [],
   "source": [
    "for p, q in [[1, 0], [1, 3], [3, 1]]:\n",
    "    graph = plot_trig(p, q)  # plot retourne le graphe\n",
    "    graph.set_label(f\"p={p}, q={q}\")  # oups, on utilise l'interface OO\n",
    "plt.title(f\"diverts valeurs de $\\\\sin(px)+\\\\sin(qx)/2$\")\n",
    "plt.ylabel(\"somme de deux sinus\")\n",
    "plt.ylim(-2, 3)  # on limite l'ordonnée\n",
    "plt.legend()\n",
    "plt.show()"
   ]
  },
  {
   "cell_type": "markdown",
   "metadata": {},
   "source": [
    "Si on veut pouvoir modifier un dessin pour créer une animation ou pour pouvoir interagir avec un plot 3D il faut changer le mode d'affichage de `matplotlib`. Pour cela on utilise l'instruction de Jupyter suivante `%matplotlib notebook`, mais il ne faut pas oublier de revenir après au mode « standard » (ou « statique ») avec `%matplotlib inline`."
   ]
  },
  {
   "cell_type": "markdown",
   "metadata": {},
   "source": [
    "## Attribution de plusieurs valeurs\n",
    "\n",
    "En Python on peut attribuer plusieurs valeurs en même temps de la façon suivante :"
   ]
  },
  {
   "cell_type": "code",
   "execution_count": null,
   "metadata": {},
   "outputs": [],
   "source": [
    "a, b, c = 0, 1, 2\n",
    "print(f\"la valeur de b est {b}.\")"
   ]
  },
  {
   "cell_type": "code",
   "execution_count": null,
   "metadata": {},
   "outputs": [],
   "source": [
    "a, b, c = (0, 1, 2)\n",
    "print(f\"la valeur de b est {b}.\")"
   ]
  },
  {
   "cell_type": "code",
   "execution_count": null,
   "metadata": {},
   "outputs": [],
   "source": [
    "a, b, c = [0, 1, 2]\n",
    "print(f\"la valeur de b est {b}.\")"
   ]
  }
 ],
 "metadata": {
  "kernelspec": {
   "display_name": "Python 3",
   "language": "python",
   "name": "python3"
  },
  "language_info": {
   "codemirror_mode": {
    "name": "ipython",
    "version": 3
   },
   "file_extension": ".py",
   "mimetype": "text/x-python",
   "name": "python",
   "nbconvert_exporter": "python",
   "pygments_lexer": "ipython3",
   "version": "3.7.10"
  }
 },
 "nbformat": 4,
 "nbformat_minor": 2
}