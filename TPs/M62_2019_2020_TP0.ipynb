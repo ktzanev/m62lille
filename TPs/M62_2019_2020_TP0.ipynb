{
  "cells": [
    {
      "cell_type": "markdown",
      "metadata": {},
      "source": [
        "# TP 0 - Conseilles et astuces (i)Python\n",
        "\n",
        "Dans ce TP on va essayer de (re)voir quelques points particuliers dans la programmation Python et plus particulièrement d'iPython avec Jupyter Notebook.\n",
        "\n",
        "**Pour passer d'une cellule à la suivante en l'exécutant il suffit de faire <kbd>Ctrl+Enteer</kbd>.**\n",
        "\n",
        "*Et pour voir les autre touches de raccourci, il faut faire <kbd>H</kbd> (si vous êtes en train d'éditer une cellule il faut d'abord sortir du mode « edition » avec <kbd>Esc</kbd>).*"
      ]
    },
    {
      "cell_type": "code",
      "execution_count": null,
      "metadata": {},
      "outputs": [],
      "source": [
        "import numpy as np\n",
        "import matplotlib.pyplot as plt"
      ]
    },
    {
      "cell_type": "markdown",
      "metadata": {},
      "source": [
        "## Interactivité dans les Notebook Jupyter (iPython)\n",
        "\n",
        "Pour pouvoir observer le résultat de la variation d'un paramètre il y a deux principales méthodes : \n",
        "- La méthode « statique » qui consiste à afficher les résultats pour différente valeur d'un paramètre. Elle convient très bien pour la production de document destiner à l'impression.\n",
        "- La méthode « dynamique » qui consiste à afficher le résultat pour une valeur donnée du paramètre, tout en ayant la possibilité de faire varier se paramètre grâce à une interface utilisateur. Elle convient très bien pour l'expérimentation ou l'enseignement par ordinateur.\n",
        "\n",
        "Considérons par exemple le cas très simple où on souhaite afficher le résultat $x^2$ en fonction de $x\\in [-2,2]$.\n",
        "- Avec la méthode « statique » on peut créer une boucle et afficher des diverses valeurs:"
      ]
    },
    {
      "cell_type": "code",
      "execution_count": null,
      "metadata": {},
      "outputs": [],
      "source": [
        "for x in np.arange(-2,2,.2):\n",
        "    print(f\"Le carré de {x:4.1f} est {x*x:.1f}\")"
      ]
    },
    {
      "cell_type": "markdown",
      "metadata": {},
      "source": [
        "Pour utiliser la méthode « dynamique » nous avons besoin d'abord de charger les bibliothèques nécessaires :"
      ]
    },
    {
      "cell_type": "code",
      "execution_count": null,
      "metadata": {},
      "outputs": [],
      "source": [
        "from ipywidgets import interact\n",
        "import ipywidgets as widgets"
      ]
    },
    {
      "cell_type": "markdown",
      "metadata": {},
      "source": [
        "Puis on peut procéder ainsi :"
      ]
    },
    {
      "cell_type": "code",
      "execution_count": null,
      "metadata": {
        "scrolled": false
      },
      "outputs": [],
      "source": [
        "@interact(x=(-2,2,.2)) # on 'decore' la fonction suivante pour la rendre interractive\n",
        "def impression_carre(x=1):\n",
        "    print(f\"Le carré de {x:4.1f} est {x*x:.2f}\")"
      ]
    },
    {
      "cell_type": "markdown",
      "metadata": {},
      "source": [
        "À la place du décorateur `@interact` on peut utiliser la fonction sous-jacente"
      ]
    },
    {
      "cell_type": "markdown",
      "metadata": {},
      "source": [
        "On peut utiliser cette méthode pour afficher l'influence d'un ou plusieurs paramètres sur le graphe d'une fonction : "
      ]
    },
    {
      "cell_type": "code",
      "execution_count": null,
      "metadata": {
        "scrolled": true
      },
      "outputs": [],
      "source": [
        "_ = interact(impression_carre,x=(-2,2,.2)) # il faut ignorer le retour de `interact` car la fonction`impression_carre` ne renvoie pas de valeure"
      ]
    },
    {
      "cell_type": "code",
      "execution_count": null,
      "metadata": {},
      "outputs": [],
      "source": [
        "def plot_sin(p,q):\n",
        "    x=np.linspace(-5,5,300) # creation d'un vecteur de 300 points équirépartis entre -5 et 5\n",
        "    return plt.plot(x,np.sin(p*x)+np.sin(q*x)/2) # on retourn le résultat du plot au cas où on veut y intervenir avant l'affichage\n",
        "\n",
        "@interact(p=(0,10), q=(0,10))\n",
        "def generate_plot(p=5,q=3):\n",
        "    plot_sin(p,q)\n",
        "    plt.title(fr\"$\\sin({p}x)+\\sin({q}x)/2$\") # une chaine formaté (f-string) avec du LaTeX.\n",
        "    plt.ylabel(\"somme de deux sinus\") # l'étiquette de l'ordonnée\n",
        "    plt.ylim(-2,2) # \n",
        "    # plt.show() # et on affiche le graphique (non necessaire dans jupyter)\n",
        "\n"
      ]
    },
    {
      "cell_type": "markdown",
      "metadata": {},
      "source": [
        "Quelques commentaires sur le code ci-dessus:\n",
        "- les valeurs par défaut `p=5,q=3` dans `generate_plot` serve de valeur initiale des curseurs.\n",
        "- le titre est créé avec un `f-string` (voir les explications plus bas) qui utilise des formules LaTeX, et pour ne pas avoir des problèmes avec les `\\` on utilise une chaine brute (*raw* string, indiqué par le `r` devant).\n",
        "- On aurait pu utiliser une seule fonction, mais la séparation de `plot_sin` du reste nous permet de réutiliser ce code dans d'autres graphiques, par exemple si on souhaite créer une image **statique** superposant des graphes pour des diverses valeurs de `p` et `q` il suffit d'évoquer `plot_sin` plusieurs fois avant de conclure par `plt.show()`.  "
      ]
    },
    {
      "cell_type": "code",
      "execution_count": null,
      "metadata": {},
      "outputs": [],
      "source": [
        "for p,q in [[1,0], [1,3], [3,1]]:\n",
        "    graph, = plot_sin(p,q) # plot retourne une liste et on récupère que le premier élément\n",
        "    graph.set_label(f\"p={p}, q={q}\")\n",
        "plt.title(f\"diverts valeurs de $\\\\sin(px)+\\\\sin(qx)/2$\")\n",
        "plt.ylabel(\"somme de deux sinus\") # l'étiquette de l'ordonnée\n",
        "plt.ylim(-2,3)\n",
        "plt.legend()\n",
        "plt.show()"
      ]
    },
    {
      "cell_type": "markdown",
      "metadata": {},
      "source": [
        "Si on veut pouvoir modifier un dessin pour créer une animation ou pour pouvoir interagir avec un plot 3D il faut changer le mode d'affichage de `matplotlib`. Pour cela on utilise l'instruction de Jupyter suivante `%matplotlib notebook`, mais il ne faut pas oublier de revenir après au mode « standard » (ou « statique ») avec `%matplotlib inline`."
      ]
    },
    {
      "cell_type": "markdown",
      "metadata": {},
      "source": [
        "Voici un exemple d'animation qui utilise le mode « notebook » de `matplotlib`."
      ]
    },
    {
      "cell_type": "code",
      "execution_count": null,
      "metadata": {},
      "outputs": [],
      "source": [
        "%matplotlib notebook\n",
        "\n",
        "import time\n",
        "\n",
        "doublesin = lambda p, q, x : np.sin(p * x) + np.sin(q * x) / 2\n",
        "\n",
        "fig = plt.figure()\n",
        "x = np.linspace(-5, 5, 300)  # creation d'un vecteur de 300 points équirépartis entre -5 et 5\n",
        "graph, = plt.plot(x, doublesin(0,0,x))  # on recupère le graphe à modifier après\n",
        "plt.title(f\"diverts valeurs de $\\\\sin(px)+\\\\sin(qx)/2$\")\n",
        "plt.ylabel(\"somme de deux sinus\")  # l'étiquette de l'ordonnée\n",
        "plt.ylim(-2, 3)\n",
        "plt.show()\n",
        "\n",
        "for p, q in [[1, 0], [1, 3], [3, 1]]:\n",
        "    graph.set_ydata(np.sin(p * x) + np.sin(q * x) / 2)  # on chage les donnée du graphe à dessiner\n",
        "    graph.set_label(f\"p={p}, q={q}\")\n",
        "    plt.legend()\n",
        "    fig.canvas.draw()\n",
        "    fig.canvas.flush_events()\n",
        "    time.sleep(1)  # attendre 1 seconde\n",
        "\n",
        "%matplotlib inline"
      ]
    },
    {
      "cell_type": "markdown",
      "metadata": {},
      "source": [
        "Et voici une animation 3D qui utilise le mode « notebook » de `matplotlib`.\n",
        "\n",
        "Vous pouvez tourner l'image 3D. Par contre tant que le mode « notebook » est actif les commandes de `matplotlib` utilise le même graphique en ce superposant, donc dès qu'on a terminé à examiner une image 3D il faut revenir au comportement « stadard » avec `%matplotlib inline` ou cliquer sur le bouton <button class=\"btn btn-mini btn-primary\" href=\"#\" title=\"Stop Interaction\"><i class=\"fa fa-power-off icon-remove icon-large\"></i></button> « Stop interaction »."
      ]
    },
    {
      "cell_type": "code",
      "execution_count": null,
      "metadata": {},
      "outputs": [],
      "source": [
        "%matplotlib notebook\n",
        "\n",
        "from mpl_toolkits.mplot3d import Axes3D\n",
        "\n",
        "t = np.linspace(-5, 5, 300)  # le temps\n",
        "x, y = t**2, t * np.sin(2 * t)  # les coordonnées (x,y)\n",
        "dessin = Axes3D(plt.figure())  # la zone de dessin 3D\n",
        "dessin.set_xlabel('$x$')\n",
        "dessin.set_ylabel('$y$')\n",
        "dessin.set_zlabel('$t$')\n",
        "dessin.plot(x, y, t)  # on dessine la courbe\n",
        "plt.show()"
      ]
    },
    {
      "cell_type": "markdown",
      "metadata": {},
      "source": [
        "Et si en plus on souhaite observer dynamiquement le changement d'un paramètre dans ce dessin 3D on peut faire ainsi"
      ]
    },
    {
      "cell_type": "code",
      "execution_count": null,
      "metadata": {},
      "outputs": [],
      "source": [
        "# la bibliothèque qui permet d'utiliser (le décorateur) @interact\n",
        "from ipywidgets import interact\n",
        "\n",
        "# on redessine le graphe précédent et\n",
        "# on récupère l'objet `courbe` qui pourra être modifié par la suite\n",
        "t = np.linspace(-5, 5, 300)  # le temps\n",
        "x, y = t**2, t * np.sin(2 * t)  # les coordonnées (x,y)\n",
        "dessin = Axes3D(plt.figure())  # la zone de dessin 3D\n",
        "dessin.set_xlabel('$x$')\n",
        "dessin.set_ylabel('$y$')\n",
        "dessin.set_zlabel('$t$')\n",
        "courbe, = dessin.plot(x, y, t)  # ceci est équivalent à `courbe = dessin.plot(t, x, y)[0]`\n",
        "\n",
        "\n",
        "# le graphique interactif qui permet de varier le paramètre `c` de la fonction `graph`\n",
        "# entre -5 et 5 (avec un pas de 1).\n",
        "# la valeur initiale est déterminée par la valeur par defaut de `c`.\n",
        "@interact(c=(-5, 5, .1))\n",
        "def graph(c=2):\n",
        "    y = t * np.sin(c * t)\n",
        "    courbe.set_data_3d(x, y, t)"
      ]
    },
    {
      "cell_type": "markdown",
      "metadata": {},
      "source": [
        "Et finalement on repasse en mode « standard » de dessin"
      ]
    },
    {
      "cell_type": "code",
      "execution_count": null,
      "metadata": {},
      "outputs": [],
      "source": [
        "%matplotlib inline"
      ]
    },
    {
      "cell_type": "markdown",
      "metadata": {},
      "source": [
        "## Résultats textuels\n",
        "Très souvent on souhaite imprimer les résultats numériques accompagnés d'un texte. Pour cela il existe trois méthodes standards :\n",
        "- *(méthode obsolète)* en utilisant `%` de la façon suivant :"
      ]
    },
    {
      "cell_type": "code",
      "execution_count": null,
      "metadata": {},
      "outputs": [],
      "source": [
        "a = 1\n",
        "s = 'Le résultat de la somme de %d et %d est %d.' % (a, 2, 1+2)\n",
        "print(s)"
      ]
    },
    {
      "cell_type": "markdown",
      "metadata": {},
      "source": [
        "- en utilisant la méthode `format`, dont voici un exemple :"
      ]
    },
    {
      "cell_type": "code",
      "execution_count": null,
      "metadata": {},
      "outputs": [],
      "source": [
        "a = 1\n",
        "s = 'Le résultat de la somme de {} et {} est {}.'.format(a, 2, 1+2)\n",
        "print(s)"
      ]
    },
    {
      "cell_type": "markdown",
      "metadata": {},
      "source": [
        "avec cette méthode l'ordre d'apparition des paramètres n'est pas forcément celui des arguments :"
      ]
    },
    {
      "cell_type": "code",
      "execution_count": null,
      "metadata": {
        "scrolled": true
      },
      "outputs": [],
      "source": [
        "a = 1\n",
        "s = 'Le résultat de la somme de {1} et {0} est {2}.'.format(a, 2, 1+2)\n",
        "print(s)"
      ]
    },
    {
      "cell_type": "markdown",
      "metadata": {},
      "source": [
        "De plus un paramètre peut être utilisé plusieurs fois et on peut contrôler le format de conversion en chaîne de caractères : "
      ]
    },
    {
      "cell_type": "code",
      "execution_count": null,
      "metadata": {
        "scrolled": true
      },
      "outputs": [],
      "source": [
        "s = '''\n",
        "Une approximation de pi est {0}, dont l'arrondi à 2 chiffres est {0:.2f}.\n",
        "Une ecriture scientifique de ce même nombre est {0:.2e} ...\n",
        "'''.format(3.141592653589793)\n",
        "print(s)"
      ]
    },
    {
      "cell_type": "markdown",
      "metadata": {},
      "source": [
        "- la méthode la plus récente (introduite dans Python 3.6) est d'utiliser les `f-string` :"
      ]
    },
    {
      "cell_type": "code",
      "execution_count": null,
      "metadata": {},
      "outputs": [],
      "source": [
        "a = 1\n",
        "s = f'Le résultat de la somme de {a} et {2} est {a+2:.>10}.'\n",
        "print(s)"
      ]
    },
    {
      "cell_type": "markdown",
      "metadata": {},
      "source": [
        "Pour savoir plus sur les formatages possibles des paramètres vous pouvez consulter\n",
        "- [Python String Formatting Best Practices](https://realpython.com/python-string-formatting/)"
      ]
    },
    {
      "cell_type": "markdown",
      "metadata": {},
      "source": [
        "## Attribution de plusieurs valeurs\n",
        "\n",
        "En Python on peut attribuer plusieurs valeurs en même temps de la façon suivante :"
      ]
    },
    {
      "cell_type": "code",
      "execution_count": null,
      "metadata": {},
      "outputs": [],
      "source": [
        "a,b,c = 0,1,2\n",
        "print(f\"la veleur de b est {b}.\")"
      ]
    },
    {
      "cell_type": "code",
      "execution_count": null,
      "metadata": {},
      "outputs": [],
      "source": [
        "a,b,c = (0,1,2)\n",
        "print(f\"la veleur de b est {b}.\")"
      ]
    },
    {
      "cell_type": "code",
      "execution_count": null,
      "metadata": {},
      "outputs": [],
      "source": [
        "a,b,c = [0,1,2]\n",
        "print(f\"la veleur de b est {b}.\")"
      ]
    },
    {
      "cell_type": "code",
      "execution_count": null,
      "metadata": {},
      "outputs": [],
      "source": [
        "print(\"la veleur de b est {1}.\".format(0,1,2)) # ici {0} = 0, {1} = 1, {2} = 2"
      ]
    },
    {
      "cell_type": "code",
      "execution_count": null,
      "metadata": {},
      "outputs": [],
      "source": [
        "print(\"la veleur de b est {1}.\".format(*[0,1,2])) # ici *[0,1,2] => 0,1,2"
      ]
    },
    {
      "cell_type": "markdown",
      "metadata": {},
      "source": [
        "## Gestion des erreurs\n",
        "\n",
        "En Python il existe un moyen très performant pour gérer les erreurs utilisant les exceptions (`try ... except`), mais très souvent il est plus pratique de simplement retourner deux valeurs, dont une indique s'il y a eu une erreur où pas :"
      ]
    },
    {
      "cell_type": "code",
      "execution_count": null,
      "metadata": {},
      "outputs": [],
      "source": [
        "def division(a,b) :\n",
        "    if b==0 :\n",
        "        return [a*float(\"inf\"), True]\n",
        "    else :\n",
        "        return [a/b, False]\n",
        "    \n",
        "for p,q in [(1,2),(1,0)]:\n",
        "    result, error = division(p,q)\n",
        "    if error :\n",
        "        print(f\"La division de {p} par {q} est ...oups...\")\n",
        "    else :\n",
        "        print(f\"La division de {p} par {q} est égale à {result}.\")\n",
        "    \n",
        "    "
      ]
    },
    {
      "cell_type": "markdown",
      "metadata": {},
      "source": [
        "Et si on n'a pas besoin de l'erreur il suffit de l'ignorer ainsi :"
      ]
    },
    {
      "cell_type": "code",
      "execution_count": null,
      "metadata": {},
      "outputs": [],
      "source": [
        "result,_ = division(1,2)\n",
        "print(result)"
      ]
    },
    {
      "cell_type": "markdown",
      "metadata": {},
      "source": [
        "## Les fonctions\n",
        "\n",
        "### les fonction `lambda`\n",
        "\n",
        "Considérons la fonction $f:x\\mapsto \\frac{x+1}{x^2+1}$. On peut définir cette fonction en utilisant `def`"
      ]
    },
    {
      "cell_type": "code",
      "execution_count": null,
      "metadata": {},
      "outputs": [],
      "source": [
        "def f(x):\n",
        "    return (x + 1) / (x * x + 1)\n",
        "\n",
        "\n",
        "for x in [0, 1, 2]:\n",
        "    print(f\"la valeur de f en {x} est {f(x)}\")"
      ]
    },
    {
      "cell_type": "markdown",
      "metadata": {},
      "source": [
        "Mais il est plus naturel d'utiliser `lambda` qui est plus proche de la notation mathématique plus haut"
      ]
    },
    {
      "cell_type": "code",
      "execution_count": null,
      "metadata": {},
      "outputs": [],
      "source": [
        "f = lambda x : (x + 1) / (x * x + 1)\n",
        "\n",
        "for x in [0, 1, 2]:\n",
        "    print(f\"la valeur de f en {x} est {f(x)}\")"
      ]
    },
    {
      "cell_type": "markdown",
      "metadata": {},
      "source": [
        "Les fonctions définies ainsi peuvent avoir plusieurs paramètres *(avec y compris des valeurs par défaut)*"
      ]
    },
    {
      "cell_type": "code",
      "execution_count": null,
      "metadata": {},
      "outputs": [],
      "source": [
        "g = lambda x, y, z=1: (x + y) / (x * x + z)\n",
        "\n",
        "for x, y in [(0, 1), (1, 2), (2, 3)]:\n",
        "    print(f\"la valeur de g en {x,y} est {g(x,y)}\")"
      ]
    },
    {
      "cell_type": "markdown",
      "metadata": {},
      "source": [
        "### Les fonction avec condition\n",
        "\n",
        "Et comment faire si nous avons une fonction dont la définition contient une condition, comme par exemple \n",
        "$$\n",
        "    h : x \\mapsto \n",
        "    \\begin{cases}\n",
        "        0       & \\text{si }x=0     \\\\\n",
        "        \\frac1x & \\text{si }x\\neq 0\n",
        "    \\end{cases}\\;\\text{?}\n",
        "$$\n",
        "On peut utiliser un `if` de la façon suivante"
      ]
    },
    {
      "cell_type": "code",
      "execution_count": null,
      "metadata": {},
      "outputs": [],
      "source": [
        "h = lambda x : 0 if x == 0 else 1/x\n",
        "\n",
        "for x in [0, 1, 2]:\n",
        "    print(f\"la valeur de h en {x} est {h(x)}\") "
      ]
    },
    {
      "cell_type": "markdown",
      "metadata": {},
      "source": [
        "Ou on peut utiliser le fait que `x and y` vaut `x` si `x` a la valeur de `False` et `y` sinon"
      ]
    },
    {
      "cell_type": "code",
      "execution_count": null,
      "metadata": {},
      "outputs": [],
      "source": [
        "h = lambda x : x and 1/x\n",
        "\n",
        "for x in [0, 1, 2]:\n",
        "    print(f\"la valeur de h en {x} est {h(x)}\")  "
      ]
    },
    {
      "cell_type": "markdown",
      "metadata": {},
      "source": [
        "Le problème avec ces deux définitions est qu'aucune ne fonctione avec un argument tableau."
      ]
    },
    {
      "cell_type": "code",
      "execution_count": null,
      "metadata": {},
      "outputs": [],
      "source": [
        "def test(h):\n",
        "    for x in [0, 1, [0, 1], np.array([0, 1, 2])]:\n",
        "        try:\n",
        "            print(f\"la valeur de h en {x} (de type {type(x).__name__}) est {h(x)} (de type {type(h(x)).__name__})\")\n",
        "        except:\n",
        "            print(f\"!!! h ne fonctionne pas avec les arguments de type {type(x).__name__}\")\n",
        "\n",
        "test(h)"
      ]
    },
    {
      "cell_type": "markdown",
      "metadata": {},
      "source": [
        "Pour définir cette même fonction de sorte à ce qu'on puisse évaluer `f([0,1,2])` et obtenir comme résultat le tableau `numpy` `[0,1,.5]` nous avons plusieurs options."
      ]
    },
    {
      "cell_type": "markdown",
      "metadata": {},
      "source": [
        "Nous pouvons aussi utiliser une construction pythonesque, mais qui est plus lente et qui ne fonctionne pas avec les scalaires."
      ]
    },
    {
      "cell_type": "code",
      "execution_count": null,
      "metadata": {},
      "outputs": [],
      "source": [
        "h = lambda x : np.asarray([xx and 1/xx for xx in x])\n",
        "\n",
        "\n",
        "test(h)"
      ]
    },
    {
      "cell_type": "markdown",
      "metadata": {},
      "source": [
        "Nous pouvons utiliser la fonction `where` de `numpy` mais le problème est qu'elle évalue tous ces arguments. Pour palier à ça on peut temporairement \"annuler\" les erreurs de division par `0`. Cette méthode renvoi toujours en tableau qui peut être de dimension 0 ou 1."
      ]
    },
    {
      "cell_type": "code",
      "execution_count": null,
      "metadata": {},
      "outputs": [],
      "source": [
        "def h(x):\n",
        "    x = np.asarray(x)\n",
        "    np.seterr(divide='ignore')\n",
        "    resultat = np.where(x == 0, 0, 1/x)\n",
        "    np.seterr(divide='raise')\n",
        "    return resultat\n",
        "\n",
        "test(h)"
      ]
    },
    {
      "cell_type": "markdown",
      "metadata": {},
      "source": [
        "Nous pouvons également utiliser l'extraction consditionnelle d'un tableau `numpy` mais pour cela il faut d'abord transformer l'argument en tableau. La particularité de cette méthode est qu'elle renvoie toujours un tableau `numpy` de dimension 1. "
      ]
    },
    {
      "cell_type": "code",
      "execution_count": null,
      "metadata": {},
      "outputs": [],
      "source": [
        "def h(x):\n",
        "    y = [x] if np.isscalar(x) else x # y est un tableau  \n",
        "    y = np.array(y, dtype=float, copy=True) # y est un tableau numpy contenant des réels\n",
        "    y[y != 0] = 1 / y[y != 0] # on inverse les valaurs non nulles \n",
        "    return y\n",
        "\n",
        "test(h)"
      ]
    },
    {
      "cell_type": "markdown",
      "metadata": {},
      "source": [
        "### Les fonction avec paramètre\n",
        "\n",
        "Et comment faire si nous avons une fonction dont la définition contient des paramètres, comme par exemple \n",
        "$$\n",
        "    h_{p,q} : x \\mapsto \\sin(px+q)\\;\\text{?}\n",
        "$$"
      ]
    },
    {
      "cell_type": "markdown",
      "metadata": {},
      "source": [
        "Nous pouvons définir une fonction générale qui prend les paramètres comme arguments et après pour spécifier les paramètres créer une nouvelle fonction qui utilise la première."
      ]
    },
    {
      "cell_type": "code",
      "execution_count": null,
      "metadata": {},
      "outputs": [],
      "source": [
        "H = lambda p,q,x : np.sin(p*x+q)\n",
        "\n",
        "h = lambda x : H(2,3,x)\n",
        "\n",
        "test(h)"
      ]
    },
    {
      "cell_type": "markdown",
      "metadata": {},
      "source": [
        "Mais nous pouvons de façon plus « pythonesque » definir une fonction qui renvoi la fonction spécifiée par les paramètres comme résultat."
      ]
    },
    {
      "cell_type": "code",
      "execution_count": null,
      "metadata": {},
      "outputs": [],
      "source": [
        "h = lambda p,q : lambda x : np.sin(p*x+q)\n",
        "\n",
        "# maintenant h(2,3) est une fonction qui peut être evaluée\n",
        "# par exemple on peut faire h(2,3)(1)\n",
        "\n",
        "test(h(2,3))\n"
      ]
    }
  ],
  "metadata": {
    "kernelspec": {
      "display_name": "Python 3",
      "language": "python",
      "name": "python3"
    },
    "language_info": {
      "codemirror_mode": {
        "name": "ipython",
        "version": 3
      },
      "file_extension": ".py",
      "mimetype": "text/x-python",
      "name": "python",
      "nbconvert_exporter": "python",
      "pygments_lexer": "ipython3",
      "version": "3.7.4"
    }
  },
  "nbformat": 4,
  "nbformat_minor": 2
}
