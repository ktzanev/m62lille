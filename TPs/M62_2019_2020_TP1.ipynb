{
  "cells": [
    {
      "cell_type": "markdown",
      "metadata": {},
      "source": [
        "# TP 1 - Introduction aux équations différentielles\n",
        "\n",
        "## Numpy et Matplotlib\n",
        "\n",
        "On trouve dans le module `numpy` les outils de manipulation des tableaux; notamment, `numpy` met en œuvre les fonctions standard de manière vectorielle. Pour l'importer, on recommande d'utiliser"
      ]
    },
    {
      "cell_type": "code",
      "execution_count": null,
      "metadata": {},
      "outputs": [],
      "source": [
        "import numpy as np"
      ]
    },
    {
      "cell_type": "markdown",
      "metadata": {},
      "source": [
        "Toutes les fonctions NumPy seront alors préfixées par `np.`.\n",
        "\n",
        "Le module `matplotlib` (et en particulier le sous-module `pyplot`) est chargé de tracer les courbes :"
      ]
    },
    {
      "cell_type": "code",
      "execution_count": null,
      "metadata": {},
      "outputs": [],
      "source": [
        "import matplotlib.pyplot as plt"
      ]
    },
    {
      "cell_type": "markdown",
      "metadata": {},
      "source": [
        "D'une manière générale, les fonctions `plt.plot` prennent en arguments des tableaux de points du plan. Selon les options, ces points du plan sont reliés entre eux de façon ordonnée par des segments: le résultat est une courbe, par exemple pour la fonction sinus,"
      ]
    },
    {
      "cell_type": "code",
      "execution_count": null,
      "metadata": {},
      "outputs": [],
      "source": [
        "t = np.linspace(-5, 5, 100)  # creation d 'un vecteur de 100 points équirépartis entre -5 et 5\n",
        "plt.plot(t, np.sin(t))  # on utilise la fonction sinus de numpy\n",
        "plt.ylabel(\"fonction sinus\")  # l 'étiquette de l'ordonnée\n",
        "plt.xlabel(\"l'axe des abcisses\")  # l 'étiquette de l'abscisse\n",
        "plt.show()  # et on affiche le graphique"
      ]
    },
    {
      "cell_type": "markdown",
      "metadata": {},
      "source": [
        "La fonction `plt.savefig` sauvegarde le graphique.  \n",
        "**Attention :** il ne faut pas essayer de sauvegarder l'image après l'avoir affiché à l'écran, car la commande `plt.show` efface tout. Il faut utiliser `plt.savefig` à la place de `plt.show`."
      ]
    },
    {
      "cell_type": "code",
      "execution_count": null,
      "metadata": {},
      "outputs": [],
      "source": [
        "t = np.linspace(-5, 5, 100)  # creation d'un vecteur de 100 points équirépartis entre -5 et 5 (y compris)\n",
        "plt.plot(t, np.sin(t), \"r--\")  # on utilise la fonction sinus de numpy\n",
        "plt.ylabel(\"fonction sinus\")  # l'étiquette de l'ordonnée\n",
        "plt.xlabel(\"l'angle en radians\")  # l'étiquette de l'abscisse\n",
        "plt.savefig(\"sinus.png\")"
      ]
    },
    {
      "cell_type": "markdown",
      "metadata": {},
      "source": [
        "### Exercice 1\n",
        "\n",
        "La solution générale de l'équation différentielle\n",
        "$$\n",
        "    t(1+\\ln^2(t))y'+2(\\ln t)y=1\n",
        "$$\n",
        "est donnée par $\\displaystyle f_c(t)=\\frac{\\ln t +c}{1+\\ln^2t}$ pour $t\\in]0;+\\infty[$, où le paramètre $c$ varie dans $\\mathbb{R}$.\n",
        "\n"
      ]
    },
    {
      "cell_type": "markdown",
      "metadata": {},
      "source": [
        "a) Définir la fonction `f(c,t)` qui évalue $f_c$ sur tous les coordonnés du vecteur `t`."
      ]
    },
    {
      "cell_type": "code",
      "execution_count": null,
      "metadata": {},
      "outputs": [],
      "source": [
        "# définition de la solution f(c,t)\n",
        "\n"
      ]
    },
    {
      "cell_type": "markdown",
      "metadata": {},
      "source": [
        "b) Vérifier qu'il existe une unique solution satisfaisant la condition initiale $f_c(1)=-0.5$. Réaliser son tracé sur l'intervalle $]0;10]$. Donner comme titre « $t(1+\\ln^2(t))y'+2(\\ln t)y=1$ », et marquer la courbe avec le label « $y(1)=-0.5$ »."
      ]
    },
    {
      "cell_type": "code",
      "execution_count": null,
      "metadata": {},
      "outputs": [],
      "source": [
        "# le graphe de la solution recherchée\n",
        "\n"
      ]
    },
    {
      "cell_type": "markdown",
      "metadata": {},
      "source": [
        "### Exercice 2\n",
        "\n",
        "La solution générale de l'équation différentielle\n",
        "$$\n",
        "    y'+y=2\\sin(t)\n",
        "$$\n",
        "est donnée par $f_c(t)=-\\cos(t)+\\sin(t)+ce^{-t}$ pour $t\\in\\mathbb{R}$, où le paramètre $c$ varie dans $\\mathbb{R}$."
      ]
    },
    {
      "cell_type": "markdown",
      "metadata": {},
      "source": [
        "a) Définir la fonction `f(c,t)` qui évalue $f_c$ sur toutes les coordonnés du vecteur `t`."
      ]
    },
    {
      "cell_type": "code",
      "execution_count": null,
      "metadata": {},
      "outputs": [],
      "source": [
        "# définition de la solution f(c,t)\n",
        "\n"
      ]
    },
    {
      "cell_type": "markdown",
      "metadata": {},
      "source": [
        "b) Définir une fonction `graphe_solution_exo2(c,a,b)` qui rajoute le graphe de $f_c$ sur l'intervalle $[a,b]$ en utilisant 100 points d'interpolation. Puis, réaliser le graphe correspondant à $c=0$, pour $t\\in[-5;5]$."
      ]
    },
    {
      "cell_type": "code",
      "execution_count": null,
      "metadata": {},
      "outputs": [],
      "source": [
        "# définition de graphe_solution_exo2(c,a,b)\n",
        "\n",
        "\n",
        "# graphe de f sur [-5,5] pour c=0\n",
        "\n"
      ]
    },
    {
      "cell_type": "markdown",
      "metadata": {},
      "source": [
        "b ) Représenter, dans la même fenêtre graphique, pour $t\\in[-5;5]$ et $y\\in[-50;50]$, les tracés en pointillés rouges correspondant à 11 valeurs de $c$ réparties uniformément entre -0.5 et 0.5. Tout en mettant en valeur (par exemple en bleu non pointillé) la valeur $c=0$."
      ]
    },
    {
      "cell_type": "code",
      "execution_count": null,
      "metadata": {},
      "outputs": [],
      "source": []
    },
    {
      "cell_type": "markdown",
      "metadata": {},
      "source": [
        "**Version dynamique:** Pour réaliser une version interactive de ce même graphique on peut utiliser `interact` de la librairie `ipywidgets` de la façon suivante"
      ]
    },
    {
      "cell_type": "code",
      "execution_count": null,
      "metadata": {},
      "outputs": [],
      "source": [
        "# la bibliothèque qui permet d'utiliser (le décorateur) @interact\n",
        "from ipywidgets import interact\n",
        "\n",
        "# le graphique interactive qui permet de varier le paramètre `c` de la fonction `graph`\n",
        "# entre -0.5 et 0.5 avec un pas de 0.1.\n",
        "# la valeur initiale est déterminée par la valeur par defaut de `c`.\n",
        "@interact(c=(-.5, .5, .1))\n",
        "def graph(c=.1):\n",
        "    g, = graphe_solution_exo2(c, -5, 5)\n",
        "    plt.setp(g, color='r' if c != 0 else 'b', linestyle=':' if c != 0 else '--')\n",
        "    plt.plot(0, c - 1, \"go\")\n",
        "    plt.title(fr\"$y'+y=2\\sin(t)$ avec $y(0)={c-1}$\")\n",
        "    plt.axis([-5, 5, -50, 50])\n",
        "    plt.show()"
      ]
    },
    {
      "cell_type": "markdown",
      "metadata": {},
      "source": [
        "### Exercice 3\n",
        "\n",
        "La solution générale de l'équation différentielle \n",
        "$$\n",
        "    y'+y=\\max(t,0)  \n",
        "$$\n",
        "est donnée par $f_c(t)=\\begin{cases}(c-1)e^{-t}&\\text{si}\\ t<0\\\\ ce^{-t}+t-1&\\text{si}\\ t\\ge 0\\end{cases}$\n",
        "où le paramètre $c$ varie dans $\\mathbb{R}$.\n",
        "\n",
        "a) Définir la fonction `f(c,t)` qui évalue $f_c$ sur toutes les coordonnés du vecteur `t`."
      ]
    },
    {
      "cell_type": "code",
      "execution_count": null,
      "metadata": {},
      "outputs": [],
      "source": [
        "# définition de la solution f(c,t)\n",
        "\n"
      ]
    },
    {
      "cell_type": "markdown",
      "metadata": {},
      "source": [
        "b) Étant donné $y_0$ déterminer l'unique solution qui vérifie la condition initiale $y(0)=y_0$. Puis réaliser un graphique dynamique qui représente le graphe de cette solution sur l'intervalle $[-5;20]$ et tel que : \n",
        "- on peut faire varier le paramètre $y_0\\in [-3,3]$ avec un pas de $0.5$,\n",
        "- la valeur initiale doit être $y_0=1$,\n",
        "- le titre initial doit être \"$f_{2.0}$ solution de $y'+y=max(t,0), y(0)={1}$\", et il doit être mis à jour dynamiquement en fonction de la valeur de $y_0=1$."
      ]
    },
    {
      "cell_type": "code",
      "execution_count": null,
      "metadata": {},
      "outputs": [],
      "source": []
    },
    {
      "cell_type": "markdown",
      "metadata": {},
      "source": [
        "### Exercice 4\n",
        "\n",
        "La solution générale de l'équation différentielle\n",
        "$$\n",
        "    y'=(t+y)^2\n",
        "$$\n",
        "\n",
        "est donnée par $\\displaystyle f_c(t)=\\mathrm{tan}(t+c)-t$ sur l'intervalle $]-\\frac{\\pi}{2}-c;\\frac{\\pi}{2}-c[$, où le paramètre $c$ varie dans $\\mathbb{R}$."
      ]
    },
    {
      "cell_type": "markdown",
      "metadata": {},
      "source": [
        "a) Définir la fonction `f(c,t)` qui évalue $f_c$ sur tous les coordonnés du vecteur `t`."
      ]
    },
    {
      "cell_type": "code",
      "execution_count": null,
      "metadata": {},
      "outputs": [],
      "source": [
        "# définition de la solution f(c,x)\n",
        "\n"
      ]
    },
    {
      "cell_type": "markdown",
      "metadata": {},
      "source": [
        "b) Définir `graphe_solution_exo4(c)` qui rajoute au graphique le graphe de $f_c$ sur son domaine de définition (interpolé sur 100 points).\n",
        "Puis afficher de façon dynamique en fonction de $c\\in[-3,3]$ (qui peut varier avec un pas de $0.5$) le graphe de $f_c$.\n",
        "Pour que le domaine affiché ne change pas vous pouvez utiliser `plt.axis`."
      ]
    },
    {
      "cell_type": "code",
      "execution_count": null,
      "metadata": {},
      "outputs": [],
      "source": []
    },
    {
      "cell_type": "markdown",
      "metadata": {},
      "source": [
        "## Tracé de champs de vecteurs\n",
        "\n",
        "Le tracé d'un champ de vecteurs consiste, pour une grille de points $(P_{i,j})$ de coordonnées $P_{i,j}=(x^{(i)},y^{(j)})$, à représenter le vecteur de coordonnées $(U^{(i)},V^{(j)})$ basé au point $P_{i,j}$. La fonction de Matplotlib est `quiver(X,Y,U,V,angles='xy')` où $X,Y$ sont les coordonnées (la grille), $U,V$ les composantes des vecteurs.\n",
        "\n",
        "Dans le cas d'une équation différentielle scalaire d'ordre 1, on s'intéresse au champ des vitesses: au point $(t,y(t))$, le vecteur vitesse est le vecteur tangent à la courbe, c.-à-d. $(1,y'(t))$. Quand on s'intéresse qu'à la direction de ce champ, on peut le normaliser. Par exemple, pour $y'+y=2\\sin t$ :\n"
      ]
    },
    {
      "cell_type": "code",
      "execution_count": null,
      "metadata": {},
      "outputs": [],
      "source": [
        "# definition de F avec t en deuxième coordonnée car y'=F(y,t)\n",
        "F = lambda y, t: -y + 2 * np.sin(t)\n",
        "\n",
        "# le champ de vecteur VF avec t en première coordonnée !\n",
        "VF = lambda V: [np.ones_like(V[0]), F(V[1], V[0])]\n",
        "\n",
        "N = 20  # le nombre de subdivisions\n",
        "T = np.linspace(-5, 5, N)  # le temps : abscisses des points de la grille\n",
        "Y = np.linspace(-50, 50, N)  # la solution Y : ordonnées des points de la grille\n",
        "U, V = VF(np.meshgrid(T, Y))  # les composantes du champ de vecteurs\n",
        "M = np.hypot(U, V)  # calcule la norme du vecteur (U,V)\n",
        "M[M == 0] = 1  # évite la valeur 0\n",
        "U /= M  # normalise la composante U\n",
        "V /= M  # normalise la composante V\n",
        "plt.quiver(T, Y, U, V, angles='xy')\n",
        "plt.show()"
      ]
    },
    {
      "cell_type": "markdown",
      "metadata": {},
      "source": [
        "### Fonction qui trace un champs de vecteurs normalisés\n",
        "\n",
        "Vu qu'on aura besoin dans la suite à tracer des champs de vecteurs pour diverses équations différentielles, définissez la fonction `champ_normalise(F,tmin,tmax,ymin,ymax,N)` qui rajoute au graphique le champ normalisé de l'équation $y'=F(y,t)$ dans le domaine `[tmin,tmax]x[ymin,ymax]` discrétisé sur une grille `N x N` (avec `N=20` comme valeur par defaut). Puis redessiner le graphique précédent en utilisant cette fonction.\n"
      ]
    },
    {
      "cell_type": "code",
      "execution_count": null,
      "metadata": {},
      "outputs": [],
      "source": [
        "# definition de champ_normalise(F, tmin, tmax, ymin, ymax, N)\n",
        "\n",
        "\n",
        "# affichage du graphique\n",
        "\n"
      ]
    },
    {
      "cell_type": "markdown",
      "metadata": {},
      "source": [
        "### Exercice 5\n",
        "\n",
        "La solution du problème de Cauchy\n",
        "$$\n",
        "    \\left\\{\\begin{aligned}y'&=|y|\\\\ y(0)&=y_0\\end{aligned}\\right.\n",
        "$$\n",
        "est donnée par $\\displaystyle f(t)=y_0e^{\\operatorname{sgn}(y_0)\\cdot t}$ pour $t\\in\\mathbb{R}$."
      ]
    },
    {
      "cell_type": "markdown",
      "metadata": {},
      "source": [
        "a) Tracer le champ des vitesses correspondant pour $t\\in[-6;6]$ (en abscisse) et $y\\in[-8;20]$."
      ]
    },
    {
      "cell_type": "code",
      "execution_count": null,
      "metadata": {},
      "outputs": [],
      "source": []
    },
    {
      "cell_type": "markdown",
      "metadata": {},
      "source": [
        "b) Définissez la fonction `f(y0,t)`, solution du problème de Cauchy avec condition initiale y(0) = y0."
      ]
    },
    {
      "cell_type": "code",
      "execution_count": null,
      "metadata": {},
      "outputs": [],
      "source": [
        "# la fonction f(y0,t), solution qui vérifie la condition initiale y(0) = y0\n",
        "\n",
        "\n",
        "assert (f(1, np.zeros(3)) == [1, 1, 1]).all(), 'f(1,[0,0,0]) = [1,1,1]'"
      ]
    },
    {
      "cell_type": "markdown",
      "metadata": {},
      "source": [
        "b) Créer un graphique dynamique qui : \n",
        "- représente le graphique précédent (du champ de vecteur normalisé),\n",
        "- superpose le graphe de la solution pour $y(0) = y_0\\in[-3,3]$, dont la valeur initiale est `y0=1`,\n",
        "- qui permet de faire varier `y0` avec un pas de `.5`,\n",
        "- qui affiche un titre expliquant ce qu'on observe sur le graphique,\n",
        "- et qui affiche un point rouge en les coordonnées initiales $(0,y_0)$."
      ]
    },
    {
      "cell_type": "code",
      "execution_count": null,
      "metadata": {},
      "outputs": [],
      "source": [
        "# le domaine du graphique\n",
        "tmin, tmax, ymin, ymax = -6, 6, -8, 20\n",
        "t = np.linspace(tmin, tmax, 100)\n",
        "\n",
        "# la représentation dynamique\n",
        "@interact(y0=(-3, 3, .5))\n",
        "def graph(y0=1):\n",
        "    # compléter\n"
      ]
    },
    {
      "cell_type": "markdown",
      "metadata": {},
      "source": [
        "## Intégrer une équation différentielle avec `odeint`\n",
        "\n",
        "Le principe d'utilisation de la fonction `odeint` de la bibliothèque `scipy.integrate` est de calculer une estimation numérique de la solution du problème de Cauchy\n",
        "$$\n",
        "    \\left\\{\\begin{array}{l}y'=F(y,t)\\\\ y(t_0)=y_0\\end{array}\\right.\\, .\n",
        "$$\n",
        "On donne comme arguments: \n",
        "- la fonction $F$ qui doit avoir deux paramètres (même dans le cas autonome) : la variable $y$ et le temps $t$ (comme\n",
        "deuxième paramètre)\n",
        "- la condition initiale $y_0$ (au temps $t_0$), et le domaine de temps discrétisé sous la forme de vecteur (qui doit commencer à $t_0$).\n",
        "Il nous est retourné un vecteur contenant la valeur de $y$ aux points de $x$. Par exemple, pour afficher les solutions de $y'+y=2\\sin t$ on peut faire:\n"
      ]
    },
    {
      "cell_type": "code",
      "execution_count": null,
      "metadata": {},
      "outputs": [],
      "source": [
        "from scipy.integrate import odeint"
      ]
    },
    {
      "cell_type": "code",
      "execution_count": null,
      "metadata": {},
      "outputs": [],
      "source": [
        "# définition de la fonction F\n",
        "F = lambda y, t: -y + 2 * np.sin(t)\n",
        "\n",
        "t = np.linspace(-5, 5, 100)\n",
        "y1 = odeint(F, 50, t)  # condition initiale y(-5)=50\n",
        "y2 = odeint(F, -20, t)  # condition initiale y(-5)=-20\n",
        "champ_normalise(F, -5, 5, -20, 50)\n",
        "plt.plot(t, y1, label=\"y(-5) = 50\")\n",
        "plt.plot(t, y2, label=\"y(-5) = -20\")\n",
        "plt.legend()\n",
        "plt.show()"
      ]
    },
    {
      "cell_type": "markdown",
      "metadata": {},
      "source": [
        "### Exercice 6\n",
        "\n",
        "On considère le problème de Cauchy suivant:\n",
        "$$\n",
        "    \\left\\{\\begin{array}{l}y'=|y|\\\\ y(t_0)=y_0\\end{array}\\right.\n",
        "$$"
      ]
    },
    {
      "cell_type": "markdown",
      "metadata": {},
      "source": [
        "a) Tracer (dans une même fenêtre graphique, et en ajoutant la légende adéquate) sur (une partie de) l'intervalle $[-6;6]$, en limitant $y$ dans $[-100,500]$, les solutions données par `odeint` pour les conditions initiales $(t_0,y_0)$ suivantes:\n",
        "$$\n",
        "    (0,50), (0,-80), (-3,1), (-3,-70).\n",
        "$$"
      ]
    },
    {
      "cell_type": "code",
      "execution_count": null,
      "metadata": {},
      "outputs": [],
      "source": []
    },
    {
      "cell_type": "markdown",
      "metadata": {},
      "source": [
        "c) Pour intégrer l'équation avec `odeint` sur $[a,t_0]$ (où $a < t_0$) avec la condition initiale $y_0$ au temps «&nbsp;final&nbsp;» $t_0$, il suffit d'utiliser le domaine de temps «&nbsp;inversé&nbsp;», c.-à-d. discrétisé à partir de $t_0$ avec un pas négatif, par exemple : `np.arange(t0, a, -.1)` ou `np.linspace(t0, a, 100)`.  \n",
        "\n",
        "Utiliser `odeint` pour obtenir sur **tout** l'intervalle $[-6;6]$ le graphe des solutions vérifiant $y(0)=50$, en rouge (resp. $y(0)=-80$, en vert)."
      ]
    },
    {
      "cell_type": "code",
      "execution_count": null,
      "metadata": {},
      "outputs": [],
      "source": [
        "# représentation des deux solutions\n"
      ]
    },
    {
      "cell_type": "markdown",
      "metadata": {},
      "source": [
        "d) Créer la version dynamique du même graphique où on peut faire varier $y_0$ dans $[-3,3]$ avec un pas de $0.5$, où $t_0=0$ (fixe), et on affiche aussi le champ de vecteurs normalisé."
      ]
    },
    {
      "cell_type": "code",
      "execution_count": null,
      "metadata": {},
      "outputs": [],
      "source": []
    },
    {
      "cell_type": "markdown",
      "metadata": {},
      "source": [
        "### Exercice 7\n",
        "\n",
        "On reprend l'équation de l'exercice 4\n",
        "\n",
        "$$\n",
        "    y'=(t+y)^2\n",
        "$$\n",
        "en utilisant cette fois `odeint`."
      ]
    },
    {
      "cell_type": "markdown",
      "metadata": {},
      "source": [
        "a) Représenter sur un même graphique le champ des vitesses normalisé et la solution ayant pour condition initiale $y(-1.5)=-10^7$. Les abscisses seront comprises entre -5 et 5, les ordonnées entre -10 et 10. **Attention au domaine de définition de la solution.**"
      ]
    },
    {
      "cell_type": "code",
      "execution_count": null,
      "metadata": {},
      "outputs": [],
      "source": []
    },
    {
      "cell_type": "markdown",
      "metadata": {},
      "source": [
        "b) Créer une version dynamique du graphique précédent où on peut faire varier $t_0$ dans $[-5,5]$."
      ]
    },
    {
      "cell_type": "code",
      "execution_count": null,
      "metadata": {},
      "outputs": [],
      "source": []
    }
  ],
  "metadata": {
    "kernelspec": {
      "display_name": "Python 3",
      "language": "python",
      "name": "python3"
    },
    "language_info": {
      "codemirror_mode": {
        "name": "ipython",
        "version": 3
      },
      "file_extension": ".py",
      "mimetype": "text/x-python",
      "name": "python",
      "nbconvert_exporter": "python",
      "pygments_lexer": "ipython3",
      "version": "3.7.4"
    }
  },
  "nbformat": 4,
  "nbformat_minor": 2
}
