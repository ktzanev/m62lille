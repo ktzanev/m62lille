{
 "cells": [
  {
   "cell_type": "markdown",
   "metadata": {},
   "source": [
    "# TP 1 - Introduction aux équations différentielles\n",
    "\n",
    "## Numpy et Matplotlib\n",
    "\n",
    "On trouve dans le module `numpy` les outils de manipulation des tableaux; notamment, `numpy` met en oeuvre les fonctions standard de manière vectorielle. Pour l'importer, on recommande d'utiliser"
   ]
  },
  {
   "cell_type": "code",
   "execution_count": null,
   "metadata": {},
   "outputs": [],
   "source": [
    "import numpy as np"
   ]
  },
  {
   "cell_type": "markdown",
   "metadata": {},
   "source": [
    "Toutes les fonctions NumPy seront alors préfixées par `np.`.\n",
    "\n",
    "Le module `matplotlib` (et en particulier le sous-module `pyplot`) est chargé de tracer les courbes :"
   ]
  },
  {
   "cell_type": "code",
   "execution_count": null,
   "metadata": {},
   "outputs": [],
   "source": [
    "import matplotlib.pyplot as plt"
   ]
  },
  {
   "cell_type": "markdown",
   "metadata": {},
   "source": [
    "D'une manière générale, les fonctions `plt.plot` prennent en arguments des tableaux de points du plan. Selon les options, ces points du plan sont reliés entre eux de façon ordonné par des segments: le résultat est une courbe, par exemple pour la fonction sinus,"
   ]
  },
  {
   "cell_type": "code",
   "execution_count": null,
   "metadata": {
    "scrolled": true
   },
   "outputs": [],
   "source": [
    "x=np.linspace(-5,5,100) # creation d'un vecteur de 1001 points équirépartis entre -5 et 5\n",
    "plt.plot(x,np.sin(x)) # on utilise la fonction sinus de numpy\n",
    "plt.ylabel(\"fonction sinus\") # l'étiquette de l'ordonnée\n",
    "plt.xlabel(\"l'axe des abcisses\") # l'étiquette de l'abscisse\n",
    "plt.show() # et on affiche le graphique"
   ]
  },
  {
   "cell_type": "markdown",
   "metadata": {},
   "source": [
    "La fonction `plt.savefig` sauvegarde le graphique. **Attention :** il ne faut pas essayer de sauvegarder l'image après l'avoir afficher à l'ecran car la commande `plt.show()` efface tout. Il faut utiliser `plt.savefig` à la place de `plt.show()`.\n",
    " "
   ]
  },
  {
   "cell_type": "code",
   "execution_count": null,
   "metadata": {
    "scrolled": true
   },
   "outputs": [],
   "source": [
    "x=np.linspace(-5,5,100) # creation d'un vecteur de 1001 points équirépartis entre -5 et 5\n",
    "\n",
    "plt.plot(x,np.sin(x),\"r--\") # on utilise la fonction sinus de numpy \n",
    "plt.ylabel(\"fonction sinus\") # l'étiquette de l'ordonnée\n",
    "plt.xlabel(\"l'angle en radians\") # l'étiquette de l'abscisse\n",
    "plt.savefig(\"sinus.png\")"
   ]
  },
  {
   "cell_type": "markdown",
   "metadata": {},
   "source": [
    "### Exercice 1\n",
    "\n",
    "La solution générale de l'équation différentielle\n",
    "$$\n",
    "    x(1+\\ln^2(x))y'+2(\\ln x)y=1\n",
    "$$\n",
    "est donnée par $\\displaystyle f_c(x)=\\frac{\\ln x +c}{1+\\ln^2x}$ pour $x\\in]0;+\\infty[$, où le paramètre $c$ varie dans $\\mathbb{R}$.\n",
    "\n"
   ]
  },
  {
   "cell_type": "markdown",
   "metadata": {},
   "source": [
    "a) Definir la fonction `f(c,x)` qui évalue $f_c$ sur tout les coordonnés du vecteur `x`."
   ]
  },
  {
   "cell_type": "code",
   "execution_count": null,
   "metadata": {},
   "outputs": [],
   "source": [
    "# definir ici la fonction f(c,x)"
   ]
  },
  {
   "cell_type": "markdown",
   "metadata": {},
   "source": [
    "b) Vérifier qu'il existe une unique solution satisfaisant la condition initiale $f_c(1)=-0.5$. Réaliser son tracé sur l'intervalle $]0;10]$. Donner comme titre \"$x(1+\\ln^2(x))y'+2(\\ln x)y=1$\", et marquer la courbe avec le label \"$y(1)=-0.5\".\n"
   ]
  },
  {
   "cell_type": "code",
   "execution_count": null,
   "metadata": {},
   "outputs": [],
   "source": [
    "# le graphe de la solution recherchée"
   ]
  },
  {
   "cell_type": "markdown",
   "metadata": {},
   "source": [
    "### Exercice 2\n",
    "\n",
    "La solution générale de l'équation différentielle\n",
    "$$\n",
    "    y'+y=2\\sin(x)\n",
    "$$\n",
    "est donnée par $f_c(x)=-\\cos(x)+\\sin(x)+ce^{-x}$ pour $x\\in\\mathbb{R}$, où le paramètre $c$ varie dans $\\mathbb{R}$."
   ]
  },
  {
   "cell_type": "markdown",
   "metadata": {},
   "source": [
    "a) Definir la fonction `f(c,x)` qui évalue $f_c$ sur tout les coordonnés du vecteur `x`."
   ]
  },
  {
   "cell_type": "code",
   "execution_count": null,
   "metadata": {},
   "outputs": [],
   "source": [
    "# definir ici la fonction f(c,x)"
   ]
  },
  {
   "cell_type": "markdown",
   "metadata": {},
   "source": [
    "b) Réaliser le graphe correspondant à $c=0$, pour $x\\in[-5;5]$.\n"
   ]
  },
  {
   "cell_type": "code",
   "execution_count": null,
   "metadata": {},
   "outputs": [],
   "source": []
  },
  {
   "cell_type": "markdown",
   "metadata": {},
   "source": [
    "b ) Représenter, dans la même fenêtre graphique, pour $x\\in[-5;5]$ et $y\\in[-50;50]$, les tracés en rouge pointillés correspondant à 11 valeurs de $c$ réparties uniformément entre -0.5 et 0.5. Tout en mettant en valeur (par exemple en bleu non pointillé) la valeur $c=0$."
   ]
  },
  {
   "cell_type": "code",
   "execution_count": null,
   "metadata": {
    "scrolled": true
   },
   "outputs": [],
   "source": []
  },
  {
   "cell_type": "markdown",
   "metadata": {},
   "source": [
    "### Exercice 3\n",
    "\n",
    "La solution générale de l'équation différentielle \n",
    "$$\n",
    "    y'+y=\\mathrm{max}(x,0)  \n",
    "$$\n",
    "est donnée par $f_c(x)=\\begin{cases}(c-1)e^{-x}&\\mathrm{si}\\ x<0\\\\ ce^{-x}+x-1&\\mathrm{si}\\ x\\ge 0\\end{cases}$\n",
    "où le paramètre $c$ varie dans $\\mathbb{R}$.\n",
    "\n",
    "a) Definir la fonction `f(c,x)` qui évalue $f_c$ sur tout les coordonnés du vecteur `x`."
   ]
  },
  {
   "cell_type": "code",
   "execution_count": null,
   "metadata": {},
   "outputs": [],
   "source": [
    "# definir ici la fonction f(c,x)"
   ]
  },
  {
   "cell_type": "markdown",
   "metadata": {},
   "source": [
    "b) Vérifier qu'il existe une unique solution satisfaisant la condition initiale $f_c(0)=1$, et réaliser son tracé sur l'intervalle $[-5;20]$."
   ]
  },
  {
   "cell_type": "code",
   "execution_count": null,
   "metadata": {
    "scrolled": true
   },
   "outputs": [],
   "source": []
  },
  {
   "cell_type": "markdown",
   "metadata": {},
   "source": [
    "### Exercice 4\n",
    "\n",
    "La solution générale de l'équation différentielle\n",
    "\n",
    "\n",
    "$$\n",
    "    y'=(x+y)^2\n",
    "$$\n",
    "\n",
    "est donnée par $\\displaystyle f_c(x)=\\mathrm{tan}(x+c)-x$ sur l'intervalle $]-\\frac{\\pi}{2}-c;\\frac{\\pi}{2}-c[$, où le paramètre $c$ varie dans $\\mathbb{R}$."
   ]
  },
  {
   "cell_type": "markdown",
   "metadata": {},
   "source": [
    "a) Definir la fonction `f(c,x)` qui évalue $f_c$ sur tout les coordonnés du vecteur `x`."
   ]
  },
  {
   "cell_type": "code",
   "execution_count": null,
   "metadata": {},
   "outputs": [],
   "source": [
    "# definir ici la fonction f(c,x)"
   ]
  },
  {
   "cell_type": "markdown",
   "metadata": {},
   "source": [
    "b) Tracer dans une même fenêtre graphique les graphes des fonctions $f_c$ pour 8 valeurs de $c$ équiréparties entre -3 et 3 (il faudra donc fabriquer un vecteur $x$ différent pour chaque courbe)."
   ]
  },
  {
   "cell_type": "code",
   "execution_count": null,
   "metadata": {},
   "outputs": [],
   "source": []
  },
  {
   "cell_type": "markdown",
   "metadata": {},
   "source": [
    "## Tracé de champs de vecteurs\n",
    "\n",
    "Le tracé d'un champ de vecteurs consiste, pour une grille de points $(P_{i,j})$ de coordonnées $P_{i,j}=(x^{(i)},y^{(j)})$, à représenter le vecteur de coordonnées $(U^{(i)},V^{(j)})$ basé au point $P_{i,j}$. La fonction de Matplotlib est `quiver(X,Y,U,V,C)` où $X,Y$ sont les coordonnées (la grille), $U,V$ les composantes des vecteurs et $C$ un argument optionnel.\n",
    "\n",
    "Dans le cas d'une équation différentielle scalaire d'ordre 1, on s'intéresse au champ des vitesses: au point $(t,y(t))$, le vecteur vitesse est le vecteur tangent à la courbe, c.-à-d. $(1,y'(t))$. On peut éventuellement le normaliser. Par exemple, pour $y'+y=2\\sin x$ :\n"
   ]
  },
  {
   "cell_type": "code",
   "execution_count": null,
   "metadata": {},
   "outputs": [],
   "source": []
  },
  {
   "cell_type": "markdown",
   "metadata": {},
   "source": [
    "### Exercice 5\n",
    "\n",
    "La solution du problème de Cauchy\n",
    "$$\n",
    "    \\left\\{\\begin{array}{l}y'=|y|\\\\ y(0)=y_0\\end{array}\\right.\n",
    "$$\n",
    "est donnée par $\\displaystyle f(x)=y_0e^{\\operatorname{sgn}(y_0)\\cdot x}$ pour $x\\in\\mathbb{R}$."
   ]
  },
  {
   "cell_type": "markdown",
   "metadata": {},
   "source": [
    "a) Tracer le champ des vitesses correspondant pour $x\\in[-6;6]$ et $y\\in[-8;20]$."
   ]
  },
  {
   "cell_type": "code",
   "execution_count": null,
   "metadata": {},
   "outputs": [],
   "source": []
  },
  {
   "cell_type": "markdown",
   "metadata": {},
   "source": [
    "b) Ajouter dans la même fenêtre graphique le graphe des solutions pour $y_0=-2,-1,1,2$, en indiquant dans la légende la condition initiale pour chaque courbe."
   ]
  },
  {
   "cell_type": "code",
   "execution_count": null,
   "metadata": {},
   "outputs": [],
   "source": []
  },
  {
   "cell_type": "markdown",
   "metadata": {},
   "source": [
    "## Intégrer une équation différentielle avec `odeint`\n",
    "\n",
    "Le principe d'utilisation de la fonction `odeint` de la bibliothèque `scipy.integrate` est de calculer une estimation numérique de la solution du problème de Cauchy\n",
    "$$\n",
    "    \\left\\{\\begin{array}{l}y'=F(y,t)\\\\ y(t_0)=x_0\\end{array}\\right.\\, .\n",
    "$$\n",
    "\n",
    "On donne comme arguments: \n",
    "- la fonction $F$ qui doit avoir deux paramètres (même dans le cas automome) : la variable $y$ et le temps $t$ (comme\n",
    "deuxième paramètre)\n",
    "- la condition initiale $x_0$ (au temps $t_0$), et le domaine de temps discrétisé sous la forme de vecteur (qui doit commencer à $t_0$).\n",
    "\n",
    "Il nous est retourné un vecteur contenant le valeur de $y$ aux points de $x$. Par exemple, pour afficher les solutions de $y'+y=2\\sin x$ on peut faire:"
   ]
  },
  {
   "cell_type": "code",
   "execution_count": null,
   "metadata": {},
   "outputs": [],
   "source": [
    "from scipy.integrate import odeint"
   ]
  },
  {
   "cell_type": "code",
   "execution_count": null,
   "metadata": {},
   "outputs": [],
   "source": [
    "F = lambda y,t: -y + 2*np.sin(t)\n",
    "t=np.linspace(-5,5,100)\n",
    "y=odeint(F,50,t) #condition initiale y(-5)=50\n",
    "z=odeint(F,-20,t) #condition initiale z(0)=-20\n",
    "plt.plot(t,y,z)\n",
    "plt.show()"
   ]
  },
  {
   "cell_type": "markdown",
   "metadata": {},
   "source": [
    "### Exercice 6\n",
    "\n",
    "On considère le problème de Cauchy suivant:\n",
    "$$\n",
    "    \\left\\{\\begin{array}{l}y'=|y|\\\\ y(t_0)=x_0\\end{array}\\right.\n",
    "$$"
   ]
  },
  {
   "cell_type": "markdown",
   "metadata": {},
   "source": [
    "a) Tracer (dans une même fenêtre graphique, et en ajoutant la légende adéquate) sur (une partie de) l'intervalle $[-6;6]$, en limitant $y$ dans $[-100,500]$, les solutions données par `odeint` pour les conditions initiales $(t_0,x_0)$ suivantes:\n",
    "$$\n",
    "    (0,50), (0,-80), (-3,1), (-3,-70).\n",
    "$$"
   ]
  },
  {
   "cell_type": "code",
   "execution_count": null,
   "metadata": {},
   "outputs": [],
   "source": []
  },
  {
   "cell_type": "markdown",
   "metadata": {},
   "source": [
    "b) Soit $\\psi(t)=\\phi(-t)$: montrer que $\\phi$ est solution de $y'=F(y,t)$ sur $[a;b]$ si et seulement si $\\psi$ est solution de $y'=G(y,t)$ sur $[-b;-a]$, où $G(y,t)=-F(y,-t)$."
   ]
  },
  {
   "cell_type": "markdown",
   "metadata": {},
   "source": [
    "*Ecrire ici la justification.*"
   ]
  },
  {
   "cell_type": "markdown",
   "metadata": {},
   "source": [
    "c) Utiliser `odeint` pour obtenir sur **tout** l'intervalle $[-6;6]$ le graphe des solutions vérifiant $y(0)=50$, en rouge (resp. $y(0)=-80$, en vert)."
   ]
  },
  {
   "cell_type": "code",
   "execution_count": null,
   "metadata": {},
   "outputs": [],
   "source": []
  },
  {
   "cell_type": "markdown",
   "metadata": {},
   "source": [
    "### Exercice 7\n",
    "\n",
    "On reprend l'équation de l'exercice 4, en utilisant cette fois `odeint`."
   ]
  },
  {
   "cell_type": "markdown",
   "metadata": {},
   "source": [
    "a) Représenter le champ des vitesses : les abscisses seront comprises entre -5 et 5, les ordonnées entre -10 et 10."
   ]
  },
  {
   "cell_type": "code",
   "execution_count": null,
   "metadata": {},
   "outputs": [],
   "source": []
  },
  {
   "cell_type": "markdown",
   "metadata": {},
   "source": [
    "b) Tracer dans la même fenêtre le graphe de la solution vérifiant la condition initiale $y(-1.5)=-5000$ (attention au choix du domaine de temps!). Les abscisses seront comprises entre -5 et 5, les ordonnées entre -10 et 10."
   ]
  },
  {
   "cell_type": "code",
   "execution_count": null,
   "metadata": {
    "scrolled": false
   },
   "outputs": [],
   "source": []
  },
  {
   "cell_type": "markdown",
   "metadata": {},
   "source": [
    "c) Ajouter sur le graphique les solutions vérifiant respectivement $y(-4.5)=-5000$ et $y(1.5)=-5000$."
   ]
  },
  {
   "cell_type": "code",
   "execution_count": null,
   "metadata": {},
   "outputs": [],
   "source": []
  }
 ],
 "metadata": {
  "kernelspec": {
   "display_name": "Python 3",
   "language": "python",
   "name": "python3"
  },
  "language_info": {
   "codemirror_mode": {
    "name": "ipython",
    "version": 3
   },
   "file_extension": ".py",
   "mimetype": "text/x-python",
   "name": "python",
   "nbconvert_exporter": "python",
   "pygments_lexer": "ipython3",
   "version": "3.7.4"
  }
 },
 "nbformat": 4,
 "nbformat_minor": 2
}
