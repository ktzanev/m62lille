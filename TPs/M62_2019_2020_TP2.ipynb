{
    "cells": [
        {
            "cell_type": "markdown",
            "metadata": {
                "deletable": false,
                "editable": false
            },
            "source": [
                "![Département de Mathématiques](https://ktzanev.github.io/logolabopp/ul-fst-math/ul-fst-math_100.gif)\n",
                "\n",
                "# TP 2 - Systèmes différentiels"
            ]
        },
        {
            "cell_type": "code",
            "execution_count": null,
            "metadata": {
                "deletable": false,
                "editable": false
            },
            "outputs": [],
            "source": [
                "import numpy as np\n",
                "import matplotlib.pyplot as plt"
            ]
        },
        {
            "cell_type": "markdown",
            "metadata": {
                "deletable": false,
                "editable": false
            },
            "source": [
                "Lorsqu'on étudie un système différentiel d'ordre 1 dans $\\mathbb{R}^2$, de la forme\n",
                "$$\n",
                "    \\left\\{\\begin{array}{l}x'=F_1\\big(t,(x,y)\\big)\\\\y'=F_2\\big(t,(x,y)\\big)\\end{array}\\right.\n",
                "$$\n",
                "et qu'on veut représenter graphiquement les solutions $t\\mapsto(x(t),y(t))$ pour $t\\in J$, il y a plusieurs choix possibles.\n",
                "1. Tracer (dans $\\mathbb{R}^3$) le graphe « 3D » $\\{(t,x(t),y(t))\\ |\\ t\\in J\\}$ de la fonction $t\\mapsto(x(t),y(t))$.\n",
                "\n",
                "2. Tracer (dans $\\mathbb{R}^2$) les graphes « 2D » des fonctions $t\\mapsto x(t)$ et $t\\mapsto y(t)$; ce sont les projections du graphe 3D dans les plans $(t,x)$ et $(t,y)$. Ils sont plus embrouillés que les graphes des solutions d'une équation scalaire d'ordre 1, car les courbes peuvent se croiser.\n",
                "3. Tracer (dans $\\mathbb{R}^2$) la courbe paramétrée $\\{(x(t),y(t))\\ |\\ t\\in J\\}$; c'est la projection du graphe 3D dans le plan $(x,y)$, appelé *plan de phase*.\n",
                "\n",
                "On appelle *portrait de phase* l'ensemble des projections des solutions dans le plan de phase. On réserve en général ce terme aux équations autonomes \n",
                "$$\n",
                "    \\left\\{\\begin{array}{l}x'=F_1(x,y)\\\\y'=F_2(x,y)\\end{array}\\right..\n",
                "$$\n",
                "Dans la pratique, on dit qu'on a dessiné le portrait de phase d'une équation autonome lorsqu'on a dessiné suffisamment de courbes pour pouvoir deviner le comportement des autres.\n",
                "\n",
                "Il est très utile de représenter également le champ de vecteurs associé au système différentiel: il s'agit de dessiner le vecteur de coordonnées $(F_1(x,y),F_2(x,y))$ basé au point de coordonnées $(x,y)$. On aura ainsi, pour tout $t$, le vecteur tangent à la courbe solution au point $(x(t),y(t))$.\n",
                "\n",
                "Pour tracer un graphe dans l'espace, on utilise `Axes3D` de la bibliothèque `mpl_toolkits` de Python "
            ]
        },
        {
            "cell_type": "code",
            "execution_count": null,
            "metadata": {
                "deletable": false,
                "editable": false
            },
            "outputs": [],
            "source": [
                "from mpl_toolkits.mplot3d import Axes3D"
            ]
        },
        {
            "cell_type": "markdown",
            "metadata": {
                "deletable": false,
                "editable": false
            },
            "source": [
                "Le paramétrage `%matplotlib notebook` permet de faire « tourner » le graphique à l'écran. Par contre tant qu'il est actif les commandes de `matplotlib` utilise le même graphique en ce superposant, donc dès qu'on a terminé à examiner une image 3D il faut revenir au comportement « stadard » avec `%matplotlib inline` ou cliquer sur le bouton <button class=\"btn btn-mini btn-primary\" href=\"#\" title=\"Stop Interaction\"><i class=\"fa fa-power-off icon-remove icon-large\"></i></button> « Stop interaction »."
            ]
        },
        {
            "cell_type": "code",
            "execution_count": null,
            "metadata": {
                "deletable": false,
                "editable": false
            },
            "outputs": [],
            "source": [
                "%matplotlib notebook"
            ]
        },
        {
            "cell_type": "markdown",
            "metadata": {
                "deletable": false,
                "editable": false
            },
            "source": [
                "Ainsi, par exemple, pour obtenir le graphe de $t\\mapsto(t^2,t\\sin(2t))$ on peut faire :"
            ]
        },
        {
            "cell_type": "code",
            "execution_count": null,
            "metadata": {
                "deletable": false,
                "editable": false
            },
            "outputs": [],
            "source": [
                "t = np.linspace(-5, 5, 300)  # le temps\n",
                "x, y = t**2, t * np.sin(2 * t)  # les coordonnées (x,y)\n",
                "ax = Axes3D(plt.figure())  # la zone de dessin 3D\n",
                "ax.set(\n",
                "    xlabel=r'$x$', \n",
                "    ylabel=r'$y$', \n",
                "    zlabel=r'$t$'\n",
                ")\n",
                "ax.plot(x, y, t)  # on dessine la courbe\n",
                "plt.show()"
            ]
        },
        {
            "cell_type": "markdown",
            "metadata": {
                "deletable": false,
                "editable": false
            },
            "source": [
                "Et si en plus on souhaite observer dynamiquement le changement d'un paramètre dans ce dessin 3D on peut faire ainsi"
            ]
        },
        {
            "cell_type": "code",
            "execution_count": null,
            "metadata": {
                "deletable": false,
                "editable": false
            },
            "outputs": [],
            "source": [
                "# la bibliothèque qui permet d'utiliser (le décorateur) @interact\n",
                "from ipywidgets import interact\n",
                "\n",
                "# on redessine le graphe précédent et\n",
                "# on récupère l'objet `courbe` qui pourra être modifié par la suite\n",
                "t = np.linspace(-5, 5, 300)  # le temps\n",
                "x = t**2  # les coordonnées de x\n",
                "ax = Axes3D(plt.figure())  # la zone de dessin 3D\n",
                "ax.set(\n",
                "    xlabel=r'$x$', xlim=(0, 28),\n",
                "    ylabel=r'$y$', ylim=(-5, 5),\n",
                "    zlabel=r'$t$', zlim=(-5, 5),\n",
                ")\n",
                "courbe = ax.plot([], [], [])[0]  # on rajoute une courbe qu'on va modifier après\n",
                "\n",
                "# le graphique interactif qui permet de varier le paramètre `c` de la fonction `dessiner_graph`\n",
                "# entre -5 et 5 (avec un pas de 1).\n",
                "# la valeur initiale est déterminée par la valeur par défaut de `c`.\n",
                "@interact(c=(-5, 5, .1))\n",
                "def dessiner_graph(c=2):\n",
                "    global courbe\n",
                "    y = t * np.sin(c * t)\n",
                "    # Avec une version plus récente de matplotlib on peut faire directement\n",
                "    # courbe.set_data_3d(x, y, t) # on change les valeurs de la courbe\n",
                "    # mais avec la version des salles de TPs on peut faire :\n",
                "    courbe.remove()  # on supprime l'ancienne courbe\n",
                "    courbe = ax.plot(x, y, t, \"b\")[0]  # on rajoute une nouvelle courbe"
            ]
        },
        {
            "cell_type": "markdown",
            "metadata": {
                "deletable": false,
                "editable": false
            },
            "source": [
                "Et finalement on repasse en mode « standard » de dessin"
            ]
        },
        {
            "cell_type": "code",
            "execution_count": null,
            "metadata": {
                "deletable": false,
                "editable": false
            },
            "outputs": [],
            "source": [
                "%matplotlib inline"
            ]
        },
        {
            "cell_type": "markdown",
            "metadata": {
                "deletable": false,
                "editable": false
            },
            "source": [
                "## Solutions en fonction du temps"
            ]
        },
        {
            "cell_type": "markdown",
            "metadata": {
                "deletable": false,
                "editable": false
            },
            "source": [
                "### Exercice 1\n",
                "\n",
                "On considère le système différentiel\n",
                "$\\left\\{\\begin{array}{l}x'=y\\\\y'=-x\\end{array}\\right.$."
            ]
        },
        {
            "cell_type": "markdown",
            "metadata": {
                "deletable": false,
                "editable": false
            },
            "source": [
                "**a)** Résoudre ce système en posant $z=x+iy$. Déterminer les solutions $(x_k,y_k)$ correspondant aux conditions initiales $x_k(0)=0,\\ y_k(0)=k$ pour un $k$ donné."
            ]
        },
        {
            "cell_type": "markdown",
            "metadata": {
                "deletable": false
            },
            "source": [
                "*Écrire les solutions ici ...*\n"
            ]
        },
        {
            "cell_type": "markdown",
            "metadata": {
                "deletable": false,
                "editable": false
            },
            "source": [
                "**b)** Créer une figure dynamique (en utilisant le décorateur `interact` de la bibliothèque `ipywidgets`) qui trace les graphes des fonctions $x_k$ (en trait plein) et $y_k$ (en pointillé) pour $t\\in[-4\\pi;4\\pi]$, en limitant l'ordonné à $[-5,5]$. Le choix de $k$ doit se faire dans l'intervalle $[1,4]$."
            ]
        },
        {
            "cell_type": "code",
            "execution_count": null,
            "metadata": {
                "deletable": false
            },
            "outputs": [],
            "source": [
                "# la bibliothèque qui permet d'utiliser (le décorateur) @interact\n",
                "from ipywidgets import interact\n",
                "\n",
                "tmin, tmax, xymin, xymax = -4 * np.pi, 4 * np.pi, -5, 5\n",
                "t = np.linspace(tmin, tmax, 100)\n",
                "\n",
                "@interact(k=(1, 4))\n",
                "def graph(k):\n",
                "    # le code de la figure est à mettre ici\n",
                "\n"
            ]
        },
        {
            "cell_type": "markdown",
            "metadata": {
                "deletable": false,
                "editable": false
            },
            "source": [
                "**c)** Tracer dans $\\mathbb{R}^3$ les graphes des solutions $t\\mapsto(x_k(t),y_k(t))$ pour $k=1,2,3,4$. Puis faites tourner la figure avec la souris pour mieux comprendre les graphes. "
            ]
        },
        {
            "cell_type": "code",
            "execution_count": null,
            "metadata": {
                "deletable": false
            },
            "outputs": [],
            "source": [
                "%matplotlib notebook\n",
                "\n"
            ]
        },
        {
            "cell_type": "code",
            "execution_count": null,
            "metadata": {
                "deletable": false,
                "editable": false
            },
            "outputs": [],
            "source": [
                "%matplotlib inline"
            ]
        },
        {
            "cell_type": "markdown",
            "metadata": {
                "deletable": false,
                "editable": false
            },
            "source": [
                "**d)** Créer un graphique dynamique qui :\n",
                "- trace dans le plan de phase $(x,y)$ limité à $[-5,5]\\times[-5,5]$,\n",
                "- a pour paramètres $k$ et $t$,\n",
                "- représente le champ de vecteurs normalisé au temps $t$ *(vous pouvez créer une fonction `champ_normalise(F, xmin, xmax, ymin, ymax, t=0, N=20)` en vous inspirant du TP1)*,\n",
                "- les solutions $(x_k,y_k)$ en fonction du choix du paramètre dynamique $k$,\n",
                "- ainsi qu'un point de coordonné $(x_k(t),y_k(t))$ qui varie en fonction du paramètre dynamique $t$.\n",
                "\n",
                "**Note:** Dans cet exercice le champ de vecteurs ne dépend pas du temps $t$, mais on va avoir besoin de la fonction `champ_normalise` par la suite où il en dépendra."
            ]
        },
        {
            "cell_type": "code",
            "execution_count": null,
            "metadata": {
                "deletable": false
            },
            "outputs": [],
            "source": []
        },
        {
            "cell_type": "markdown",
            "metadata": {
                "deletable": false,
                "editable": false
            },
            "source": [
                "### Exercice 2\n",
                "\n",
                "Le système différentiel\n",
                "$$\n",
                "    \\left\\{\\begin{array}{cl}x'(t)&=(t+3)x(t)+2y(t)\\\\ y'(t)&=-4x(t)+(t-3)y(t)\\end{array}\\right.\n",
                "$$\n",
                "admet sur $\\mathbb{R}$ les solutions\n",
                "$$\n",
                "    \\left\\{\\begin{array}{l}x(t)=e^{t^2/2}(ae^t+be^{-t})\\\\ y(t)=e^{t^2/2}(-ae^t-2be^{-t})\\end{array}\\right.\n",
                "$$\n",
                "où $a,b\\in\\mathbb{R}$."
            ]
        },
        {
            "cell_type": "markdown",
            "metadata": {
                "deletable": false,
                "editable": false
            },
            "source": [
                "**a)** Écrire une fonction `trace_phase(a, b, t)` qui :\n",
                "- pour un couple $[a,b]$, trace la solution correspondante dans le plan de phase $(x,y)$ pour un temps compris entre $-3$ et $3$, \n",
                "- affiche un point à la position $(x(t),y(t))$ au temps du paramètre $t$. \n",
                "- rajoute le label correspondant aux valeurs des deux paramètres $a$ et $b$.  \n",
                "Puis tester `trace_phase(-2, 3, 1)` dans un plan limité à $x\\in[-15;15]$, $y\\in[-30,30]$) avec un titre correspondant.\n"
            ]
        },
        {
            "cell_type": "code",
            "execution_count": null,
            "metadata": {
                "deletable": false
            },
            "outputs": [],
            "source": []
        },
        {
            "cell_type": "markdown",
            "metadata": {
                "deletable": false,
                "editable": false
            },
            "source": [
                "**b)** Créer une image dynamique qui en fonctions de 4 paramètres $a_1$, $b_1$, $a_2$,$b_2$, qui peuvent varier entre $-5$ et $5$, et d'un cinquième paramètre $t\\in[-1.5,1.5]$, trace les deux courbes/points `trace_phase(a1, b1, t)` et `trace_phase(a2, b2, t)` dans le plan de phases limité à $x\\in[-15;15]$, $y\\in[-30,30]$.  "
            ]
        },
        {
            "cell_type": "code",
            "execution_count": null,
            "metadata": {
                "deletable": false
            },
            "outputs": [],
            "source": []
        },
        {
            "cell_type": "markdown",
            "metadata": {
                "deletable": false,
                "editable": false
            },
            "source": [
                "**c)** Même question que la précédente, mais en rajoutant le champ de vecteur (dépendant du temps)."
            ]
        },
        {
            "cell_type": "code",
            "execution_count": null,
            "metadata": {
                "deletable": false
            },
            "outputs": [],
            "source": []
        },
        {
            "cell_type": "markdown",
            "metadata": {
                "deletable": false,
                "editable": false
            },
            "source": [
                "**d)** Que constate-t-on de différent par rapport à l'exercice précédent ? Expliquer."
            ]
        },
        {
            "cell_type": "markdown",
            "metadata": {
                "deletable": false
            },
            "source": [
                "*Écrire l'explication ici*\n"
            ]
        },
        {
            "cell_type": "markdown",
            "metadata": {
                "deletable": false,
                "editable": false
            },
            "source": [
                "## Portraits de phase avec odeint\n",
                "\n",
                "\n",
                "La fonction `odeint` permet, comme pour une équation différentielle scalaire, de représenter une approximation numérique des solutions d'un système. Par exemple, pour $\\left\\{\\begin{array}{l}x'=x\\\\ y'=-2y\\end{array}\\right.$:"
            ]
        },
        {
            "cell_type": "code",
            "execution_count": null,
            "metadata": {
                "deletable": false,
                "editable": false
            },
            "outputs": [],
            "source": [
                "from scipy.integrate import odeint\n",
                "\n",
                "F = lambda u, t: [u[0], -2 * u[1]]  # ici u est le 2-vecteur (x,y)\n",
                "\n",
                "xmin, xmax, ymin, ymax = -10, 10, -5, 5\n",
                "\n",
                "t = np.linspace(0, 3, 100)\n",
                "\n",
                "@interact(x=(-5, 5, .5), y=(-5, 5, .5))\n",
                "def dyn_soution(x, y):\n",
                "    champ_normalise(F, xmin, xmax, ymin, ymax, t)\n",
                "    plt.axis([-10, 10, -5, 5])\n",
                "    v = odeint(F, [x, y], t)\n",
                "    plt.plot(v[:, 0], v[:, 1])\n",
                "    plt.plot(x, y, 'o')\n",
                "    plt.title(f\"x(0)={x:4.1f}, y(0)={y:4.1f}\")\n",
                "    plt.show()"
            ]
        },
        {
            "cell_type": "markdown",
            "metadata": {
                "deletable": false,
                "editable": false
            },
            "source": [
                "### Exercice 3\n",
                "\n",
                "On considère le système différentiel linéaire $V'=AV$ pour $A=\\left(\\begin{array}{cc}0&1\\\\-2&-3\\end{array}\\right)$."
            ]
        },
        {
            "cell_type": "markdown",
            "metadata": {
                "deletable": false,
                "editable": false
            },
            "source": [
                "**a)**  Créer un graphique dynamique qui :\n",
                "- est tracé dans le plan de phase $(x,y)$ limité à $[-5,5]\\times[-5,5]$,\n",
                "- a pour paramètres $x_0$ et $y_0$, les coordonnés de $U(t_0)$,\n",
                "- représente le champ de vecteurs normalisé des vitesses $V'$,\n",
                "- trace la solution $V$ obtenus par `odeint` en fonction du choix dynamique des paramètres $x_0$ et $y_0$,\n",
                "- ainsi qu'un point de coordonné $(x_k(0),y_k(0))$.\n",
                "\n",
                "**Note:** Vous pouvez créer une fonction `trace_courbe(F,v0,t)` qui fait les deux derniers points de la liste, car on aura besoin par la suite des mêmes opérations."
            ]
        },
        {
            "cell_type": "code",
            "execution_count": null,
            "metadata": {
                "deletable": false
            },
            "outputs": [],
            "source": []
        },
        {
            "cell_type": "markdown",
            "metadata": {
                "deletable": false,
                "editable": false
            },
            "source": [
                "**b)** Déterminer les sous-espaces propres de $A$ *(à l'aide de la fonction `eig` de la bibliothèque `linalg`)*. Puis représenter le graphique dynamique de la question précédente en y ajoutant ces sous-espaces propres."
            ]
        },
        {
            "cell_type": "code",
            "execution_count": null,
            "metadata": {
                "deletable": false
            },
            "outputs": [],
            "source": [
                "from numpy import linalg as la\n",
                "\n"
            ]
        },
        {
            "cell_type": "markdown",
            "metadata": {
                "deletable": false,
                "editable": false
            },
            "source": [
                "### Exercice 4\n",
                "\n",
                "**a)** On définit la fonction $f$ sur $\\mathbb{R}$ par\n",
                "  $$\n",
                "    f(u)=\n",
                "      \\begin{cases}\n",
                "        e^{-1/u} & \\text{si } u>0 \\\\ \n",
                "        0        & \\text{si } u\\le 0\n",
                "      \\end{cases}\n",
                "  $$\n",
                "Représentez-la graphiquement.\n"
            ]
        },
        {
            "cell_type": "code",
            "execution_count": null,
            "metadata": {
                "deletable": false
            },
            "outputs": [],
            "source": []
        },
        {
            "cell_type": "markdown",
            "metadata": {
                "deletable": false,
                "editable": false
            },
            "source": [
                "**b)** Représenter dynamiquement, en fonction des conditions initiales $(x_0,y_0)$ au temps $t=0$, le portrait de phase du système différentiel\n",
                "$$\n",
                "    \\begin{cases}\n",
                "      x' =  y -x f(x^2+y^2)&\\\\\n",
                "      y' = -x -y f(x^2+y^2)&\n",
                "    \\end{cases}\n",
                ".\n",
                "$$\n",
                "dans la fenêtre $x\\in[-3;3]$, $y\\in[-3;3]$ pour $t$ variant de $0$ à $10$ ainsi que son champ de vitesses normalisé."
            ]
        },
        {
            "cell_type": "code",
            "execution_count": null,
            "metadata": {
                "deletable": false
            },
            "outputs": [],
            "source": []
        },
        {
            "cell_type": "markdown",
            "metadata": {
                "deletable": false,
                "editable": false
            },
            "source": [
                "**c)** Ce système est, au voisinage de l'origine, une petite perturbation du système de l'exercice 1 : comparer les deux portraits de phase."
            ]
        },
        {
            "cell_type": "markdown",
            "metadata": {
                "deletable": false,
                "editable": false
            },
            "source": [
                "## Lignes de niveaux\n",
                "\n",
                "Même sans calculer explicitement les solutions, on peut avoir des informations sur l'allure des solutions : c'est le cas par exemple lorsqu'on sait que les trajectoires des solutions dans le plan de phase sont incluses dans les lignes de niveaux $\\{(x,y)\\ |\\ g(x,y)=c\\}$ d'une fonction $g$ de deux variables. Par exemple, voici comment tracer ces lignes de niveaux à l'aide de `plt.contour` pour la fonction $g(x,y)=x^2+7y^2(1+\\mathrm{arctan}(\\sin x))$:"
            ]
        },
        {
            "cell_type": "code",
            "execution_count": null,
            "metadata": {
                "deletable": false,
                "editable": false
            },
            "outputs": [],
            "source": [
                "# La fonction dont on va tracer les courbes de niveaux\n",
                "g = lambda x, y: x * x + 7 * y * y * (1 + np.arctan(np.sin(x)))\n",
                "\n",
                "# la fonction qui trace les courbes où C est le tableau avec les valeurs des niveaux\n",
                "def tracer_lignes_niveaux(g, xmin, xmax, ymin, ymax, C, N=500):\n",
                "    x = np.linspace(xmin, xmax, N)\n",
                "    y = np.linspace(ymin, ymax, N)\n",
                "    zz = g(*np.meshgrid(x, y))\n",
                "    lignes_niveau = plt.contour(x, y, zz, levels=C)\n",
                "    plt.clabel(lignes_niveau, C, fmt='%.1f')\n",
                "\n",
                "# trace 5 niveaux antre 1 et 15\n",
                "tracer_lignes_niveaux(g, -4, 4, -3, 3, np.linspace(1, 15, 5))\n",
                "plt.show()"
            ]
        },
        {
            "cell_type": "markdown",
            "metadata": {
                "deletable": false,
                "editable": false
            },
            "source": [
                "### Exercice 5\n",
                "\n",
                "On considère l'équation différentielle\n",
                "$$\n",
                "    y''=-y-y^3.\n",
                "$$\n",
                "\n",
                "**a)** L'écrire sous la forme d'un système différentiel d'ordre 1. Représenter le champ de vecteurs associé dans la fenêtre $x\\in[-10;10]$, $y\\in[-10;10]$.\n"
            ]
        },
        {
            "cell_type": "code",
            "execution_count": null,
            "metadata": {
                "deletable": false
            },
            "outputs": [],
            "source": []
        },
        {
            "cell_type": "markdown",
            "metadata": {
                "deletable": false,
                "editable": false
            },
            "source": [
                "**b)** Soit\n",
                "$$\n",
                "  g(x,y)=2x^2+x^4+2y^2.\n",
                "$$\n",
                "Montrer que, pour toute solution $\\varphi$ sur $J\\subset \\mathbb{R}$, la valeur de $\\ g(\\varphi(t),\\varphi'(t))$ est constante $\\forall t\\in J$."
            ]
        },
        {
            "cell_type": "markdown",
            "metadata": {
                "deletable": false
            },
            "source": [
                "*Écrire la preuve ici*\n"
            ]
        },
        {
            "cell_type": "markdown",
            "metadata": {
                "deletable": false,
                "editable": false
            },
            "source": [
                "**c)** Sur la même figure tracer\n",
                "- les lignes de niveaux de la fonction $g$ pour $c\\in \\{10, 80, 180\\}$\n",
                "- le tracé des solutions correspondant aux conditions initiales\n",
                "$$\n",
                "  (y(0),y'(0)) \\in \\{(-2,2), (-1,0.5), (3,4) \\}.\n",
                "$$"
            ]
        },
        {
            "cell_type": "code",
            "execution_count": null,
            "metadata": {
                "deletable": false
            },
            "outputs": [],
            "source": []
        }
    ],
    "metadata": {
        "kernelspec": {
            "display_name": "Python 3",
            "language": "python",
            "name": "python3"
        },
        "language_info": {
            "codemirror_mode": {
                "name": "ipython",
                "version": 3
            },
            "file_extension": ".py",
            "mimetype": "text/x-python",
            "name": "python",
            "nbconvert_exporter": "python",
            "pygments_lexer": "ipython3",
            "version": "3.7.6"
        }
    },
    "nbformat": 4,
    "nbformat_minor": 2
}