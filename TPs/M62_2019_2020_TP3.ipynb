{
    "cells": [
        {
            "cell_type": "markdown",
            "metadata": {
                "deletable": false,
                "editable": false
            },
            "source": [
                "![Département de Mathématiques](https://ktzanev.github.io/logolabopp/ul-fst-math/ul-fst-math_100.gif)\n",
                "\n",
                "# TP 3 - Le pendule\n",
                "\n",
                "On considère un pendule composé d'une tige rigide de longueur $\\ell$, dont on négligera le poids, et au bout de laquelle est accrochée une masse ponctuelle $m$. Ce pendule est suspendu à un point fixe. Il est soumis à la gravité et éventuellement à des forces de frottement. On note $g$ l'accélération de la pesanteur et $c\\in \\mathbb{R}^+$ le coefficient de frottement. \n"
            ]
        },
        {
            "cell_type": "code",
            "execution_count": null,
            "metadata": {
                "deletable": false,
                "editable": false
            },
            "outputs": [],
            "source": [
                "import numpy as np\n",
                "import matplotlib.pyplot as plt\n",
                "from mpl_toolkits.mplot3d import Axes3D"
            ]
        },
        {
            "cell_type": "markdown",
            "metadata": {
                "deletable": false,
                "editable": false
            },
            "source": [
                "## Questions préliminaires\n",
                "\n",
                "On repère la position du pendule à tout instant grâce à l'angle $\\theta$ entre la tige et la verticale. On suppose qu'à l'instant initial le pendule est écarté de la verticale d'un angle $\\theta_0$ et qu'il est lâché avec une vitesse $\\omega_0$.\n",
                "L'évolution de $\\theta$ au cours du temps est donnée par l'équation différentielle :\n",
                "\n",
                "$$\\tag{😁}\n",
                "    \\theta'' +\\frac{c}{m} \\theta'+\\frac{g}{\\ell} \\sin(\\theta)=0\n",
                "$$"
            ]
        },
        {
            "cell_type": "markdown",
            "metadata": {
                "deletable": false,
                "editable": false
            },
            "source": [
                "1) Écrire l'équation différentielle ci-dessus sous la forme d'un système différentiel d'ordre 1 :\n",
                "$$\\tag{🙉}\n",
                "    Y'=F(Y)\n",
                "$$\n",
                "avec $F:\\mathbb{R}^2\\to\\mathbb{R}^2$ puis écrire le problème de Cauchy associé."
            ]
        },
        {
            "cell_type": "markdown",
            "metadata": {
                "deletable": false
            },
            "source": []
        },
        {
            "cell_type": "markdown",
            "metadata": {
                "deletable": false,
                "editable": false
            },
            "source": [
                "Définissez en Python une fonction `pendule(l,m,c,g=9.81)` qui construit et renvoi la fonction `F` dont on aura besoin plus tard . La fonction `F` doit prendre en entré un `np.array` de dimension $2\\times n$ et retourner un résultat de la même dimension *(assurez-vous qu'elle passe les tests)*."
            ]
        },
        {
            "cell_type": "code",
            "execution_count": null,
            "metadata": {
                "deletable": false
            },
            "outputs": [],
            "source": [
                "# définition de la fonction pendule\n",
                "\n",
                "# tests de la fonction pendule\n",
                "F = pendule(1, 5, 0)  # on crée la fonction F pour les valeurs des paramètres l,m,c = 1,5,0 (et g=9.81)\n",
                "z = np.zeros((2, 3))  # le vecteur [[0,0,0],[0,0,0]]\n",
                "assert (F(z) == z).all(), 'On doit avoir F([0,0]) = [0,0]'\n",
                "assert F(z).shape == (2, 3), 'F applique à un tableau (Python) 2x3 doit être un tableau (numpy) 2x3.'\n",
                "F = pendule(1, 1, 0, 0)  # on crée la fonction F pour les valeurs \"étranges\" l,m,c,g = 1,1,0,0\n",
                "v = np.asarray([[1], [2]])  # le vecteur [[1],[2]]\n",
                "assert (F(v)[0] == v[1] and F(v)[1] == 0), 'pour c=g=0 on doit avoir F([v0,v1]) = [v1,0]'"
            ]
        },
        {
            "cell_type": "markdown",
            "metadata": {
                "deletable": false,
                "editable": false
            },
            "source": [
                "2) Montrer que, quelle que soit la condition initiale $(\\theta_0, \\omega_0)$, le problème initial admet une unique solution globale."
            ]
        },
        {
            "cell_type": "markdown",
            "metadata": {
                "deletable": false
            },
            "source": []
        },
        {
            "cell_type": "markdown",
            "metadata": {
                "deletable": false,
                "editable": false
            },
            "source": [
                "3) Soit $E: \\mathbb{R}^2\\to \\mathbb{R}$ définie par\n",
                "$$\\tag{⚡}\n",
                "    E(x,y)=\\frac{1}{2}y^2+\\frac{g}{\\ell} (1-\\cos x)\n",
                "$$\n",
                "et $H:\\mathbb{R}\\to \\mathbb{R}$ définie par $H(t)=E(\\theta(t),\\theta'(t))$ pour $\\theta$ une solution de l'équation initiale. Calculer $H'(t)$. Qu'en déduit-on sur $H$ (on pourra distinguer le cas $c=0$ du cas $c>0$) ?"
            ]
        },
        {
            "cell_type": "markdown",
            "metadata": {
                "deletable": false
            },
            "source": []
        },
        {
            "cell_type": "markdown",
            "metadata": {
                "deletable": false,
                "editable": false
            },
            "source": [
                "Définissez la fonction `energie(l, g=9.81)` qui construit, en fonction des paramètres `l` et `g`, et renvoie la fonction `E`. La fonction `E` doit prendre en entrée un `np.array` de dimension $2\\times n$ et renvoyer un `np.array` de dimension $1\\times n$. Assurez-vous que la fonction `E` passe bien les tests ci-dessous."
            ]
        },
        {
            "cell_type": "code",
            "execution_count": null,
            "metadata": {
                "deletable": false
            },
            "outputs": [],
            "source": [
                "# définition de la fonction énergie\n",
                "\n",
                "#tests de la fonction energie\n",
                "E = energie(1)  # l'energie dans le cas de l=1 (et g=9.81)\n",
                "assert (E(np.zeros((2, 1))) == 0), 'on vérifie que E([[0],[0]])=0'\n",
                "assert (E(np.ones((2, 3))).shape == (3, )), 'on vérifie que E respecte les critères demandés de dimensions'"
            ]
        },
        {
            "cell_type": "markdown",
            "metadata": {
                "deletable": false,
                "editable": false
            },
            "source": [
                "4) Déterminer les points d'équilibre du système d'ordre 1 (🙉)."
            ]
        },
        {
            "cell_type": "markdown",
            "metadata": {
                "deletable": false
            },
            "source": []
        },
        {
            "cell_type": "markdown",
            "metadata": {
                "deletable": false,
                "editable": false
            },
            "source": [
                "\n",
                "5) Calculer la jacobienne de $F$ en tout point $Y\\in \\mathbb{R}^2$ puis $A=JF_{(0,0)}$."
            ]
        },
        {
            "cell_type": "markdown",
            "metadata": {
                "deletable": false
            },
            "source": []
        },
        {
            "cell_type": "markdown",
            "metadata": {
                "deletable": false,
                "editable": false
            },
            "source": [
                "Définissez en Python une fonction `pendule_lin(l,m,c,g=9.81)` (varsion « linéarisé » de `pendule(l,m,c,g=9.81)`) qui construit et renvoi la fonction `A` qui représete la fonction $Y\\mapsto AY$ du système linéarisé *(assurez-vous qu'elle passe les tests)*."
            ]
        },
        {
            "cell_type": "code",
            "execution_count": null,
            "metadata": {
                "deletable": false
            },
            "outputs": [],
            "source": [
                "# définition de la fonction pendule_lin\n",
                "\n",
                "# tests de la fonction pendule_lin\n",
                "A = pendule_lin(1, 5, 0)  # on crée la fonction A pour les valeurs des paramètres l,m,c = 1,5,0 (et g=9.81)\n",
                "z = np.zeros((2, 3))  # le vecteur [[0,0,0],[0,0,0]]\n",
                "assert (A(z) == z).all(), 'On doit avoir A([0,0]) = [0,0]'\n",
                "assert A(z).shape == (2, 3), 'A applique à un tableau 2x3 doit être un tableau 2x3.'\n",
                "A = pendule_lin(1, 1, 0, 0)  # on crée la fonction A pour les valeurs \"étranges\" l,m,c,g = 1,1,0,0\n",
                "v = np.asarray([[1], [2]])  # le vecteur [[1],[2]]\n",
                "assert (A(v)[0] == v[1] and A(v)[1] == 0), 'pour c=g=0 on doit avoir A([v0,v1]) = [v1,0]'"
            ]
        },
        {
            "cell_type": "markdown",
            "metadata": {
                "deletable": false,
                "editable": false
            },
            "source": [
                "6) Déterminer les points d'équilibre du système linéarisé $Y'=AY$."
            ]
        },
        {
            "cell_type": "markdown",
            "metadata": {
                "deletable": false
            },
            "source": []
        },
        {
            "cell_type": "markdown",
            "metadata": {
                "deletable": false,
                "editable": false
            },
            "source": [
                "7) Donner la forme générale des solutions du système différentiel $Y'=AY$ (on pourra distinguer les cas $\\dfrac{c^2}{4m^2}<\\dfrac{g}{\\ell}$, $\\dfrac{c^2}{4m^2}=\\dfrac{g}{\\ell}$, $\\dfrac{c^2}{4m^2}>\\dfrac{g}{\\ell}$)."
            ]
        },
        {
            "cell_type": "markdown",
            "metadata": {
                "deletable": false
            },
            "source": []
        },
        {
            "cell_type": "markdown",
            "metadata": {
                "deletable": false,
                "editable": false
            },
            "source": [
                "## Étude du cas sans frottements, $c=0$"
            ]
        },
        {
            "cell_type": "markdown",
            "metadata": {
                "deletable": false,
                "editable": false
            },
            "source": [
                "Dans toute la suite, on prendra comme valeurs numériques $g=9.81$, $\\ell=5$ et $m=1$. Dans cette partie, on suppose que $c=0$.\n",
                "\n",
                "Pour les graphiques demandés, vous pouvez avoir besoin de différentes fonctions de la librairie `matplotlib` et de son module\n",
                "`matplotlib.pyplot` (importé comme `plt`). On rappelle les fonctions déjà recontrées : `plt.figure`, `plt.plot`, `plt.title`, `plt.quiver`, `plt.contour` et également `Axes3D` importée de `mpl_toolkits.mplot3d`."
            ]
        },
        {
            "cell_type": "code",
            "execution_count": null,
            "metadata": {
                "deletable": false,
                "editable": false
            },
            "outputs": [],
            "source": [
                "l, m, c = 5, 1, 0  # g = 9.81 par défaut"
            ]
        },
        {
            "cell_type": "markdown",
            "metadata": {
                "deletable": false,
                "editable": false
            },
            "source": [
                "1) Représenter, en 3D, la surface $z=E(x,y)$ pour $x\\in [-10, 10]$ et $y\\in [-6,6]$."
            ]
        },
        {
            "cell_type": "code",
            "execution_count": null,
            "metadata": {
                "deletable": false
            },
            "outputs": [],
            "source": [
                "%matplotlib notebook\n",
                "\n",
                "E = energie(l)  # l'énergie correspondante\n",
                "\n",
                "xmin, xmax, ymin, ymax = -10, 10, -6, 6  # le domaine qui nous intéresse\n",
                "\n"
            ]
        },
        {
            "cell_type": "code",
            "execution_count": null,
            "metadata": {
                "deletable": false,
                "editable": false
            },
            "outputs": [],
            "source": [
                "%matplotlib inline"
            ]
        },
        {
            "cell_type": "markdown",
            "metadata": {
                "deletable": false,
                "editable": false
            },
            "source": [
                "2) Sur une même figure, représenter les lignes de niveaux\n",
                "$E(x,y)=k$  pour les valeurs de $k=0.1,0.4,0.7,1,2,4,6,10,13,16$, ainsi que le champ de vecteurs normalisé associé au système d'ordre 1 (🙉). Vous pouvez réutiliser les fonctions `champ_normalise` et `tracer_lignes_niveaux` du TP2."
            ]
        },
        {
            "cell_type": "code",
            "execution_count": null,
            "metadata": {
                "deletable": false
            },
            "outputs": [],
            "source": [
                "F = pendule(l, m, c)  # la fonction de l'équation (🙉)\n",
                "\n"
            ]
        },
        {
            "cell_type": "markdown",
            "metadata": {
                "deletable": false,
                "editable": false
            },
            "source": [
                "3) Réaliser le portrait de phase dynamique du système d'ordre 1 (🙉). On limitera la représentation graphique à la fenêtre\n",
                "$[-10,10]\\times[-6,6]$ et le portrait de phase devra :\n",
                "- avoir comme paramètres les données initiales $\\theta_0$ et $\\omega_0$,\n",
                "- afficher le champ de vecteurs normalisé,\n",
                "- afficher les lignes de niveaux de l'énérgie.\n",
                "\n",
                "Le temps $t$ peut être limité à $4\\pi$."
            ]
        },
        {
            "cell_type": "code",
            "execution_count": null,
            "metadata": {
                "deletable": false
            },
            "outputs": [],
            "source": [
                "# la bibliothèque qui permet d'utiliser (le décorateur) @interact\n",
                "from ipywidgets import interact, widgets\n",
                "\n",
                "# la bibliothèque qui permet de résoudre numériquement (🙉)\n",
                "from scipy.integrate import odeint\n",
                "\n",
                "# on crée la fonction Ft(Y,t) = F(Y) qui sera utilisée par odeint\n",
                "# odeint prend une fonction qui dépend du temps\n",
                "Ft = lambda Y, t: F(Y)\n",
                "\n",
                "# la création des curseurs avec des paramètres par defaut\n",
                "# on va utiliser ces curseur dans la représentation dynamique\n",
                "slider = lambda mi, ma, val, descr: widgets.FloatSlider(\n",
                "    value=val,\n",
                "    min=mi,\n",
                "    max=ma,\n",
                "    step=0.1,\n",
                "    description=descr,\n",
                "    continuous_update=False,  # ne pas redessiner lors des gissements\n",
                "    readout_format='.2f',\n",
                ")\n",
                "\n",
                "# l'interval du temps\n",
                "tmin, tmax = 0, 4 * np.pi\n",
                "\n",
                "# le tracé dynamique\n",
                "@interact(a=slider(xmin, xmax, np.pi, r'$\\theta_0$'),\n",
                "          b=slider(ymin, ymax, 0, r'$\\omega_0$'))\n",
                "def dyn_trace_phases(a, b):\n",
                "    # compléter ici avec le code demandé\n",
                "    # les conditions initiales étant [a,b]\n"
            ]
        },
        {
            "cell_type": "markdown",
            "metadata": {
                "deletable": false,
                "editable": false
            },
            "source": [
                "Essayer de déterminer des valeurs des paramètres pour lequelles la solution est : \n",
                "- constantes,\n",
                "- péridique non contsante,\n",
                "- non bornée et telle que $t\\to \\theta(t)$ est strictement monotone,\n",
                "- *hétéroclines*, c'est-à-dire telle qu'il existe deux valeurs $\\theta_+\\in\\mathbb{R}$ et $\\theta_-\\in\\mathbb{R}$ telles que\n",
                "$$\n",
                "    \\lim_{t\\to +\\infty} \\theta(t)= \\theta_+ \\mbox{ et } \\lim_{t\\to -\\infty} \\theta(t)= \\theta_-.\n",
                "$$"
            ]
        },
        {
            "cell_type": "markdown",
            "metadata": {
                "deletable": false
            },
            "source": []
        },
        {
            "cell_type": "markdown",
            "metadata": {
                "deletable": false,
                "editable": false
            },
            "source": [
                "## Étude du pendule amorti, $c>0$\n",
                "\n",
                "Dans cette partie, on s'intéresse au pendule amorti.\n"
            ]
        },
        {
            "cell_type": "markdown",
            "metadata": {
                "deletable": false,
                "editable": false
            },
            "source": [
                "1) Réaliser le portrait de phase dynamique du système d'ordre 1 (🙉) en se limitant au domaine  $[-10,10]\\times[-6,6]$, comme dans le cas $c=0$, mais en introduisant en plus le paramètre dynamique `c`."
            ]
        },
        {
            "cell_type": "code",
            "execution_count": null,
            "metadata": {
                "deletable": false
            },
            "outputs": [],
            "source": [
                "# le tracé dynamique\n",
                "@interact(a=slider(xmin, xmax, np.pi, r'$\\theta_0$'),\n",
                "          b=slider(ymin, ymax, 0, r'$\\omega_0$'),\n",
                "          c=slider(0, 2, 1, r'$c$'))\n",
                "def dyn_trace_phases(a, b, c):\n",
                "    # compléter avec le code qui trace le portrait de phases\n"
            ]
        },
        {
            "cell_type": "markdown",
            "metadata": {
                "deletable": false,
                "editable": false
            },
            "source": [
                "2) Réaliser le portrait de phase du système linéaire $X'=AX$. On limitera la représentation graphique à la fenêtre\n",
                "$[-4,4]\\times[-4,4]$."
            ]
        },
        {
            "cell_type": "code",
            "execution_count": null,
            "metadata": {
                "deletable": false
            },
            "outputs": [],
            "source": [
                "xmin, xmax, ymin, ymax = -4, 4, -4, 4\n",
                "\n",
                "# le tracé dynamique\n",
                "@interact(a=slider(xmin, xmax, np.pi, r'$\\theta_0$'),\n",
                "          b=slider(ymin, ymax, 0, r'$\\omega_0$'),\n",
                "          c=slider(0, 2, 1, r'$c$'))\n",
                "def dyn_trace_phases(a, b, c=1):\n",
                "    # compléter avec le code qui trace le portrait de phases linéarisé\n"
            ]
        },
        {
            "cell_type": "markdown",
            "metadata": {
                "deletable": false,
                "editable": false
            },
            "source": [
                "3) Compader les deux portraits de phase (sans l'affichage des champs de vecteurs, ni des lignes de niveaux de l'énérgie)."
            ]
        },
        {
            "cell_type": "code",
            "execution_count": null,
            "metadata": {
                "deletable": false
            },
            "outputs": [],
            "source": [
                "# le tracé dynamique\n",
                "@interact(a=slider(xmin, xmax, np.pi, r'$\\theta_0$'),\n",
                "          b=slider(ymin, ymax, 0, r'$\\omega_0$'),\n",
                "          c=slider(0, 2, 1, r'$c$'))\n",
                "def dyn_trace_phases(a, b, c=1):\n",
                "    # compléter la représentation des deux phases\n"
            ]
        },
        {
            "cell_type": "markdown",
            "metadata": {
                "deletable": false,
                "editable": false
            },
            "source": [
                "Pour quelles valeurs de $\\theta_0$ et $\\omega_0$ l'approximation linéaire est « bonne » ?"
            ]
        },
        {
            "cell_type": "markdown",
            "metadata": {
                "deletable": false
            },
            "source": []
        },
        {
            "cell_type": "markdown",
            "metadata": {
                "deletable": false,
                "editable": false
            },
            "source": [
                "## Et si on bougeait ?\n",
                "\n",
                "Le code suivant permet de visualiser le mouvement *(les 10 premiers secondes)* de deux pendules lachés sans vitesse initiale : le premier sans frotement, le deuxième avec un coefficient de frottement `c`."
            ]
        },
        {
            "cell_type": "code",
            "execution_count": null,
            "metadata": {
                "deletable": false,
                "editable": false
            },
            "outputs": [],
            "source": [
                "import ipywidgets as widgets\n",
                "\n",
                "# le contrôle de l'angle initial\n",
                "angle = widgets.FloatSlider(\n",
                "    value=140,\n",
                "    min=-180,\n",
                "    max=180,\n",
                "    step=10,\n",
                "    description='Angle initial:',\n",
                "    continuous_update=False,\n",
                "    readout_format='.0f',\n",
                ")\n",
                "tmax = 10  # les 10 premiers secondes\n",
                "# les contrôles de l'animation\n",
                "time = widgets.Play(\n",
                "    interval=100,  # en millisecondes\n",
                "    value=0 * 10,\n",
                "    min=0 * 10,\n",
                "    max=tmax * 10,\n",
                "    step=1,\n",
                "    description=\"Démarrer\",\n",
                "    disabled=False)\n",
                "\n",
                "# le tracé dynamique\n",
                "@interact(c=slider(0, 10, 5, r'$c$'), a=angle, t=time)\n",
                "def trace_pendule(c, a, t):\n",
                "    l, m = 1, 5  # les constantes (on pourrait les faire varier aussi)\n",
                "    plt.axis('scaled')\n",
                "    plt.axis([-l, l, -l, l])\n",
                "    plt.title(f\"{t/10} sec.\")\n",
                "    # on trace les deux pendules\n",
                "    for c in [0, c]:\n",
                "        F = pendule(l, m, c)  # la fonction à intégrer\n",
                "        Ft = lambda Y, t: F(Y)  # odeint a besoin d'une fonction qui dépend du temps\n",
                "        v = odeint(Ft, [a * np.pi / 180, 0], [0, t / 10])\n",
                "        x, y = l * np.sin(v[1, 0]), -l * np.cos(v[1, 0])\n",
                "        plt.plot([0, x], [0, y], \"-k\")\n",
                "        plt.plot(x, y, 'o', label=f\"c={c}\")\n",
                "        plt.legend(loc=3)"
            ]
        }
    ],
    "metadata": {
        "kernelspec": {
            "display_name": "Python 3",
            "language": "python",
            "name": "python3"
        },
        "language_info": {
            "codemirror_mode": {
                "name": "ipython",
                "version": 3
            },
            "file_extension": ".py",
            "mimetype": "text/x-python",
            "name": "python",
            "nbconvert_exporter": "python",
            "pygments_lexer": "ipython3",
            "version": "3.7.4"
        }
    },
    "nbformat": 4,
    "nbformat_minor": 2
}