{
 "cells": [
  {
   "cell_type": "markdown",
   "metadata": {},
   "source": [
    "![Département de Mathématiques](https://ktzanev.github.io/logolabopp/ul-fst-math/ul-fst-math_100.gif)\n",
    "\n",
    "# TP 0 - Conseilles et astuces (i)Python\n",
    "\n",
    "Dans ce TP on va essayer de (re)voir quelques points particuliers dans la programmation Python et plus particulièrement d'iPython avec Jupyter Notebook.\n",
    "\n",
    "**Pour passer d'une cellule à la suivante en l'exécutant il suffit de faire <kbd>Maj.+Entrée</kbd> (<kbd>Shift+Enter</kbd>).**\n",
    "\n",
    "*Et pour voir les autre touches de raccourci, il faut faire <kbd>H</kbd> (si vous êtes en train d'éditer une cellule il faut d'abord sortir du mode « édition » avec <kbd>Esc</kbd>).*"
   ]
  },
  {
   "cell_type": "code",
   "execution_count": null,
   "metadata": {},
   "outputs": [],
   "source": [
    "import numpy as np\n",
    "import matplotlib.pyplot as plt"
   ]
  },
  {
   "cell_type": "markdown",
   "metadata": {},
   "source": [
    "## Création des figures\n",
    "\n",
    "Matplotlib permet de construire les figures de deux façons : à la Matlab, ou orienté objet. Il est préférable de ne pas mélanger ces deux méthodes. La méthode orientée objet est préférable, mais pour des raisons historiques nous allons utiliser souvent la méthode « fonctionnelle » (pour des raisons historiques)."
   ]
  },
  {
   "cell_type": "code",
   "execution_count": null,
   "metadata": {},
   "outputs": [],
   "source": [
    "x = np.linspace(-10, 10, 100)\n",
    "\n",
    "# La version orientée objet\n",
    "\n",
    "fig, ax = plt.subplots()  # création de la figure et du canevas (ang. axes) sur lequel on va dessiner\n",
    "ax.plot(x, np.sinc(x), \"r--\")  # on dessine sur le canevas\n",
    "ax.set(title=\"version OO (orienté objet)\", # titre\n",
    "       xlabel=\"x\")  # étiquette de l'abscisse\n",
    "plt.show()  # et on affiche le tout\n",
    "\n",
    "# La version fonctionnelle\n",
    "\n",
    "plt.plot(x, np.sinc(x), \"r--\")  # on dessine sur le canevas courant (créé à l'occasion)\n",
    "plt.title(\"version fonctionnelle (à la Matlab)\")  # le titre (transmis au canevas par défaut)\n",
    "plt.xlabel(\"x\")  # étiquette de l'abscisse (transmis au canevas par défaut)\n",
    "plt.show()  # et on affiche le tout"
   ]
  },
  {
   "cell_type": "markdown",
   "metadata": {},
   "source": [
    "## Interactivité dans les Notebook Jupyter (iPython)\n",
    "\n",
    "Pour pouvoir observer le résultat de la variation d'un paramètre il y a deux principales méthodes : \n",
    "- La méthode « statique » qui consiste à afficher les résultats pour différente valeur d'un paramètre. Elle convient très bien pour la production de document destiner à l'impression.\n",
    "- La méthode « dynamique » qui consiste à afficher le résultat pour une valeur donnée du paramètre, tout en ayant la possibilité de faire varier se paramètre grâce à une interface utilisateur. Elle convient très bien pour l'expérimentation ou l'enseignement par ordinateur.\n",
    "\n",
    "Considérons par exemple le cas très simple où on souhaite afficher le résultat $x^2$ en fonction de $x\\in [-2,2]$.\n",
    "- Avec la méthode « statique » on peut créer une boucle et afficher des diverses valeurs:"
   ]
  },
  {
   "cell_type": "code",
   "execution_count": null,
   "metadata": {},
   "outputs": [],
   "source": [
    "for x in np.arange(-2, 2, .2):\n",
    "    print(f\"Le carré de {x:4.1f} est {x*x:.1f}\")"
   ]
  },
  {
   "cell_type": "markdown",
   "metadata": {},
   "source": [
    "Pour utiliser la méthode « dynamique » nous avons besoin d'abord de charger les bibliothèques nécessaires :"
   ]
  },
  {
   "cell_type": "code",
   "execution_count": null,
   "metadata": {},
   "outputs": [],
   "source": [
    "from ipywidgets import interact, widgets"
   ]
  },
  {
   "cell_type": "markdown",
   "metadata": {},
   "source": [
    "Puis on peut procéder ainsi :"
   ]
  },
  {
   "cell_type": "code",
   "execution_count": null,
   "metadata": {},
   "outputs": [],
   "source": [
    "@interact(x=(-2, 2, .2))  # on « décore » la fonction suivante pour la rendre interactive\n",
    "def impression_carre(x=1):\n",
    "    print(f\"Le carré de {x:4.1f} est {x*x:.2f}\")"
   ]
  },
  {
   "cell_type": "markdown",
   "metadata": {},
   "source": [
    "Et si on souhaite personnaliser le comportement du curseur, on peut le créer au préalable avec `widgets.FloatSlider`. Pour connaître plus sur les `widget` vous pouvez consulter [la documentation](https://ipywidgets.readthedocs.io/en/stable/examples/Widget%20List.html)."
   ]
  },
  {
   "cell_type": "code",
   "execution_count": null,
   "metadata": {},
   "outputs": [],
   "source": [
    "x_slider = widgets.FloatSlider(\n",
    "    value=1,  # la valeur initiale\n",
    "    min=-2,\n",
    "    max=2,\n",
    "    step=0.2,\n",
    "    description=r\"$x_0$\",  # il est souvent préférable d'utiliser des r-string pour LaTeX\n",
    "    continuous_update=False,  # ne pas afficher lors des glissements\n",
    "    readout_format='.1f',  # on n'affiche qu'un chiffre après la virgule\n",
    ")\n",
    "\n",
    "@interact(x=x_slider)  # on attribue à x la valeur du curseur\n",
    "def impression_carre(x=1):\n",
    "    print(f\"Le carré de {x:4.1f} est {x*x:.2f}\")"
   ]
  },
  {
   "cell_type": "markdown",
   "metadata": {},
   "source": [
    "À la place du décorateur `@interact` on peut utiliser la fonction sous-jacente"
   ]
  },
  {
   "cell_type": "code",
   "execution_count": null,
   "metadata": {},
   "outputs": [],
   "source": [
    "# il faut ignorer le retour de `interact` car la fonction`impression_carre` ne renvoie pas de valeurs\n",
    "_ = interact(impression_carre, x=x_slider)"
   ]
  },
  {
   "cell_type": "markdown",
   "metadata": {},
   "source": [
    "On peut utiliser cette méthode pour afficher l'influence d'un ou plusieurs paramètres sur le graphe d'une fonction : "
   ]
  },
  {
   "cell_type": "code",
   "execution_count": null,
   "metadata": {},
   "outputs": [],
   "source": [
    "def plot_trig(p, q):\n",
    "    x = np.linspace(-5, 5, 300)  # création d'un vecteur de 300 points équirépartis entre -5 et 5\n",
    "    return plt.plot(x, np.sin(p * x) + np.cos(q * x / 2))[0]  # on retourne le résultat du plot au cas où on veut y intervenir avant l'affichage\n",
    "\n",
    "@interact(p=(0, 10, .2), q=(0, 10, .2))\n",
    "def generate_plot(p=5, q=3):\n",
    "    plot_trig(p, q)\n",
    "    plt.title(fr\"$\\sin({p}x)+\\cos({q}x)/2$\")  # une chaîne formatée (f-string) avec du LaTeX.\n",
    "    plt.ylabel(\"somme de deux sinus\")  # l'étiquette de l'ordonnée\n",
    "    plt.ylim(-2, 2)  #\n",
    "    plt.show() # et on affiche le graphique (non obligatoire ici)"
   ]
  },
  {
   "cell_type": "markdown",
   "metadata": {},
   "source": [
    "Quelques commentaires sur le code ci-dessus:\n",
    "- les valeurs par défaut `p=5,q=3` dans `generate_plot` serve de valeur initiale des curseurs.\n",
    "- le titre est créé avec un `f-string` (voir les explications plus bas) qui utilise des formules LaTeX, et pour ne pas avoir des problèmes avec les `\\` on utilise une chaîne brute (*raw* string, indiqué par le `r` devant).\n",
    "- On aurait pu utiliser une seule fonction, mais la séparation de `plot_sin` du reste nous permet de réutiliser ce code dans d'autres graphiques, par exemple si on souhaite créer une image **statique** superposant des graphes pour des diverses valeurs de `p` et `q` il suffit d'évoquer `plot_sin` plusieurs fois avant de conclure par `plt.show()`.  "
   ]
  },
  {
   "cell_type": "code",
   "execution_count": null,
   "metadata": {},
   "outputs": [],
   "source": [
    "for p, q in [[1, 0], [1, 3], [3, 1]]:\n",
    "    graph = plot_trig(p, q)  # plot retourne une liste d'un unique élément\n",
    "    graph.set_label(f\"p={p}, q={q}\") # oups, on utilise l'interface OO\n",
    "plt.title(f\"diverts valeurs de $\\\\sin(px)+\\\\sin(qx)/2$\")\n",
    "plt.ylabel(\"somme de deux sinus\") \n",
    "plt.ylim(-2, 3) # on limite l'ordonnée\n",
    "plt.legend()\n",
    "plt.show()"
   ]
  },
  {
   "cell_type": "markdown",
   "metadata": {},
   "source": [
    "Si on veut pouvoir modifier un dessin pour créer une animation ou pour pouvoir interagir avec un plot 3D il faut changer le mode d'affichage de `matplotlib`. Pour cela on utilise l'instruction de Jupyter suivante `%matplotlib notebook`, mais il ne faut pas oublier de revenir après au mode « standard » (ou « statique ») avec `%matplotlib inline`."
   ]
  },
  {
   "cell_type": "markdown",
   "metadata": {},
   "source": [
    "Voici un exemple d'animation qui utilise le mode « notebook » de `matplotlib`."
   ]
  },
  {
   "cell_type": "code",
   "execution_count": null,
   "metadata": {},
   "outputs": [],
   "source": [
    "%matplotlib notebook\n",
    "\n",
    "import time\n",
    "\n",
    "doublesin = lambda p, q, x: np.sin(p * x) + np.sin(q * x) / 2\n",
    "\n",
    "fig, ax = plt.subplots()  # on récupère la figure et le canevas\n",
    "x = np.linspace(-5, 5, 300)  # création d'un vecteur de 300 points équirépartis entre -5 et 5\n",
    "courbe = plt.plot(x, doublesin(0, 0, x))[0]  # on récupère la courbe à modifier après\n",
    "ax.set(\n",
    "    title=r\"diverts valeurs de $\\sin(px)+\\sin(qx)/2$\",  # le titre\n",
    "    ylabel=\"somme de deux sinus\",  # l'étiquette de l'ordonnée\n",
    "    ylim=(-2, 3)  # limite de l'ordonnée \n",
    ")\n",
    "plt.show()\n",
    "\n",
    "for p, q in [[1, 0], [1, 3], [3, 1], [3, 2], [3, 4]]:\n",
    "    courbe.set(\n",
    "        ydata=np.sin(p * x) + np.sin(q * x) / 2,  # on change les données du graphe à dessiner\n",
    "        label=f\"p={p}, q={q}\",  # l'étiquette de la courbe\n",
    "    )\n",
    "    ax.legend(loc=2)  # on rajoute la légende\n",
    "    fig.canvas.draw()  # on demande à redessiner la figure\n",
    "    time.sleep(1)  # attendre 1 seconde\n",
    "\n",
    "fig.canvas.close_event()  # Arrête l'interaction avec la figure"
   ]
  },
  {
   "cell_type": "markdown",
   "metadata": {},
   "source": [
    "Et voici une animation 3D qui utilise le mode « notebook » de `matplotlib`.\n",
    "\n",
    "Vous pouvez tourner l'image 3D avec la souris. Par contre tant que le mode « notebook » est actif les commandes de `matplotlib` utilisent le même graphique en ce superposant, donc dès qu'on a terminé à examiner une image 3D il faut revenir au comportement « standard » avec `%matplotlib inline`, ou executer `fig.canvas.close_event()`, ou cliquer sur le bouton <button class=\"btn btn-mini btn-primary\" href=\"#\" title=\"Stop Interaction\"><i class=\"fa fa-power-off icon-remove icon-large\"></i></button> « Stop interaction »."
   ]
  },
  {
   "cell_type": "code",
   "execution_count": null,
   "metadata": {},
   "outputs": [],
   "source": [
    "%matplotlib notebook\n",
    "\n",
    "from mpl_toolkits.mplot3d import Axes3D\n",
    "\n",
    "t = np.linspace(-5, 5, 300)  # le temps\n",
    "x, y = t**2, t * np.sin(2 * t)  # les coordonnées (x,y)\n",
    "ax = Axes3D(plt.figure())  # la zone de dessin 3D\n",
    "ax.set(\n",
    "    xlabel=r'$x$', \n",
    "    ylabel=r'$y$', \n",
    "    zlabel=r'$t$'\n",
    ")\n",
    "ax.plot(x, y, t)  # on dessine la courbe\n",
    "plt.show()"
   ]
  },
  {
   "cell_type": "markdown",
   "metadata": {},
   "source": [
    "Et si en plus on souhaite observer dynamiquement le changement d'un paramètre dans ce dessin 3D on peut faire ainsi"
   ]
  },
  {
   "cell_type": "code",
   "execution_count": null,
   "metadata": {},
   "outputs": [],
   "source": [
    "# la bibliothèque qui permet d'utiliser (le décorateur) @interact\n",
    "from ipywidgets import interact\n",
    "\n",
    "# on redessine le graphe précédent et\n",
    "# on récupère l'objet `courbe` qui pourra être modifié par la suite\n",
    "t = np.linspace(-5, 5, 300)  # le temps\n",
    "x = t**2  # les coordonnées de x\n",
    "ax = Axes3D(plt.figure())  # la zone de dessin 3D\n",
    "ax.set(\n",
    "    xlabel=r'$x$', xlim = (0,28),\n",
    "    ylabel=r'$y$', ylim = (-5,5),\n",
    "    zlabel=r'$t$', zlim = (-5,5),\n",
    "    \n",
    ")\n",
    "courbe = ax.plot([], [], [])[0]  # on rajoute une courbe qu'on va modifier après\n",
    "\n",
    "# le graphique interactif qui permet de varier le paramètre `c` de la fonction `dessiner_graph`\n",
    "# entre -5 et 5 (avec un pas de 1).\n",
    "# la valeur initiale est déterminée par la valeur par défaut de `c`.\n",
    "@interact(c=(-5, 5, .1))\n",
    "def dessiner_graph(c=2):\n",
    "    global courbe\n",
    "    y = t * np.sin(c * t)  \n",
    "    # Avec une version plus récente de matplotlib on peut faire directement \n",
    "    # courbe.set_data_3d(x, y, t) # on change les valeurs de la courbe\n",
    "    # mais avec la version des salles de TPs on peut faire :\n",
    "    courbe.remove() # on supprime l'ancienne courbe\n",
    "    courbe = ax.plot(x, y, t,\"b\")[0] # on rajoute une nouvelle courbe"
   ]
  },
  {
   "cell_type": "markdown",
   "metadata": {},
   "source": [
    "Et finalement on repasse en mode « standard » de dessin"
   ]
  },
  {
   "cell_type": "code",
   "execution_count": null,
   "metadata": {},
   "outputs": [],
   "source": [
    "%matplotlib inline"
   ]
  },
  {
   "cell_type": "markdown",
   "metadata": {},
   "source": [
    "## Résultats textuels\n",
    "Très souvent on souhaite imprimer les résultats numériques accompagnés d'un texte. Pour cela il existe trois méthodes standards :\n",
    "- *(méthode obsolète)* en utilisant `%` de la façon suivant :"
   ]
  },
  {
   "cell_type": "code",
   "execution_count": null,
   "metadata": {},
   "outputs": [],
   "source": [
    "a = 1\n",
    "s = 'Le résultat de la somme de %d et %d est %d.' % (a, 2, 1 + 2)\n",
    "print(s)"
   ]
  },
  {
   "cell_type": "markdown",
   "metadata": {},
   "source": [
    "- en utilisant la méthode `format`, dont voici un exemple :"
   ]
  },
  {
   "cell_type": "code",
   "execution_count": null,
   "metadata": {},
   "outputs": [],
   "source": [
    "a, b = 2, 3\n",
    "s = 'Le résultat de la somme de {} et {} est {}.'.format(a, b, a + b)\n",
    "print(s)"
   ]
  },
  {
   "cell_type": "markdown",
   "metadata": {},
   "source": [
    "avec cette méthode l'ordre d'apparition des paramètres n'est pas forcément celui des arguments :"
   ]
  },
  {
   "cell_type": "code",
   "execution_count": null,
   "metadata": {},
   "outputs": [],
   "source": [
    "a = 1\n",
    "s = 'Le résultat de la somme de {1} et {0} est {2}.'.format(a, 2, a + 2)\n",
    "print(s)"
   ]
  },
  {
   "cell_type": "markdown",
   "metadata": {},
   "source": [
    "De plus un paramètre peut être utilisé plusieurs fois et on peut contrôler le format de conversion en chaîne de caractères : "
   ]
  },
  {
   "cell_type": "code",
   "execution_count": null,
   "metadata": {},
   "outputs": [],
   "source": [
    "s = '''\n",
    "Une approximation de pi est {0}, dont l'arrondi à 2 chiffres est {0:.2f}.\n",
    "Une ecriture scientifique de ce même nombre est {0:.2e} ...\n",
    "'''.format(3.141592653589793)\n",
    "print(s)"
   ]
  },
  {
   "cell_type": "markdown",
   "metadata": {},
   "source": [
    "- la méthode la plus récente (introduite dans Python 3.6) est d'utiliser les `f-string` :"
   ]
  },
  {
   "cell_type": "code",
   "execution_count": null,
   "metadata": {},
   "outputs": [],
   "source": [
    "a = 1\n",
    "s = f'Le résultat de la somme de {a} et {2} est {a+2}.'\n",
    "print(s)"
   ]
  },
  {
   "cell_type": "markdown",
   "metadata": {},
   "source": [
    "Pour savoir plus sur les formatages possibles des paramètres vous pouvez consulter\n",
    "- [Python String Formatting Best Practices](https://realpython.com/python-string-formatting/)"
   ]
  },
  {
   "cell_type": "markdown",
   "metadata": {},
   "source": [
    "## Attribution de plusieurs valeurs\n",
    "\n",
    "En Python on peut attribuer plusieurs valeurs en même temps de la façon suivante :"
   ]
  },
  {
   "cell_type": "code",
   "execution_count": null,
   "metadata": {},
   "outputs": [],
   "source": [
    "a, b, c = 0, 1, 2\n",
    "print(f\"la valeur de b est {b}.\")"
   ]
  },
  {
   "cell_type": "code",
   "execution_count": null,
   "metadata": {},
   "outputs": [],
   "source": [
    "a, b, c = (0, 1, 2)\n",
    "print(f\"la valeur de b est {b}.\")"
   ]
  },
  {
   "cell_type": "code",
   "execution_count": null,
   "metadata": {},
   "outputs": [],
   "source": [
    "a, b, c = [0, 1, 2]\n",
    "print(f\"la valeur de b est {b}.\")"
   ]
  },
  {
   "cell_type": "code",
   "execution_count": null,
   "metadata": {},
   "outputs": [],
   "source": [
    "print(\"la valeur de b est {1}.\".format(a, b, c))  # ici {0} = a, {1} = b, {2} = c\n",
    "print(\"la valeur de b est {1}.\".format(*[a, b, c]))  # ici *[a,b,c] => a,b,c"
   ]
  },
  {
   "cell_type": "markdown",
   "metadata": {},
   "source": [
    "## Gestion des erreurs\n",
    "\n",
    "En Python il existe un moyen très performant pour gérer les erreurs utilisant les exceptions (`try ... except`), mais très souvent il est plus pratique de simplement retourner deux valeurs, dont une indique s'il y a eu une erreur où pas :"
   ]
  },
  {
   "cell_type": "code",
   "execution_count": null,
   "metadata": {},
   "outputs": [],
   "source": [
    "def division(a, b):\n",
    "    if b == 0:\n",
    "        return [a * float(\"inf\"), True]\n",
    "    else:\n",
    "        return [a / b, False]\n",
    "\n",
    "for p, q in [(1, 2), (1, 0)]:\n",
    "    result, error = division(p, q)\n",
    "    if error:\n",
    "        print(f\"La division de {p} par {q} est ...oups...\")\n",
    "    else:\n",
    "        print(f\"La division de {p} par {q} est égale à {result}.\")"
   ]
  },
  {
   "cell_type": "markdown",
   "metadata": {},
   "source": [
    "Et si on n'a pas besoin de l'erreur il suffit de l'ignorer ainsi :"
   ]
  },
  {
   "cell_type": "code",
   "execution_count": null,
   "metadata": {},
   "outputs": [],
   "source": [
    "result, _ = division(1, 2)\n",
    "print(result)"
   ]
  },
  {
   "cell_type": "markdown",
   "metadata": {},
   "source": [
    "## Les fonctions\n",
    "\n",
    "### les fonction `lambda`\n",
    "\n",
    "Considérons la fonction $f:x\\mapsto \\frac{x+1}{x^2+1}$. On peut définir cette fonction en utilisant `def`"
   ]
  },
  {
   "cell_type": "code",
   "execution_count": null,
   "metadata": {},
   "outputs": [],
   "source": [
    "def f(x):\n",
    "    return (x + 1) / (x * x + 1)\n",
    "\n",
    "for x in [0, 1, 2]:\n",
    "    print(f\"la valeur de f en {x} est {f(x)}\")"
   ]
  },
  {
   "cell_type": "markdown",
   "metadata": {},
   "source": [
    "Mais il est plus naturel d'utiliser `lambda` qui est plus proche de la notation mathématique plus haut"
   ]
  },
  {
   "cell_type": "code",
   "execution_count": null,
   "metadata": {},
   "outputs": [],
   "source": [
    "f = lambda x: (x + 1) / (x * x + 1)\n",
    "\n",
    "for x in [0, 1, 2]:\n",
    "    print(f\"la valeur de f en {x} est {f(x)}\")"
   ]
  },
  {
   "cell_type": "markdown",
   "metadata": {},
   "source": [
    "Les fonctions définies ainsi peuvent avoir plusieurs paramètres *(avec y compris des valeurs par défaut)*"
   ]
  },
  {
   "cell_type": "code",
   "execution_count": null,
   "metadata": {},
   "outputs": [],
   "source": [
    "g = lambda x, y, z=1: (x + y) / (x * x + z)\n",
    "\n",
    "for x, y in [(0, 1), (1, 2), (2, 3)]:\n",
    "    print(f\"la valeur de g en {x,y} est {g(x,y)}, où z=1 par défaut\")\n",
    "\n",
    "print(f\"la valeur de g en {1,2,3} est {g(1,2,3)}\")"
   ]
  },
  {
   "cell_type": "markdown",
   "metadata": {},
   "source": [
    "### Les fonction avec condition\n",
    "\n",
    "Et comment faire si nous avons une fonction dont la définition contient une condition, comme \n",
    "$$\n",
    "    h : x \\mapsto \n",
    "    \\begin{cases}\n",
    "        0       & \\text{si }x=0     \\\\\n",
    "        \\frac1x & \\text{si }x\\neq 0\n",
    "    \\end{cases}\\;\\text{?}\n",
    "$$\n",
    "On peut utiliser un `if` de la façon suivante"
   ]
  },
  {
   "cell_type": "code",
   "execution_count": null,
   "metadata": {},
   "outputs": [],
   "source": [
    "h = lambda x: 0 if x == 0 else 1 / x\n",
    "\n",
    "for x in [0, 1, 2]:\n",
    "    print(f\"la valeur de h en {x} est {h(x)}\")"
   ]
  },
  {
   "cell_type": "markdown",
   "metadata": {},
   "source": [
    "Ou on peut utiliser le fait que `x and y` vaut `x` si `x` a la valeur de `False` et `y` sinon."
   ]
  },
  {
   "cell_type": "code",
   "execution_count": null,
   "metadata": {},
   "outputs": [],
   "source": [
    "h = lambda x: x and 1 / x\n",
    "\n",
    "for x in [0, 1, 2]:\n",
    "    print(f\"la valeur de h en {x} est {h(x)}\")"
   ]
  },
  {
   "cell_type": "markdown",
   "metadata": {},
   "source": [
    "Le problème avec ces deux définitions est qu'aucune ne fonctionne avec un argument tableau."
   ]
  },
  {
   "cell_type": "code",
   "execution_count": null,
   "metadata": {},
   "outputs": [],
   "source": [
    "def test(h):\n",
    "    for x in [0, 2., [0, 2], np.array([0, 2, 4])]:\n",
    "        try:\n",
    "            print(f\"la valeur de h en {x} (de type {type(x).__name__}) est {h(x)} (de type {type(h(x)).__name__})\")\n",
    "        except:\n",
    "            print(f\"!!! h ne fonctionne pas avec les arguments de type {type(x).__name__}\")\n",
    "\n",
    "test(h)"
   ]
  },
  {
   "cell_type": "markdown",
   "metadata": {},
   "source": [
    "Pour définir cette même fonction de sorte à ce qu'on puisse évaluer `f([0,1,2])` et obtenir comme résultat le tableau `numpy` `[0,1,.5]` nous avons plusieurs options."
   ]
  },
  {
   "cell_type": "markdown",
   "metadata": {},
   "source": [
    "Nous pouvons aussi utiliser une construction « pythonesque », mais qui est plus lente et qui ne fonctionne pas avec les scalaires."
   ]
  },
  {
   "cell_type": "code",
   "execution_count": null,
   "metadata": {},
   "outputs": [],
   "source": [
    "h = lambda x: np.array([xx and 1 / xx for xx in x])\n",
    "\n",
    "test(h)"
   ]
  },
  {
   "cell_type": "markdown",
   "metadata": {},
   "source": [
    "Pour pouvoir utiliser cette fonction y compris avec des valeurs numériques on peut utiliser `np.atleast_1d` qui assure que les constantes sont transformées en `array` de dimension 1. Cette méthode, comme les suivantes, renvoie toujours un `array` de dimension 1. "
   ]
  },
  {
   "cell_type": "code",
   "execution_count": null,
   "metadata": {},
   "outputs": [],
   "source": [
    "h = lambda x: np.array([t if t == 0 else 1 / t for t in np.atleast_1d(x)])\n",
    "\n",
    "test(h)"
   ]
  },
  {
   "cell_type": "markdown",
   "metadata": {},
   "source": [
    "Nous pouvons utiliser la fonction `where` de `numpy` mais le problème est qu'elle évalue tous ces arguments. Pour palier à ça on peut temporairement « annuler » les erreurs de division par `0`. Cette méthode renvoi toujours en tableau qui peut être de dimension 0 ou 1."
   ]
  },
  {
   "cell_type": "code",
   "execution_count": null,
   "metadata": {},
   "outputs": [],
   "source": [
    "def h(x):\n",
    "    x = np.asarray(x)\n",
    "    np.seterr(divide='ignore')\n",
    "    resultat = np.where(x == 0, 0, 1 / x)\n",
    "    np.seterr(divide='raise')\n",
    "    return resultat\n",
    "\n",
    "test(h)"
   ]
  },
  {
   "cell_type": "markdown",
   "metadata": {},
   "source": [
    "Nous pouvons également utiliser l'extraction conditionnelle d'un tableau `numpy` mais pour cela il faut d'abord transformer l'argument en `array` de `float`."
   ]
  },
  {
   "cell_type": "code",
   "execution_count": null,
   "metadata": {},
   "outputs": [],
   "source": [
    "def h(x):\n",
    "    x = np.atleast_1d(x).astype(float)  # pour éviter que [0, 1, 2] soit concidéré comme liste d'entiers\n",
    "    x[x != 0] = 1 / x[x != 0]  # on inverse les valeurs non nulles\n",
    "    return x\n",
    "\n",
    "test(h)"
   ]
  },
  {
   "cell_type": "markdown",
   "metadata": {},
   "source": [
    "Probablement la façon la plus propre est d'utiliser `piecewise` qui est fait pour définir des fonctions avec des conditions."
   ]
  },
  {
   "cell_type": "code",
   "execution_count": null,
   "metadata": {},
   "outputs": [],
   "source": [
    "def h(x):\n",
    "    x = np.atleast_1d(x).astype(float)  # pour éviter que [0, 1, 2] soit concidéré comme liste d'entiers\n",
    "    return np.piecewise(x, [x != 0], [lambda s: 1 / s, 0])\n",
    "\n",
    "test(h)"
   ]
  },
  {
   "cell_type": "markdown",
   "metadata": {},
   "source": [
    "### Les fonction avec paramètre\n",
    "\n",
    "Et comment faire si nous avons une fonction dont la définition contient des paramètres, comme \n",
    "$$\n",
    "    h_{p,q} : x \\mapsto \\sin(px+q)\\;\\text{?}\n",
    "$$"
   ]
  },
  {
   "cell_type": "markdown",
   "metadata": {},
   "source": [
    "Nous pouvons définir une fonction générale qui prend les paramètres comme arguments et après pour spécifier les paramètres créer une nouvelle fonction qui utilise la première."
   ]
  },
  {
   "cell_type": "code",
   "execution_count": null,
   "metadata": {},
   "outputs": [],
   "source": [
    "H = lambda p, q, x: np.sin(p * x + q)\n",
    "\n",
    "h = lambda x: H(2, 3, x)\n",
    "\n",
    "test(h)"
   ]
  },
  {
   "cell_type": "markdown",
   "metadata": {},
   "source": [
    "Mais nous pouvons de façon plus « pythonesque » définir une fonction qui renvoi la fonction spécifiée par les paramètres comme résultat."
   ]
  },
  {
   "cell_type": "code",
   "execution_count": null,
   "metadata": {},
   "outputs": [],
   "source": [
    "h = lambda p, q: lambda x: np.sin(p * x + q)\n",
    "\n",
    "# maintenant h(2,3) est une fonction qui peut être évaluée\n",
    "# par exemple on peut faire h(2,3)(1)\n",
    "\n",
    "test(h(2, 3))"
   ]
  }
 ],
 "metadata": {
  "kernelspec": {
   "display_name": "Python 3",
   "language": "python",
   "name": "python3"
  },
  "language_info": {
   "codemirror_mode": {
    "name": "ipython",
    "version": 3
   },
   "file_extension": ".py",
   "mimetype": "text/x-python",
   "name": "python",
   "nbconvert_exporter": "python",
   "pygments_lexer": "ipython3",
   "version": "3.7.6"
  }
 },
 "nbformat": 4,
 "nbformat_minor": 2
}