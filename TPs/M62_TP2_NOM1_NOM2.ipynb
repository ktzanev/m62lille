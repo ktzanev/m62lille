{
 "cells": [
  {
   "cell_type": "markdown",
   "metadata": {
    "deletable": false,
    "editable": false
   },
   "source": [
    "![Département de Mathématiques](https://ktzanev.github.io/logolabopp/ul-fst-math/ul-fst-math_100.gif)\n",
    "\n",
    "# TP 2 - Systèmes différentiels"
   ]
  },
  {
   "cell_type": "code",
   "execution_count": null,
   "metadata": {
    "deletable": false,
    "editable": false
   },
   "outputs": [],
   "source": [
    "import numpy as np\n",
    "import matplotlib.pyplot as plt"
   ]
  },
  {
   "cell_type": "markdown",
   "metadata": {
    "deletable": false,
    "editable": false
   },
   "source": [
    "Lorsqu'on étudie un système différentiel d'ordre 1 dans $\\mathbb{R}^2$, de la forme\n",
    "$$\n",
    "    \\begin{cases}\n",
    "      x'=F_1\\big((x,y),t\\big)&\\\\\n",
    "      y'=F_2\\big((x,y),t\\big)&\n",
    "    \\end{cases}\n",
    "    \\quad\\iff\\quad\n",
    "    V'=F(V,t)\n",
    "    \\quad\\text{pour}\\quad\n",
    "    V(t) = \\begin{pmatrix} x(t)\\\\y(t) \\end{pmatrix}\n",
    "    \\text{ et }\n",
    "    F(V,t) = \\begin{pmatrix} F_1\\big(V,t\\big)\\\\ F_2\\big(V,t\\big) \\end{pmatrix}\n",
    "$$\n",
    "et qu'on veut représenter graphiquement les solutions $t\\mapsto(x(t),y(t))$ pour $t\\in J$, il y a plusieurs choix possibles.\n",
    "1. Tracer (dans $\\mathbb{R}^3$) le graphe « 3D » $\\{(t,x(t),y(t))\\ |\\ t\\in J\\}$ de la fonction $t\\mapsto(x(t),y(t))$.\n",
    "2. Tracer (dans $\\mathbb{R}^2$) les graphes « 2D » des fonctions $t\\mapsto x(t)$ et $t\\mapsto y(t)$; ce sont les projections du graphe 3D dans les plans $(t,x)$ et $(t,y)$. \n",
    "3. Tracer (dans $\\mathbb{R}^2$) la courbe paramétrée $\\{(x(t),y(t))\\ |\\ t\\in J\\}$; c'est la projection du graphe 3D dans le plan $(x,y)$, appelé *plan de phase*. Ces courbes peuvent se croiser pour différents conditions initiales.\n",
    "\n",
    "On appelle *portrait de phase* l'ensemble des projections des solutions dans le plan de phase. On réserve en général ce terme aux équations **autonomes** \n",
    "$$\n",
    "    \\begin{cases}\n",
    "      x'=F_1\\big((x,y)\\big)&\\\\\n",
    "      y'=F_2\\big((x,y)\\big)&\n",
    "    \\end{cases}\n",
    "    \\quad\\iff\\quad\n",
    "    V'=F(V).\n",
    "$$\n",
    "Dans la pratique, on dit qu'on a dessiné le portrait de phase d'une équation autonome lorsqu'on a dessiné suffisamment de courbes pour pouvoir deviner le comportement des autres.\n",
    "\n",
    "Il est très utile de représenter également le champ de vecteurs associé au système différentiel: il s'agit de dessiner le vecteur de coordonnées $(F_1(x,y),F_2(x,y))$ basé au point de coordonnées $(x,y)$. On aura ainsi, pour tout $t$, le vecteur tangent à la courbe solution au point $(x(t),y(t))$.\n",
    "\n",
    "Pour tracer un graphe dans l'espace, on utilise `Axes3D` de la bibliothèque `mpl_toolkits` de Python "
   ]
  },
  {
   "cell_type": "code",
   "execution_count": null,
   "metadata": {
    "deletable": false,
    "editable": false
   },
   "outputs": [],
   "source": [
    "from mpl_toolkits.mplot3d import Axes3D"
   ]
  },
  {
   "cell_type": "markdown",
   "metadata": {
    "deletable": false,
    "editable": false
   },
   "source": [
    "Le paramétrage `%matplotlib notebook` permet de faire « tourner » le graphique à l'écran. Par contre tant qu'il est actif les commandes de `matplotlib` utilise le même graphique en ce superposant, donc dès qu'on a terminé à examiner une image 3D il faut revenir au comportement « stadard » avec `%matplotlib inline` ou cliquer sur le bouton <button class=\"btn btn-mini btn-primary\" href=\"#\" title=\"Stop Interaction\"><i class=\"fa fa-power-off icon-remove icon-large\"></i></button> « Stop interaction »."
   ]
  },
  {
   "cell_type": "code",
   "execution_count": null,
   "metadata": {
    "deletable": false,
    "editable": false
   },
   "outputs": [],
   "source": [
    "%matplotlib notebook"
   ]
  },
  {
   "cell_type": "markdown",
   "metadata": {
    "deletable": false,
    "editable": false
   },
   "source": [
    "Considérons par exemple la fonction $t \\mapsto \\big(\\sin(t),\\cos(t)\\big)$ qui est une solution évidente de l'équation $V' = F(V)$ pour $F(x,y) = (y,-x)$, ou écrit autrement $F(V)=AV$ pour $A = \\begin{pmatrix} 0 & 1 \\\\ -1 & 0\\end{pmatrix}$.\n",
    "Pour tracer la représentation « 3D » de cette solution on peut faire ainsi :"
   ]
  },
  {
   "cell_type": "code",
   "execution_count": null,
   "metadata": {
    "deletable": false,
    "editable": false
   },
   "outputs": [],
   "source": [
    "ax = Axes3D(plt.figure())  # la zone de dessin 3D\n",
    "ax.set(xlabel=r'$x$', ylabel=r'$y$', zlabel=r'$t$')\n",
    "\n",
    "t = np.linspace(-4 * np.pi, 4 * np.pi, 150)  # le temps\n",
    "x, y = np.sin(t), np.cos(t)  # les coordonnées (x,y) en fonction du temps\n",
    "\n",
    "plt.plot(x, y, t)  # on dessine la courbe 3D\n",
    "plt.show()  # et on affiche le graphique"
   ]
  },
  {
   "cell_type": "markdown",
   "metadata": {
    "deletable": false,
    "editable": false
   },
   "source": [
    "Dans ce cas les projections dans les plans $(t,x)$ et $(t,y)$ ne sont autres que les graphes des fonctions $\\sin$ et $\\cos$ (ici on identifie les plans $(t,x)$ et $(t,y)$):"
   ]
  },
  {
   "cell_type": "code",
   "execution_count": null,
   "metadata": {
    "deletable": false,
    "editable": false
   },
   "outputs": [],
   "source": [
    "%matplotlib inline\n",
    "\n",
    "plt.plot(t, x, label=r\"$\\sin(t)$\")\n",
    "plt.plot(t, y, ':', label=r\"$\\cos(t)$\")\n",
    "plt.legend(loc=1)\n",
    "plt.title(f\"Les courbes $(t,x(t))$ et $(t,y(t))$\")\n",
    "plt.show()"
   ]
  },
  {
   "cell_type": "markdown",
   "metadata": {
    "deletable": false,
    "editable": false
   },
   "source": [
    "Pour dessiner le protrait de phase, la projection dans le plan $(x,y)$, on procède de la même façon :"
   ]
  },
  {
   "cell_type": "code",
   "execution_count": null,
   "metadata": {
    "deletable": false,
    "editable": false
   },
   "outputs": [],
   "source": [
    "plt.axis('scaled')  # on s'assure que les axes sont à la même échelle \n",
    "plt.axis([-2, 2, -2, 2])  # la partie visible du graphique\n",
    "\n",
    "plt.plot(x, y)\n",
    "plt.title(f\"La courbes $(x(t),y(t))$\")\n",
    "plt.show()"
   ]
  },
  {
   "cell_type": "markdown",
   "metadata": {
    "deletable": false,
    "editable": false
   },
   "source": [
    "Et si de plus on souhaite afficher le champ de vecteurs (normalisé) défini par $F$, on définit d'abord la fonction $F$ qui prends en argument une liste de vecteurs $v = (x,y)$ et qui renvoie la liste des résultats $F(v,t)$ au temps $t$. Dans le cas des équations autonomes, comme c'est le cas de notre exemple, la fonction $F$ prend un argument $t$ mais ne l'utilise pas pour le calcul du résultat."
   ]
  },
  {
   "cell_type": "code",
   "execution_count": null,
   "metadata": {
    "deletable": false,
    "editable": false
   },
   "outputs": [],
   "source": [
    "# la fonction F (qui ne dépend pas de t)\n",
    "F = lambda v, t: [v[1], -v[0]]"
   ]
  },
  {
   "cell_type": "markdown",
   "metadata": {
    "deletable": false,
    "editable": false
   },
   "source": [
    "Puis pour dessiner ce champ de vecteurs (au temps $t=0$ par exemple) on utilise la fonction `quiver` comme dans le TP1."
   ]
  },
  {
   "cell_type": "code",
   "execution_count": null,
   "metadata": {
    "deletable": false,
    "editable": false
   },
   "outputs": [],
   "source": [
    "# on fixe quelques constantes (paramètres)\n",
    "xymin, xymax = -2, 2  # les valeurs extrémales des x et y\n",
    "N = 10  # le nombre de subdivisions de la grille\n",
    "t = 0  # le temps n'a pas d'importance ici car l'équatio est autonome\n",
    "\n",
    "\n",
    "plt.axis('scaled')  # on s'assure que les axes sont à la même échelle \n",
    "plt.axis([-2, 2, -2, 2])  # la partie visible du graphique\n",
    "\n",
    "\n",
    "X = np.linspace(xymin, xymax, N)  # abscisses des points de la grille\n",
    "Y = np.linspace(xymin, xymax, N)  # ordonnées des points de la grille\n",
    "U, V = F(np.meshgrid(X, Y), t)  # les composantes du champ de vecteurs\n",
    "M = np.hypot(U, V)  # calcule la norme du vecteur (U,V)\n",
    "M[M == 0] = 1  # évite la valeur 0\n",
    "U /= M  # normalise la composante U\n",
    "V /= M  # normalise la composante V\n",
    "plt.quiver(X, Y, U, V, angles='xy')  # et on dessine le champ de vecteur normalisé\n",
    "\n",
    "T = np.linspace(-4 * np.pi, 4 * np.pi, 150)  # le temps T, car t est pris \n",
    "x, y = np.sin(T), np.cos(T)  # les coordonnées (x,y) en fonction du temps\n",
    "\n",
    "plt.plot(x, y)\n",
    "plt.title(f\"La courbes $(x(t),y(t))$\")\n",
    "plt.show()\n"
   ]
  },
  {
   "cell_type": "markdown",
   "metadata": {
    "deletable": false,
    "editable": false
   },
   "source": [
    "Pour finir, si en plus on veut afficher la position de $\\big(x(t),y(t)\\big)$ au temps $t$ de façon dynamique, on peut utiliser, comme dans le TP1, la bibliothèque `interact`."
   ]
  },
  {
   "cell_type": "code",
   "execution_count": null,
   "metadata": {
    "deletable": false,
    "editable": false
   },
   "outputs": [],
   "source": [
    "# la bibliothèque qui permet d'utiliser (le décorateur) @interact\n",
    "from ipywidgets import interact\n",
    "\n",
    "tmin, tmax = -np.pi, np.pi\n",
    "\n",
    "@interact(t=(tmin, tmax, np.pi / 10))\n",
    "def graph(t):\n",
    "\n",
    "    plt.axis('scaled')  # on s'assure que les axes sont à la même échelle\n",
    "    plt.axis([-2, 2, -2, 2])  # la partie visible du graphique\n",
    "\n",
    "    X = np.linspace(xymin, xymax, N)  # abscisses des points de la grille\n",
    "    Y = np.linspace(xymin, xymax, N)  # ordonnées des points de la grille\n",
    "    U, V = F(np.meshgrid(X, Y), t)  # les composantes du champ de vecteurs\n",
    "    M = np.hypot(U, V)  # calcule la norme du vecteur (U,V)\n",
    "    M[M == 0] = 1  # évite la valeur 0\n",
    "    U /= M  # normalise la composante U\n",
    "    V /= M  # normalise la composante V\n",
    "    plt.quiver(X, Y, U, V, angles='xy')  # et on dessine le champ de vecteur normalisé\n",
    "\n",
    "    T = np.linspace(tmin, tmax, 50)  # le temps T, car t est un paramètre\n",
    "\n",
    "    plt.plot(np.sin(T), np.cos(T), 'b')  # la courbe en bleu\n",
    "    plt.plot(np.sin(t), np.cos(t), 'ro')  # la position dynamique au temps t en rouge\n",
    "    plt.title(f\"Portrait de phase de $(\\sin(t),\\cos(t))$ et position au temps $t$={t:.2f}\")\n",
    "\n",
    "    plt.show()"
   ]
  },
  {
   "cell_type": "markdown",
   "metadata": {
    "deletable": false,
    "editable": false
   },
   "source": [
    "## Solutions en fonction du temps"
   ]
  },
  {
   "cell_type": "markdown",
   "metadata": {
    "deletable": false,
    "editable": false
   },
   "source": [
    "### Exercice 1\n",
    "\n",
    "On considère le système différentiel\n",
    "$\\left\\{\\begin{array}{l}x'=y\\\\y'=-x\\end{array}\\right.$."
   ]
  },
  {
   "cell_type": "markdown",
   "metadata": {
    "deletable": false,
    "editable": false
   },
   "source": [
    "**a)** Résoudre ce système en posant $z=x+iy$. Déterminer les solutions $(x_k,y_k)$ correspondant aux conditions initiales $x_k(0)=0,\\ y_k(0)=k$ pour un $k$ donné."
   ]
  },
  {
   "cell_type": "markdown",
   "metadata": {
    "deletable": false
   },
   "source": [
    "*Écrire les solutions ici ...*\n"
   ]
  },
  {
   "cell_type": "markdown",
   "metadata": {
    "deletable": false,
    "editable": false
   },
   "source": [
    "**b)** Créer une figure dynamique (en utilisant le décorateur `interact` de la bibliothèque `ipywidgets`) qui trace les graphes des fonctions $x_k$ (en trait plein) et $y_k$ (en pointillé) pour $t\\in[-4\\pi;4\\pi]$, en limitant l'ordonné à $[-5,5]$. Le choix de $k$ doit se faire dans l'intervalle $[1,4]$."
   ]
  },
  {
   "cell_type": "code",
   "execution_count": null,
   "metadata": {
    "deletable": false
   },
   "outputs": [],
   "source": [
    "# la bibliothèque qui permet d'utiliser (le décorateur) @interact\n",
    "from ipywidgets import interact\n",
    "\n",
    "tmin, tmax, xymin, xymax = -4 * np.pi, 4 * np.pi, -5, 5\n",
    "t = np.linspace(tmin, tmax, 100)\n",
    "\n",
    "@interact(k=(1, 4))\n",
    "def graph(k):\n",
    "    # le code de la figure est à mettre ici\n",
    "\n"
   ]
  },
  {
   "cell_type": "markdown",
   "metadata": {
    "deletable": false,
    "editable": false
   },
   "source": [
    "**c)** Créer un graphique dynamique qui :\n",
    "- trace dans le plan de phase $(x,y)$ limité à $[-5,5]\\times[-5,5]$,\n",
    "- a pour paramètres $k$ et $t$,\n",
    "- représente le champ de vecteurs normalisé au temps $t$ *(vous pouvez créer une fonction `champ_normalise(F, xmin, xmax, ymin, ymax, t=0, N=15)` en vous inspirant du code présent au début du tp)*,\n",
    "- les solutions $(x_k,y_k)$ en fonction du choix du paramètre dynamique $k$,\n",
    "- ainsi qu'un point de coordonné $(x_k(t),y_k(t))$ qui varie en fonction du paramètre dynamique $t$.\n",
    "\n",
    "**Note:** Dans cet exercice le champ de vecteurs ne dépend pas du temps $t$, mais on va avoir besoin de la fonction `champ_normalise` par la suite où il en dépendra."
   ]
  },
  {
   "cell_type": "code",
   "execution_count": null,
   "metadata": {
    "deletable": false
   },
   "outputs": [],
   "source": []
  },
  {
   "cell_type": "markdown",
   "metadata": {
    "deletable": false,
    "editable": false
   },
   "source": [
    "### Exercice 2\n",
    "\n",
    "Le système différentiel\n",
    "$$\n",
    "    \\left\\{\\begin{array}{cl}x'(t)&=(t+3)x(t)+2y(t)\\\\ y'(t)&=-4x(t)+(t-3)y(t)\\end{array}\\right.\n",
    "$$\n",
    "admet sur $\\mathbb{R}$ les solutions\n",
    "$$\n",
    "    \\left\\{\\begin{array}{l}x(t)=e^{t^2/2}(ae^t+be^{-t})\\\\ y(t)=e^{t^2/2}(-ae^t-2be^{-t})\\end{array}\\right.\n",
    "$$\n",
    "où $a,b\\in\\mathbb{R}$."
   ]
  },
  {
   "cell_type": "markdown",
   "metadata": {
    "deletable": false,
    "editable": false
   },
   "source": [
    "**a)** Écrire une fonction `trace_phase(a, b, t)` qui :\n",
    "- pour un couple $[a,b]$, trace la solution correspondante dans le plan de phase $(x,y)$ pour un temps compris entre $-3$ et $3$, \n",
    "- affiche un point à la position $(x(t),y(t))$ au temps du paramètre $t$. \n",
    "- rajoute le label correspondant aux valeurs des deux paramètres $a$ et $b$.  \n",
    "Puis tester `trace_phase(-2, 3, 1)` dans un plan limité à $x\\in[-15;15]$, $y\\in[-30,30]$) avec un titre correspondant.\n"
   ]
  },
  {
   "cell_type": "code",
   "execution_count": null,
   "metadata": {
    "deletable": false
   },
   "outputs": [],
   "source": []
  },
  {
   "cell_type": "markdown",
   "metadata": {
    "deletable": false,
    "editable": false
   },
   "source": [
    "**b)** Créer une image dynamique qui en fonctions de 4 paramètres $a_1$, $b_1$, $a_2$,$b_2$, qui peuvent varier entre $-5$ et $5$, et d'un cinquième paramètre $t\\in[-1.5,1.5]$, trace les deux courbes/points `trace_phase(a1, b1, t)` et `trace_phase(a2, b2, t)` dans le plan de phases limité à $x\\in[-15;15]$, $y\\in[-30,30]$.  "
   ]
  },
  {
   "cell_type": "code",
   "execution_count": null,
   "metadata": {
    "deletable": false
   },
   "outputs": [],
   "source": []
  },
  {
   "cell_type": "markdown",
   "metadata": {
    "deletable": false,
    "editable": false
   },
   "source": [
    "**c)** Même question que la précédente, mais en rajoutant le champ de vecteurs (dépendant du temps)."
   ]
  },
  {
   "cell_type": "code",
   "execution_count": null,
   "metadata": {
    "deletable": false
   },
   "outputs": [],
   "source": []
  },
  {
   "cell_type": "markdown",
   "metadata": {
    "deletable": false,
    "editable": false
   },
   "source": [
    "**d)** Considérer $(a_1,b_1)=(1,4)$ et $(a_2,b_2)=(5,1)$. Que constate-t-on de différent par rapport à l'exercice précédent ? Expliquer."
   ]
  },
  {
   "cell_type": "markdown",
   "metadata": {
    "deletable": false
   },
   "source": [
    "*Écrire l'explication ici*\n"
   ]
  },
  {
   "cell_type": "markdown",
   "metadata": {
    "deletable": false,
    "editable": false
   },
   "source": [
    "## Portraits de phase avec odeint\n",
    "\n",
    "\n",
    "La fonction `odeint` permet, comme pour une équation différentielle scalaire, de représenter une approximation numérique des solutions d'un système. Par exemple, pour $\\left\\{\\begin{array}{l}x'=x\\\\ y'=-2y\\end{array}\\right.$:"
   ]
  },
  {
   "cell_type": "code",
   "execution_count": null,
   "metadata": {
    "deletable": false,
    "editable": false
   },
   "outputs": [],
   "source": [
    "from scipy.integrate import odeint\n",
    "\n",
    "F = lambda u, t: [u[0], -2 * u[1]]  # ici u est le 2-vecteur (x,y)\n",
    "\n",
    "xmin, xmax, ymin, ymax = -10, 10, -5, 5\n",
    "\n",
    "t = np.linspace(0, 3, 35) \n",
    "\n",
    "@interact(x=(-5, 5, .5), y=(-5, 5, .5))\n",
    "def dyn_soution(x, y):\n",
    "    champ_normalise(F, xmin, xmax, ymin, ymax, t)\n",
    "    plt.axis([-10, 10, -5, 5])\n",
    "    v = odeint(F, [x, y], t)  # la partie de la courbe pour t dans [0,3]\n",
    "    plt.plot(v[:, 0], v[:, 1], \"b\")\n",
    "    v = odeint(F, [x, y], -t)  # la partie de la courbe pour t dans [-3,0]\n",
    "    plt.plot(v[:, 0], v[:, 1], \"b\")\n",
    "    plt.plot(x, y, 'or')\n",
    "    plt.title(f\"x(0)={x:4.1f}, y(0)={y:4.1f}\")\n",
    "    plt.show()"
   ]
  },
  {
   "cell_type": "markdown",
   "metadata": {
    "deletable": false,
    "editable": false
   },
   "source": [
    "### Exercice 3\n",
    "\n",
    "On considère le système différentiel linéaire $V'=AV$ pour $A=\\left(\\begin{array}{cc}0&1\\\\-2&-3\\end{array}\\right)$."
   ]
  },
  {
   "cell_type": "markdown",
   "metadata": {
    "deletable": false,
    "editable": false
   },
   "source": [
    "**a)**  Créer un graphique dynamique qui :\n",
    "- est tracé dans le plan de phase $(x,y)$ limité à $[-15,15]\\times[-15,15]$,\n",
    "- a pour paramètres $x_0$ et $y_0$, les coordonnés de $U(t_0)$,\n",
    "- représente le champ de vecteurs normalisé des vitesses $V'$,\n",
    "- trace la solution $V$ obtenus par `odeint` en fonction du choix dynamique des paramètres $x_0$ et $y_0$,\n",
    "- ainsi qu'un point de coordonné $(x_k(0),y_k(0))$.\n",
    "\n",
    "**Note:** Vous pouvez créer une fonction `trace_courbe(F,v0,t)` qui fait les deux derniers points de la liste, car on aura besoin par la suite des mêmes opérations."
   ]
  },
  {
   "cell_type": "code",
   "execution_count": null,
   "metadata": {
    "deletable": false
   },
   "outputs": [],
   "source": []
  },
  {
   "cell_type": "markdown",
   "metadata": {
    "deletable": false,
    "editable": false
   },
   "source": [
    "**b)** Déterminer les valeurs propres et les sous-espaces propres de $A$ *(à l'aide de la fonction `eig` de la bibliothèque `linalg`)*. Puis représenter le graphique dynamique de la question précédente en y ajoutant ces sous-espaces propres."
   ]
  },
  {
   "cell_type": "code",
   "execution_count": null,
   "metadata": {
    "deletable": false
   },
   "outputs": [],
   "source": [
    "from numpy import linalg as la\n",
    "\n"
   ]
  },
  {
   "cell_type": "markdown",
   "metadata": {
    "deletable": false,
    "editable": false
   },
   "source": [
    "### Exercice 4\n",
    "\n",
    "**a)** On définit la fonction $f$ sur $\\mathbb{R}$ par\n",
    "  $$\n",
    "    f(u)=\n",
    "      \\begin{cases}\n",
    "        e^{-1/u} & \\text{si } u>0 \\\\ \n",
    "        0        & \\text{si } u\\le 0\n",
    "      \\end{cases}\n",
    "  $$\n",
    "Représentez-la graphiquement.\n"
   ]
  },
  {
   "cell_type": "code",
   "execution_count": null,
   "metadata": {
    "deletable": false
   },
   "outputs": [],
   "source": []
  },
  {
   "cell_type": "markdown",
   "metadata": {
    "deletable": false,
    "editable": false
   },
   "source": [
    "**b)** Représenter dynamiquement, en fonction des conditions initiales $(x_0,y_0)$ au temps $t=0$, le portrait de phase du système différentiel\n",
    "$$\n",
    "    \\begin{cases}\n",
    "      x' =  y -x f(x^2+y^2)&\\\\\n",
    "      y' = -x -y f(x^2+y^2)&\n",
    "    \\end{cases}\n",
    ".\n",
    "$$\n",
    "dans la fenêtre $x\\in[-3;3]$, $y\\in[-3;3]$ pour $t$ variant de $0$ à $20$ ainsi que son champ de vitesses normalisé."
   ]
  },
  {
   "cell_type": "code",
   "execution_count": null,
   "metadata": {
    "deletable": false
   },
   "outputs": [],
   "source": []
  },
  {
   "cell_type": "markdown",
   "metadata": {
    "deletable": false,
    "editable": false
   },
   "source": [
    "**c)** Ce système est, au voisinage de l'origine, une petite perturbation du système de l'exercice 1 : comparer les deux portraits de phase."
   ]
  },
  {
   "cell_type": "markdown",
   "metadata": {
    "deletable": false
   },
   "source": []
  },
  {
   "cell_type": "markdown",
   "metadata": {
    "deletable": false,
    "editable": false
   },
   "source": [
    "## Lignes de niveaux\n",
    "\n",
    "Même sans calculer explicitement les solutions, on peut avoir des informations sur l'allure des solutions : c'est le cas par exemple lorsqu'on sait que les trajectoires des solutions dans le plan de phase sont incluses dans les lignes de niveaux $\\{(x,y)\\ |\\ g(x,y)=c\\}$ d'une fonction $g$ de deux variables. Par exemple, voici comment tracer ces lignes de niveaux à l'aide de `plt.contour` pour la fonction $g(x,y)=x^2+7y^2(1+\\mathrm{arctan}(\\sin x))$:"
   ]
  },
  {
   "cell_type": "code",
   "execution_count": null,
   "metadata": {
    "deletable": false,
    "editable": false
   },
   "outputs": [],
   "source": [
    "# La fonction dont on va tracer les courbes de niveaux\n",
    "g = lambda x, y: x * x + 7 * y * y * (1 + np.arctan(np.sin(x)))\n",
    "\n",
    "# la fonction qui trace les courbes où C est le tableau avec les valeurs des niveaux\n",
    "def tracer_lignes_niveaux(g, xmin, xmax, ymin, ymax, C, N=500):\n",
    "    x = np.linspace(xmin, xmax, N)\n",
    "    y = np.linspace(ymin, ymax, N)\n",
    "    zz = g(*np.meshgrid(x, y))\n",
    "    lignes_niveau = plt.contour(x, y, zz, levels=C)\n",
    "    plt.clabel(lignes_niveau, C, fmt='%.1f')\n",
    "\n",
    "# trace 5 niveaux antre 1 et 15\n",
    "tracer_lignes_niveaux(g, -4, 4, -3, 3, np.linspace(1, 15, 5))\n",
    "plt.show()"
   ]
  },
  {
   "cell_type": "markdown",
   "metadata": {
    "deletable": false,
    "editable": false
   },
   "source": [
    "### Exercice 5\n",
    "\n",
    "On considère l'équation différentielle\n",
    "$$\n",
    "    y''=-y-y^3.\n",
    "$$\n",
    "\n",
    "**a)** L'écrire sous la forme d'un système différentiel d'ordre 1. Représenter le champ de vecteurs associé dans la fenêtre $x\\in[-10;10]$, $y\\in[-10;10]$.\n"
   ]
  },
  {
   "cell_type": "code",
   "execution_count": null,
   "metadata": {
    "deletable": false
   },
   "outputs": [],
   "source": []
  },
  {
   "cell_type": "markdown",
   "metadata": {
    "deletable": false,
    "editable": false
   },
   "source": [
    "**b)** Soit\n",
    "$$\n",
    "  g(x,y)=2x^2+x^4+2y^2.\n",
    "$$\n",
    "Montrer que, pour toute solution $\\varphi$ sur $J\\subset \\mathbb{R}$, la valeur de $\\ g(\\varphi(t),\\varphi'(t))$ est constante $\\forall t\\in J$."
   ]
  },
  {
   "cell_type": "markdown",
   "metadata": {
    "deletable": false
   },
   "source": [
    "*Écrire la preuve ici*\n"
   ]
  },
  {
   "cell_type": "markdown",
   "metadata": {
    "deletable": false,
    "editable": false
   },
   "source": [
    "**c)** Sur la même figure tracer\n",
    "- les lignes de niveaux de la fonction $g$ pour $c\\in \\{10, 80, 180\\}$\n",
    "- le tracé des solutions correspondant aux conditions initiales\n",
    "$$\n",
    "  (y(0),y'(0)) \\in \\{(-2,2), (-1,0.5), (3,4) \\}.\n",
    "$$"
   ]
  },
  {
   "cell_type": "code",
   "execution_count": null,
   "metadata": {
    "deletable": false
   },
   "outputs": [],
   "source": []
  }
 ],
 "metadata": {
  "kernelspec": {
   "display_name": "Python 3",
   "language": "python",
   "name": "python3"
  },
  "language_info": {
   "codemirror_mode": {
    "name": "ipython",
    "version": 3
   },
   "file_extension": ".py",
   "mimetype": "text/x-python",
   "name": "python",
   "nbconvert_exporter": "python",
   "pygments_lexer": "ipython3",
   "version": "3.7.6"
  }
 },
 "nbformat": 4,
 "nbformat_minor": 2
}