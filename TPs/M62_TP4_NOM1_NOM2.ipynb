{
 "cells": [
  {
   "cell_type": "markdown",
   "metadata": {
    "deletable": false,
    "editable": false
   },
   "source": [
    "![Département de Mathématiques](https://ktzanev.github.io/logolabopp/ul-fst-math/ul-fst-math_100.gif)\n",
    "\n",
    "# TP 4 - Écologie des populations\n",
    "\n",
    "Dans ce TP, on s'intéresse à l'évolution de deux espèces qui sont en compétition pour l'accès aux ressources vitales. On peut penser par exemple à deux variétés de [sternes](https://fr.wikipedia.org/wiki/Sterne) sur un même île qui seraient en compétition pour l'accès à la nourriture et aux lieux de nidation.\n",
    "\n",
    "On notera $x$ et $y$ les densités de population et on écrira le système différentiel sous la forme :\n",
    "$$\n",
    "    \\begin{cases}\n",
    "        x'=f_1(x,y),& \\\\\n",
    "        y'=f_2(x,y),&\n",
    "    \\end{cases}\n",
    "    \\text{ où }\n",
    "    \\begin{cases}\n",
    "        f_1(x,y)=x(K_1-x-\\alpha y)/K_1,&\\\\\n",
    "        f_2(x,y)= y(K_2-\\beta x-y)/K_2,&\n",
    "    \\end{cases}\n",
    "$$\n",
    "avec $\\alpha,\\beta\\in ]0,1]$ et $K_1,K_2>0$.\n",
    "\n",
    "On considère des conditions initiales $(x_0,y_0)$, au temps $t=0$, telles que $x_0, y_0 \\geq 0$.\n",
    "\n",
    "De plus on considère l'ensemble\n",
    "$$\n",
    "    Q=\\bigg]0, \\dfrac{K_2}{\\beta}\\bigg[ \\times \\bigg]0, \\dfrac{K_1}{\\alpha}\\bigg[.\n",
    "$$\n"
   ]
  },
  {
   "cell_type": "code",
   "execution_count": null,
   "metadata": {
    "deletable": false,
    "editable": false
   },
   "outputs": [],
   "source": [
    "import numpy as np\n",
    "import matplotlib.pyplot as plt\n",
    "from mpl_toolkits.mplot3d import Axes3D"
   ]
  },
  {
   "cell_type": "markdown",
   "metadata": {
    "deletable": false,
    "editable": false
   },
   "source": [
    "1) Montrer que, quel que soit $(x_0,y_0)\\in\\mathbb{R}^2$, le problème de Cauchy admet une unique solution maximale $\\Phi(t)=\\big(x(t),y(t)\\big)$ pour  $t \\in ]T_*,T^*[$.\n",
    "\n",
    "\n"
   ]
  },
  {
   "cell_type": "markdown",
   "metadata": {
    "deletable": false
   },
   "source": [
    "*Écrire la réponse ici ...*\n"
   ]
  },
  {
   "cell_type": "markdown",
   "metadata": {
    "deletable": false,
    "editable": false
   },
   "source": [
    "Puis définissez la fonction `Fconstruct(a, b, K1, K2)` qui construit et renvoie la fonction $F=(f_1,f_2) : \\mathbb{R}^2 \\to \\mathbb{R}^2$ du système pour les paramètres `a, b, K1, K2` correspondants respectivement à $\\alpha, \\beta, K_1, K_2$."
   ]
  },
  {
   "cell_type": "code",
   "execution_count": null,
   "metadata": {
    "deletable": false
   },
   "outputs": [],
   "source": [
    "\n",
    "F = Fconstruct(.5, .5, 100, 100)\n",
    "assert (F(np.zeros(2)) == np.zeros(2)).all(), \"F(0,0)=(0,0)\"\n",
    "assert F([np.zeros(3), np.ones(3)]).shape == (2, 3), \"F doit fonctionner avec des suites de vecteurs\""
   ]
  },
  {
   "cell_type": "markdown",
   "metadata": {
    "deletable": false,
    "editable": false
   },
   "source": [
    "2) Montrer que si $x_0=0$ (resp. $y_0=0$) la solution est de la forme $\\big(0,y(t)\\big)$ (resp. $\\big(x(t),0\\big)$)."
   ]
  },
  {
   "cell_type": "markdown",
   "metadata": {
    "deletable": false
   },
   "source": [
    "*Écrire la réponse ici ...*\n"
   ]
  },
  {
   "cell_type": "markdown",
   "metadata": {
    "deletable": false,
    "editable": false
   },
   "source": [
    "3) En déduire que si $(x_0,y_0)\\in \\big(\\mathbb{R}_+\\big)^2$ alors $\\big(x(t),y(t)\\big)\\in \\big(\\mathbb{R}_+\\big)^2$ pour tout $t\\in ]T_*,T^*[$."
   ]
  },
  {
   "cell_type": "markdown",
   "metadata": {
    "deletable": false
   },
   "source": [
    "*Écrire la réponse ici ...*\n"
   ]
  },
  {
   "cell_type": "markdown",
   "metadata": {
    "deletable": false,
    "editable": false
   },
   "source": [
    "4) Déterminer les courbes $\\ell_1$ et $\\ell_2$ définies respectivement par $f_1(x,y)=0$ et $f_2(x,y)=0$."
   ]
  },
  {
   "cell_type": "markdown",
   "metadata": {
    "deletable": false
   },
   "source": []
  },
  {
   "cell_type": "markdown",
   "metadata": {
    "deletable": false,
    "editable": false
   },
   "source": [
    "5) Déterminer les points d'équilibre du système pour $\\alpha, \\beta \\in ]0,1[$. Comment peut-on interpréter les différents points d'équilibre en terme de cohabitation des espèces ?"
   ]
  },
  {
   "cell_type": "markdown",
   "metadata": {
    "deletable": false
   },
   "source": []
  },
  {
   "cell_type": "markdown",
   "metadata": {
    "deletable": false,
    "editable": false
   },
   "source": [
    "6) Définissez la fonction `stat_trace_phases(a, b, K1, K2)` qui en fonction des paramètres $\\alpha$ = `a`, $\\beta$ = `b`, $K_{1}$ = `K1` et $K_{2}$ = `K2` rajoute au graphique :\n",
    "\n",
    "- le champ des vitesses normalisé (en reprenant la fonction `champ_normalise` des tps précédents),\n",
    "- les courbes $\\ell_1$, $\\ell_2$\n",
    "- les points d'équilibre\n",
    "\n",
    "le tout dans le domaine $[0,250]\\times [0,250]$.\n",
    "\n",
    "Tester cette fonction pour $\\alpha=0.5$, $\\beta=0.2$, $K_1=100$, $K_2=50$."
   ]
  },
  {
   "cell_type": "code",
   "execution_count": null,
   "metadata": {
    "deletable": false
   },
   "outputs": [],
   "source": [
    "\n",
    "# les constantes du problème\n",
    "a, b, K1, K2 = 0.5, 0.2, 100, 50\n",
    "\n",
    "# affichage du graphique\n",
    "stat_trace_phases(a, b, K1, K2)\n",
    "plt.show()"
   ]
  },
  {
   "cell_type": "markdown",
   "metadata": {
    "deletable": false,
    "editable": false
   },
   "source": [
    "7) Identifier les zones dans le domaine $[0,250]^2$ pour lesquelles $x'$ et $y'$ sont de signes constants *(il y a 4 zones à identifier)*."
   ]
  },
  {
   "cell_type": "markdown",
   "metadata": {
    "deletable": false
   },
   "source": [
    "*Écrire la réponse ici ...*\n"
   ]
  },
  {
   "cell_type": "markdown",
   "metadata": {
    "deletable": false,
    "editable": false
   },
   "source": [
    "8) Soit $(x_0,y_0)\\in Q$. Démontrer que $T^*=+\\infty$ puis que toutes les orbites incluses dans $Q$ convergent vers le même point quand $t$ tend vers $+\\infty$. Que peut-on en déduire sur la cohabitation des\n",
    "espèces ?"
   ]
  },
  {
   "cell_type": "markdown",
   "metadata": {
    "deletable": false
   },
   "source": [
    "*Écrire la réponse ici ...*\n"
   ]
  },
  {
   "cell_type": "markdown",
   "metadata": {
    "deletable": false,
    "editable": false
   },
   "source": [
    "9) Pour pouvoir étudier le comportement des solutions on souhaite réaliser une figure dynamique dans laquelle on peut choisir la condition initiale. Pour cela écrie la fonction `dyn_trace_phases(x0,y0)` qui complète le graphique précédent avec la solution ayant comme condition initiales `[x0,y0]`."
   ]
  },
  {
   "cell_type": "code",
   "execution_count": null,
   "metadata": {
    "deletable": false
   },
   "outputs": [],
   "source": [
    "# la bibliothèque qui permet d'utiliser (le décorateur) @interact\n",
    "from ipywidgets import interact, widgets\n",
    "\n",
    "# la bibliothèque qui permet de résoudre numériquement\n",
    "from scipy.integrate import odeint\n",
    "\n",
    "# les constantes du problème\n",
    "a, b, K1, K2 = 0.5, 0.2, 100, 50\n",
    "\n",
    "# l'interval du temps\n",
    "tmin, tmax = 0, 10\n",
    "\n",
    "# on crée la fonction Ft(Y,t) = F(Y) qui sera utilisée par odeint\n",
    "# odeint prend une fonction qui dépend du temps\n",
    "F = Fconstruct(a, b, K1, K2)\n",
    "Ft = lambda Y, t: F(Y)\n",
    "\n",
    "# la création des curseurs avec des paramètres par defaut\n",
    "# on va utiliser ces curseur dans la représentation dynamique\n",
    "slider = lambda mi, ma, val, inc, descr: widgets.FloatSlider(\n",
    "    min=mi,\n",
    "    max=ma,\n",
    "    value=val,\n",
    "    step=inc,\n",
    "    description=descr,\n",
    "    continuous_update=False,  # ne pas redessiner lors des gissements\n",
    "    readout_format='.1f',\n",
    ")\n",
    "\n",
    "# le tracé dynamique\n",
    "@interact(x0=slider(xmin, xmax, 150, 1, r'$x_0$'), \n",
    "          y0=slider(ymin, ymax, 150, 1, r'$y_0$'))\n",
    "def dyn_trace_phases(x0, y0):\n",
    "    # compléter ici avec le code demandé\n",
    "    # les conditions initiales étant [x0,y0]\n"
   ]
  },
  {
   "cell_type": "markdown",
   "metadata": {
    "deletable": false,
    "editable": false
   },
   "source": [
    "10) Reprendre la figure dynamique de la question précédente en y ajoutant des curseurs pour les paramètres $\\alpha \\in ]0,1[$, $\\beta \\in ]0,1[$, $K_1 \\in [0,100]$, $K_2 \\in [0,100]$. Qu'observe-t-on si $K_1 < \\alpha K_2$ ?"
   ]
  },
  {
   "cell_type": "code",
   "execution_count": null,
   "metadata": {
    "deletable": false
   },
   "outputs": [],
   "source": []
  },
  {
   "cell_type": "markdown",
   "metadata": {
    "deletable": false,
    "editable": false
   },
   "source": [
    "Quelle est l'interprétation sur l'évolution des populations ?"
   ]
  },
  {
   "cell_type": "markdown",
   "metadata": {
    "deletable": false
   },
   "source": [
    "*Écrire la réponse ici ...*\n"
   ]
  },
  {
   "cell_type": "markdown",
   "metadata": {
    "deletable": false,
    "editable": false
   },
   "source": [
    "10) Que ce passe t-il pour $\\alpha=1$, $\\beta=1$ ?"
   ]
  },
  {
   "cell_type": "markdown",
   "metadata": {
    "deletable": false
   },
   "source": [
    " *Écrire l'étude théorique ici ...*\n"
   ]
  }
 ],
 "metadata": {
  "kernelspec": {
   "display_name": "Python 3",
   "language": "python",
   "name": "python3"
  },
  "language_info": {
   "codemirror_mode": {
    "name": "ipython",
    "version": 3
   },
   "file_extension": ".py",
   "mimetype": "text/x-python",
   "name": "python",
   "nbconvert_exporter": "python",
   "pygments_lexer": "ipython3",
   "version": "3.7.6"
  }
 },
 "nbformat": 4,
 "nbformat_minor": 2
}