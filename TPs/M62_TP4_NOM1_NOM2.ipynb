{
 "cells": [
  {
   "cell_type": "markdown",
   "metadata": {
    "deletable": false,
    "editable": false
   },
   "source": [
    "![Département de Mathématiques](https://ktzanev.github.io/logolabopp/ul-fst-math/ul-fst-math_100.gif)"
   ]
  },
  {
   "cell_type": "markdown",
   "metadata": {
    "deletable": false
   },
   "source": [
    "*À compléter au début du TP (après avoir renommé le fichier comme indiqué).*\n",
    "\n",
    "- NOM :\n",
    "- Prénom :\n",
    "- N° d'étudiant :\n",
    "- Groupe :\n",
    "- Date et heure de début :"
   ]
  },
  {
   "cell_type": "markdown",
   "metadata": {
    "deletable": false,
    "editable": false
   },
   "source": [
    "# TP 4 - Écologie des populations\n",
    "\n",
    "Dans ce TP, on s'intéresse à l'évolution de deux espèces qui sont en compétition pour l'accès aux ressources vitales. On peut penser par exemple à deux variétés de [sternes](https://fr.wikipedia.org/wiki/Sterne) sur un même île qui seraient en compétition pour l'accès à la nourriture et aux lieux de nidation.\n",
    "\n",
    "On notera $x$ et $y$ les densités de population et on écrira le système différentiel sous la forme :\n",
    "$$\n",
    "    \\begin{cases}\n",
    "        x'=f_1(x,y),& \\\\\n",
    "        y'=f_2(x,y),&\n",
    "    \\end{cases}\n",
    "    \\text{ où }\n",
    "    \\begin{cases}\n",
    "        f_1(x,y)=x(K_1-x-\\alpha y)/K_1,&\\\\\n",
    "        f_2(x,y)= y(K_2-\\beta x-y)/K_2,&\n",
    "    \\end{cases}\n",
    "$$\n",
    "avec $\\alpha,\\beta\\in ]0,1]$ et $K_1,K_2>0$.\n",
    "\n",
    "On considère des conditions initiales $(x_0,y_0)$, au temps $t=0$, telles que $x_0, y_0 \\geq 0$."
   ]
  },
  {
   "cell_type": "markdown",
   "metadata": {
    "deletable": false,
    "editable": false
   },
   "source": [
    "# Partie pratique"
   ]
  },
  {
   "cell_type": "code",
   "execution_count": null,
   "metadata": {
    "deletable": false,
    "editable": false
   },
   "outputs": [],
   "source": [
    "import numpy as np\n",
    "import matplotlib.pyplot as plt"
   ]
  },
  {
   "cell_type": "markdown",
   "metadata": {
    "deletable": false,
    "editable": false
   },
   "source": [
    "1) Définissez la fonction `Fconstruct(a, b, K1, K2)` qui construit et renvoie la fonction $F=(f_1,f_2) : \\mathbb{R}^2 \\to \\mathbb{R}^2$ du système pour les paramètres `a, b, K1, K2` correspondants respectivement à $\\alpha, \\beta, K_1, K_2$. La fonction `F` ainsi construite doit prendre en entrée un `np.array` de dimension $2\\times n$ et retourner un résultat de la même dimension *(assurez-vous qu'elle passe les tests)*."
   ]
  },
  {
   "cell_type": "code",
   "execution_count": null,
   "metadata": {
    "deletable": false
   },
   "outputs": [],
   "source": [
    "\n",
    "# test : en cas d'erreur un message sur la dernière ligne après \"AssertionError:\" indique où est le problème\n",
    "F = Fconstruct(.5, .5, 100, 100) # on crée la fonction F pour les valeurs des paramètres a=b=.5 et K1=K2=100\n",
    "z = np.zeros((2, 3))  # le vecteur [[0,0,0],[0,0,0]]\n",
    "assert type(F(z)) == np.ndarray, f\"Erreur : la valeur retournée doit être de type numpy.ndarray, alors qu'elle est de type {type(F(z))}.\"\n",
    "assert (F(z) == z).all(), f\"Erreur : on doit avoir F([[0,0,0],[0,0,0]]) = [[0,0,0],[0,0,0]], mais on trouve {F(z)}.\"\n",
    "assert F(z).shape == z.shape, f\"Erreur : F applique à un tableau {z.shape} doit retourner un tableau {z.shape}, mais on trouve {F(z).shape}.\"\n",
    "print(\"Bravo. Vous avez réussi les tests.\")"
   ]
  },
  {
   "cell_type": "markdown",
   "metadata": {
    "deletable": false,
    "editable": false
   },
   "source": [
    "2) Déterminer les courbes $\\ell_1$ et $\\ell_2$ définies respectivement par $f_1(x,y)=0$ et $f_2(x,y)=0$. Puis tracer ces mêmes courbes pour les paramètres `a=.4`, `b=.7`, `K1=100` et `K2=150` correspondants à $\\alpha$, $\\beta$, $K_1$ et $K_2$ respectivement, le tout dans le domaine $[0,250]\\times [0,250]$."
   ]
  },
  {
   "cell_type": "markdown",
   "metadata": {
    "deletable": false
   },
   "source": []
  },
  {
   "cell_type": "code",
   "execution_count": null,
   "metadata": {
    "deletable": false
   },
   "outputs": [],
   "source": [
    "# les constantes du problème\n",
    "a, b, K1, K2 = .4, .7, 100, 150\n",
    "# les limites du domaine\n",
    "xmin, xmax, ymin, ymax = 0, 250, 0, 250\n",
    "\n"
   ]
  },
  {
   "cell_type": "markdown",
   "metadata": {
    "deletable": false,
    "editable": false
   },
   "source": [
    "3) Déterminer les points d'équilibre du système pour $\\alpha, \\beta \\in ]0,1[$. Puis, reprendre le graphique précédent *(faire un copier/coller)* en y rajoutant les points d'équilibre."
   ]
  },
  {
   "cell_type": "markdown",
   "metadata": {
    "deletable": false
   },
   "source": []
  },
  {
   "cell_type": "code",
   "execution_count": null,
   "metadata": {
    "deletable": false
   },
   "outputs": [],
   "source": [
    "# les constantes du problème\n",
    "a, b, K1, K2 = .4, .7, 100, 150\n",
    "# les limites du domaine\n",
    "xmin, xmax, ymin, ymax = 0, 250, 0, 250\n",
    "\n"
   ]
  },
  {
   "cell_type": "markdown",
   "metadata": {
    "deletable": false,
    "editable": false
   },
   "source": [
    "4) Définissez la fonction `stat_trace_phases(a, b, K1, K2)` qui en fonction des paramètres $\\alpha$ = `a`, $\\beta$ = `b`, $K_{1}$ = `K1` et $K_{2}$ = `K2` rajoute au graphique&nbsp;:\n",
    "\n",
    "- les courbes $\\ell_1$, $\\ell_2$ *(commme dans la question précédente)*,\n",
    "- les points d'équilibre *(commme dans la question précédente)*,\n",
    "- le champ des vecteurs normalisé *(en reprenant la fonction `champ_normalise` des tps précédents)*,\n",
    "\n",
    "le tout dans le domaine $[0,250]\\times [0,250]$.\n",
    "\n",
    "Tester cette fonction pour $\\alpha=0.4$, $\\beta=0.7$, $K_1=100$, $K_2=150$."
   ]
  },
  {
   "cell_type": "code",
   "execution_count": null,
   "metadata": {
    "deletable": false
   },
   "outputs": [],
   "source": [
    "# les limites du domaine\n",
    "xmin, xmax, ymin, ymax = 0, 250, 0, 250\n",
    "\n",
    "\n",
    "# affichage du graphique\n",
    "stat_trace_phases(.4, .7, 100, 150)\n",
    "plt.show()"
   ]
  },
  {
   "cell_type": "markdown",
   "metadata": {
    "deletable": false,
    "editable": false
   },
   "source": [
    "5) Pour pouvoir étudier le comportement des solutions on souhaite réaliser une figure dynamique dans laquelle on peut choisir la condition initiale. Pour cela écrire la fonction `dyn_trace_phases(x0,y0)` qui complète le graphique précédent avec la solution ayant comme condition initiales `[x0,y0]`."
   ]
  },
  {
   "cell_type": "code",
   "execution_count": null,
   "metadata": {
    "deletable": false
   },
   "outputs": [],
   "source": [
    "# la bibliothèque qui permet d'utiliser (le décorateur) @interact\n",
    "from ipywidgets import interact, widgets\n",
    "\n",
    "# la bibliothèque qui permet de résoudre numériquement l'EDO\n",
    "from scipy.integrate import odeint\n",
    "\n",
    "# les limites du domaine\n",
    "xmin, xmax, ymin, ymax = 0, 250, 0, 250\n",
    "\n",
    "# les constantes du problème\n",
    "a, b, K1, K2 = .4, .7, 100, 150\n",
    "\n",
    "# l'interval du temps\n",
    "tmin, tmax = 0, 100\n",
    "\n",
    "# on crée la fonction Ft(Y,t) = F(Y) qui sera utilisée par odeint\n",
    "# odeint prend une fonction qui dépend du temps\n",
    "F = Fconstruct(a, b, K1, K2)\n",
    "Ft = lambda Y, t: F(Y)\n",
    "\n",
    "# la création des curseurs avec des paramètres par defaut\n",
    "# on va utiliser ces curseur dans la représentation dynamique\n",
    "slider = lambda mi, ma, val, inc, descr: widgets.FloatSlider(\n",
    "    min=mi,\n",
    "    max=ma,\n",
    "    value=val,\n",
    "    step=inc,\n",
    "    description=descr,\n",
    "    continuous_update=False,  # ne pas redessiner lors des gissements\n",
    "    readout_format='.1f',\n",
    ")\n",
    "\n",
    "# le tracé dynamique\n",
    "@interact(x0=slider(xmin, xmax, 150, 1, r'$x_0$'), \n",
    "          y0=slider(ymin, ymax, 150, 1, r'$y_0$'))\n",
    "def dyn_trace_phases(x0, y0):\n",
    "    # compléter ici avec le code demandé\n",
    "    # les conditions initiales étant [x0,y0]\n"
   ]
  },
  {
   "cell_type": "markdown",
   "metadata": {
    "deletable": false,
    "editable": false
   },
   "source": [
    "6) Reprendre la figure dynamique de la question précédente en y ajoutant des curseurs pour les paramètres $\\alpha \\in [0,1]$, $\\beta \\in [0,1]$, $K_1 \\in [0,100]$, $K_2 \\in [0,100]$."
   ]
  },
  {
   "cell_type": "code",
   "execution_count": null,
   "metadata": {
    "deletable": false
   },
   "outputs": [],
   "source": []
  },
  {
   "cell_type": "markdown",
   "metadata": {
    "deletable": false,
    "editable": false
   },
   "source": [
    "# Partie lecture"
   ]
  },
  {
   "cell_type": "markdown",
   "metadata": {
    "deletable": false,
    "editable": false
   },
   "source": [
    "1) Dans le cas $\\alpha=0.4$, $\\beta=0.7$, $K_1=100$, $K_2=150$, quelle est l'interprétation sur l'évolution des populations ?\n",
    "On distinguera les cas où la condition initiale est sur le bord ou à l'intérieur de  $(\\mathbb R_+)^2$."
   ]
  },
  {
   "cell_type": "markdown",
   "metadata": {
    "deletable": false
   },
   "source": []
  },
  {
   "cell_type": "markdown",
   "metadata": {
    "deletable": false,
    "editable": false
   },
   "source": [
    "2) Dans le cas $\\alpha > \\frac{K_2}{K_1}$ (resp. $\\beta > \\frac{K_1}{K_2}$), quelle est l'interprétation sur l'évolution des populations ? Est-ce qu'on peut avoir ces deux cas à la fois ?"
   ]
  },
  {
   "cell_type": "markdown",
   "metadata": {
    "deletable": false
   },
   "source": []
  },
  {
   "cell_type": "markdown",
   "metadata": {
    "deletable": false,
    "editable": false
   },
   "source": [
    "3) Jusqu'ici on avait considéré $\\alpha<1$, $\\beta<1$. Que se passe t-il pour $\\alpha=1$, $\\beta=1$ ? On distinguera les cas $K_1\\neq K_2$ et $K_1=K_2$."
   ]
  },
  {
   "cell_type": "markdown",
   "metadata": {
    "deletable": false
   },
   "source": []
  },
  {
   "cell_type": "markdown",
   "metadata": {
    "deletable": false,
    "editable": false
   },
   "source": [
    "# Partie théorique"
   ]
  },
  {
   "cell_type": "markdown",
   "metadata": {
    "deletable": false,
    "editable": false
   },
   "source": [
    "1) Montrer que, quel que soit $(x_0,y_0)\\in\\mathbb{R}^2$, le problème de Cauchy admet une unique solution maximale $\\Phi(t)=\\big(x(t),y(t)\\big)$ pour  $t \\in ]T_*,T^*[$."
   ]
  },
  {
   "cell_type": "markdown",
   "metadata": {
    "deletable": false
   },
   "source": []
  },
  {
   "cell_type": "markdown",
   "metadata": {
    "deletable": false,
    "editable": false
   },
   "source": [
    "2) Montrer que si $x_0=0$ (resp. $y_0=0$) la solution est de la forme $\\big(0,y(t)\\big)$ (resp. $\\big(x(t),0\\big)$)."
   ]
  },
  {
   "cell_type": "markdown",
   "metadata": {
    "deletable": false
   },
   "source": []
  },
  {
   "cell_type": "markdown",
   "metadata": {
    "deletable": false,
    "editable": false
   },
   "source": [
    "3) En déduire que si $(x_0,y_0)\\in \\big(\\mathbb{R}_+\\big)^2$ alors $\\big(x(t),y(t)\\big)\\in \\big(\\mathbb{R}_+\\big)^2$ pour tout $t\\in ]T_*,T^*[$."
   ]
  },
  {
   "cell_type": "markdown",
   "metadata": {
    "deletable": false
   },
   "source": []
  },
  {
   "cell_type": "markdown",
   "metadata": {
    "deletable": false,
    "editable": false
   },
   "source": [
    "4) Nous avons déjà déterminé les points d'équilibre pour $\\alpha, \\beta \\in ]0,1[$. Sous quelles conditions ces points d'équilibre sont dans $(\\mathbb R_+)^2$ ? Comment peut-on interpréter les différents points d'équilibre en termes de cohabitation des espèces ?"
   ]
  },
  {
   "cell_type": "markdown",
   "metadata": {
    "deletable": false
   },
   "source": []
  },
  {
   "cell_type": "markdown",
   "metadata": {
    "deletable": false,
    "editable": false
   },
   "source": [
    "5) On considère le cas  $K_1> \\alpha K_2 \\text{ et } K_2> \\beta K_1$. Soit $(x_0,y_0)\\in Q$ où\n",
    "$$\n",
    "    Q=\\bigg]\\frac{K_2}{\\beta},0\\bigg[ \\times \\bigg]0, \\frac{K_1}{\\alpha}\\bigg[.\n",
    "$$\n",
    "Démontrer que $T^*=+\\infty$ puis que toutes les orbites incluses dans $Q$ convergent vers le même point quand $t$ tend vers $+\\infty$. Que peut-on en déduire sur la cohabitation des\n",
    "espèces ?"
   ]
  },
  {
   "cell_type": "markdown",
   "metadata": {
    "deletable": false
   },
   "source": []
  }
 ],
 "metadata": {
  "kernelspec": {
   "display_name": "Python 3",
   "language": "python",
   "name": "python3"
  },
  "language_info": {
   "codemirror_mode": {
    "name": "ipython",
    "version": 3
   },
   "file_extension": ".py",
   "mimetype": "text/x-python",
   "name": "python",
   "nbconvert_exporter": "python",
   "pygments_lexer": "ipython3",
   "version": "3.7.6"
  }
 },
 "nbformat": 4,
 "nbformat_minor": 2
}
